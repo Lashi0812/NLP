{
 "cells": [
  {
   "attachments": {},
   "cell_type": "markdown",
   "metadata": {},
   "source": [
    "# Extracting Proper Noun\n",
    "\n",
    "so far we used the pre-trained chunker to get the named-entity ,now we are going to design our own named entity."
   ]
  },
  {
   "cell_type": "code",
   "execution_count": 1,
   "metadata": {},
   "outputs": [],
   "source": [
    "import nltk\n",
    "from nltk.corpus import treebank_chunk\n",
    "from nltk.chunk import RegexpParser"
   ]
  },
  {
   "cell_type": "code",
   "execution_count": 2,
   "metadata": {},
   "outputs": [],
   "source": [
    "def sub_leaves(tree,label):\n",
    "    return [t.leaves() for t in tree.subtrees(lambda s:s.label() == label)]"
   ]
  },
  {
   "attachments": {},
   "cell_type": "markdown",
   "metadata": {},
   "source": [
    "a simple way to get the proper noun ,just by extracting the NNP"
   ]
  },
  {
   "cell_type": "code",
   "execution_count": 3,
   "metadata": {},
   "outputs": [],
   "source": [
    "chunker =RegexpParser(\n",
    "    \"\"\"\n",
    "    NAME : {<NNP>+} \n",
    "    \"\"\"\n",
    ")"
   ]
  },
  {
   "cell_type": "code",
   "execution_count": 4,
   "metadata": {},
   "outputs": [],
   "source": [
    "tree = chunker.parse(treebank_chunk.tagged_sents()[0])"
   ]
  },
  {
   "cell_type": "code",
   "execution_count": 5,
   "metadata": {},
   "outputs": [
    {
     "data": {
      "text/plain": [
       "[[('Pierre', 'NNP'), ('Vinken', 'NNP')], [('Nov.', 'NNP')]]"
      ]
     },
     "execution_count": 5,
     "metadata": {},
     "output_type": "execute_result"
    }
   ],
   "source": [
    "sub_leaves(tree,\"NAME\")"
   ]
  },
  {
   "attachments": {},
   "cell_type": "markdown",
   "metadata": {},
   "source": [
    "Nov is name of the month. suppose we want only the name of person. we can use the use the \"names corpus\""
   ]
  },
  {
   "cell_type": "code",
   "execution_count": 7,
   "metadata": {},
   "outputs": [],
   "source": [
    "from nltk.corpus import names\n",
    "from nltk.chunk import ChunkParserI\n",
    "from nltk.chunk.util import conlltags2tree"
   ]
  },
  {
   "cell_type": "code",
   "execution_count": 8,
   "metadata": {},
   "outputs": [],
   "source": [
    "class PersonChunker(ChunkParserI):\n",
    "    def __init__(self) -> None:\n",
    "        super().__init__()\n",
    "        self.names = set(names.words())\n",
    "        \n",
    "    def parse(self, tokens):\n",
    "        iobs = []\n",
    "        in_person = False\n",
    "        for word,tag in tokens:            \n",
    "            is_name = word in self.names\n",
    "            if is_name and in_person:\n",
    "                iobs.append((word,tag,\"I-PERSON\"))\n",
    "            elif is_name:\n",
    "                iobs.append((word,tag,\"B-PERSON\"))\n",
    "                in_person =True\n",
    "            else:\n",
    "                iobs.append((word,tag,\"O\"))\n",
    "                in_person =False\n",
    "        return conlltags2tree(iobs)"
   ]
  },
  {
   "cell_type": "code",
   "execution_count": 9,
   "metadata": {},
   "outputs": [
    {
     "data": {
      "text/plain": [
       "[[('Pierre', 'NNP')]]"
      ]
     },
     "execution_count": 9,
     "metadata": {},
     "output_type": "execute_result"
    }
   ],
   "source": [
    "chunker = PersonChunker()\n",
    "tree = chunker.parse(treebank_chunk.tagged_sents()[0])\n",
    "sub_leaves(tree,\"PERSON\")"
   ]
  }
 ],
 "metadata": {
  "kernelspec": {
   "display_name": "nlp",
   "language": "python",
   "name": "python3"
  },
  "language_info": {
   "codemirror_mode": {
    "name": "ipython",
    "version": 3
   },
   "file_extension": ".py",
   "mimetype": "text/x-python",
   "name": "python",
   "nbconvert_exporter": "python",
   "pygments_lexer": "ipython3",
   "version": "3.10.9"
  },
  "orig_nbformat": 4,
  "vscode": {
   "interpreter": {
    "hash": "dea56c0b954ae67294c7ca9bf9c057fc748d59d22faedcf3e8a57e0a70ba84c3"
   }
  }
 },
 "nbformat": 4,
 "nbformat_minor": 2
}
