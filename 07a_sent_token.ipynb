{
 "cells": [
  {
   "attachments": {},
   "cell_type": "markdown",
   "metadata": {},
   "source": [
    "# Tokenizing text into sentence"
   ]
  },
  {
   "cell_type": "code",
   "execution_count": 2,
   "metadata": {},
   "outputs": [],
   "source": [
    "import nltk\n",
    "from nltk.tokenize import sent_tokenize"
   ]
  },
  {
   "cell_type": "code",
   "execution_count": 3,
   "metadata": {},
   "outputs": [],
   "source": [
    "para = \"\"\"\n",
    "    Their bowlers, especially spinners, haven't had as many issues. Todd Murphy grabbed seven on debut in Nagpur and Matthew Kuhnemann impressed in phases in Delhi while trapping local man Virat Kohli with an arm ball. Pat Cummins is still in Australia for family reasons, but Starc taking his place and Steven Smith leading the side won't be much of an issue for them. Smith, Marnus Labuschagne, and even Peter Handscomb, after his promising 72* in Delhi, will lead the batting line-up for the face-off against India's spin trio.\n",
    "        \"\"\""
   ]
  },
  {
   "cell_type": "code",
   "execution_count": 4,
   "metadata": {},
   "outputs": [
    {
     "data": {
      "text/plain": [
       "[\"\\n    Their bowlers, especially spinners, haven't had as many issues.\",\n",
       " 'Todd Murphy grabbed seven on debut in Nagpur and Matthew Kuhnemann impressed in phases in Delhi while trapping local man Virat Kohli with an arm ball.',\n",
       " \"Pat Cummins is still in Australia for family reasons, but Starc taking his place and Steven Smith leading the side won't be much of an issue for them.\",\n",
       " \"Smith, Marnus Labuschagne, and even Peter Handscomb, after his promising 72* in Delhi, will lead the batting line-up for the face-off against India's spin trio.\"]"
      ]
     },
     "execution_count": 4,
     "metadata": {},
     "output_type": "execute_result"
    }
   ],
   "source": [
    "sent_tokenize(para)\n",
    "#? sent tokenize is the instance of the PunktSentenceTokenizer.\n"
   ]
  },
  {
   "cell_type": "code",
   "execution_count": 12,
   "metadata": {},
   "outputs": [],
   "source": [
    "tokenizer = nltk.data.load(\"tokenizers/punkt/english.pickle\")\n",
    "#? this file is loaded internally"
   ]
  },
  {
   "cell_type": "code",
   "execution_count": 13,
   "metadata": {},
   "outputs": [
    {
     "data": {
      "text/plain": [
       "[\"\\n    Their bowlers, especially spinners, haven't had as many issues.\",\n",
       " 'Todd Murphy grabbed seven on debut in Nagpur and Matthew Kuhnemann impressed in phases in Delhi while trapping local man Virat Kohli with an arm ball.',\n",
       " \"Pat Cummins is still in Australia for family reasons, but Starc taking his place and Steven Smith leading the side won't be much of an issue for them.\",\n",
       " \"Smith, Marnus Labuschagne, and even Peter Handscomb, after his promising 72* in Delhi, will lead the batting line-up for the face-off against India's spin trio.\"]"
      ]
     },
     "execution_count": 13,
     "metadata": {},
     "output_type": "execute_result"
    }
   ],
   "source": [
    "tokenizer.tokenize(para)"
   ]
  },
  {
   "cell_type": "code",
   "execution_count": null,
   "metadata": {},
   "outputs": [],
   "source": []
  }
 ],
 "metadata": {
  "kernelspec": {
   "display_name": "nlp",
   "language": "python",
   "name": "python3"
  },
  "language_info": {
   "codemirror_mode": {
    "name": "ipython",
    "version": 3
   },
   "file_extension": ".py",
   "mimetype": "text/x-python",
   "name": "python",
   "nbconvert_exporter": "python",
   "pygments_lexer": "ipython3",
   "version": "3.10.9"
  },
  "orig_nbformat": 4,
  "vscode": {
   "interpreter": {
    "hash": "dea56c0b954ae67294c7ca9bf9c057fc748d59d22faedcf3e8a57e0a70ba84c3"
   }
  }
 },
 "nbformat": 4,
 "nbformat_minor": 2
}
