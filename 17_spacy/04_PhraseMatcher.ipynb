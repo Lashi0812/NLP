{
 "cells": [
  {
   "attachments": {},
   "cell_type": "markdown",
   "metadata": {},
   "source": [
    "# PhraseMatcher"
   ]
  },
  {
   "cell_type": "code",
   "execution_count": 8,
   "metadata": {},
   "outputs": [],
   "source": [
    "import spacy\n",
    "from spacy.matcher import PhraseMatcher\n",
    "from spacy import attrs\n",
    "nlp = spacy.load(\"en_core_web_md\")"
   ]
  },
  {
   "cell_type": "code",
   "execution_count": 3,
   "metadata": {},
   "outputs": [],
   "source": [
    "matcher  = PhraseMatcher(vocab=nlp.vocab)"
   ]
  },
  {
   "cell_type": "code",
   "execution_count": 4,
   "metadata": {},
   "outputs": [],
   "source": [
    "terms = [\"Angela Merkel\", \"Donald Trump\", \"Alexis Tsipras\"]\n",
    "pattern = [nlp.make_doc(term) \n",
    "           for term in terms]\n",
    "\n",
    "#? we only used make_doc this will internally use the tokenizer \n",
    "#? we dont need to use whole pipe\n",
    "#! nlp(term) this will use the whole pipe , that we dont need."
   ]
  },
  {
   "cell_type": "code",
   "execution_count": 5,
   "metadata": {},
   "outputs": [],
   "source": [
    "matcher.add(key=\"politicList\",docs=pattern)"
   ]
  },
  {
   "cell_type": "code",
   "execution_count": 6,
   "metadata": {},
   "outputs": [],
   "source": [
    "doc = nlp(\n",
    "    \"\"\"3 EU leaders met in Berlin. German chancellor Angela Merkel first welcomed \\\n",
    "        the US president Donald Trump. The  following day Alexis Tsipras joined \\\n",
    "        them in Brandenburg.\n",
    "    \"\"\"\n",
    ")\n",
    "matches = matcher(doclike=doc,as_spans=True)"
   ]
  },
  {
   "cell_type": "code",
   "execution_count": 7,
   "metadata": {},
   "outputs": [
    {
     "name": "stdout",
     "output_type": "stream",
     "text": [
      "Angela Merkel\n",
      "Donald Trump\n",
      "Alexis Tsipras\n"
     ]
    }
   ],
   "source": [
    "for span in matches:\n",
    "    print(span.text)"
   ]
  },
  {
   "attachments": {},
   "cell_type": "markdown",
   "metadata": {},
   "source": [
    "# ip matching"
   ]
  },
  {
   "cell_type": "code",
   "execution_count": 9,
   "metadata": {},
   "outputs": [],
   "source": [
    "matcher = PhraseMatcher(vocab=nlp.vocab,attr=attrs.SHAPE)\n",
    "ip_nums = [\"127.0.0.0\",\"127.256.0.0\"]\n",
    "pattern = [nlp.make_doc(ip)\n",
    "           for ip in ip_nums]"
   ]
  },
  {
   "cell_type": "code",
   "execution_count": 15,
   "metadata": {},
   "outputs": [],
   "source": [
    "matcher.add(\"ips\",pattern)"
   ]
  },
  {
   "cell_type": "code",
   "execution_count": 16,
   "metadata": {},
   "outputs": [],
   "source": [
    "doc = nlp(\"This log contains the following IP addresses: \\\n",
    "    192.1.1.1 and 192.12.1.1 and 192.160.1.1 .\")"
   ]
  },
  {
   "cell_type": "code",
   "execution_count": 17,
   "metadata": {},
   "outputs": [
    {
     "name": "stdout",
     "output_type": "stream",
     "text": [
      "192.1.1.1\n",
      "192.160.1.1\n"
     ]
    }
   ],
   "source": [
    "matches = matcher(doc,as_spans=True)\n",
    "for span in matches:\n",
    "    print(span.text)"
   ]
  },
  {
   "cell_type": "code",
   "execution_count": null,
   "metadata": {},
   "outputs": [],
   "source": []
  }
 ],
 "metadata": {
  "kernelspec": {
   "display_name": "nlp",
   "language": "python",
   "name": "python3"
  },
  "language_info": {
   "codemirror_mode": {
    "name": "ipython",
    "version": 3
   },
   "file_extension": ".py",
   "mimetype": "text/x-python",
   "name": "python",
   "nbconvert_exporter": "python",
   "pygments_lexer": "ipython3",
   "version": "3.10.9"
  },
  "orig_nbformat": 4
 },
 "nbformat": 4,
 "nbformat_minor": 2
}
