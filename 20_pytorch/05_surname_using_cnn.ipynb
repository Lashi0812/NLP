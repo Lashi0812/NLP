{
 "cells": [
  {
   "cell_type": "code",
   "execution_count": 23,
   "metadata": {},
   "outputs": [],
   "source": [
    "# inbuilt\n",
    "from argparse import Namespace\n",
    "from collections import Counter,OrderedDict\n",
    "from functools import partial\n",
    "\n",
    "# torch\n",
    "import torch\n",
    "from torch import nn\n",
    "from torch import optim\n",
    "from torch.utils.data import DataLoader,default_collate\n",
    "from torch.utils.data.backward_compatibility import worker_init_fn\n",
    "## torch others\n",
    "from torchdata import datapipes as dp\n",
    "from torchtext import vocab\n",
    "from torchmetrics import Accuracy\n",
    "\n",
    "# manipulation\n",
    "import numpy as np\n",
    "\n",
    "# visual\n",
    "import matplotlib.pyplot as plt\n",
    "\n",
    "# others\n",
    "from tqdm import tqdm\n"
   ]
  },
  {
   "cell_type": "code",
   "execution_count": 2,
   "metadata": {},
   "outputs": [],
   "source": [
    "args = Namespace(\n",
    "    # data \n",
    "    ## flag\n",
    "    use_split_data = True,\n",
    "    ## path and filenames\n",
    "    data_base_path = \"../data/surnames/\",\n",
    "    data_filename = \"surnames.csv\",\n",
    "    split_weights = {\"train\":0.7,\"test\":0.15,\"val\":0.15},\n",
    "    \n",
    "    # vocab\n",
    "    ukn_tkn = \"@\",\n",
    "    \n",
    "    # training parameter\n",
    "    num_epochs = 100,\n",
    "    batch_size = 64,\n",
    "    learning_rate = 0.001,\n",
    "    early_stopping_criteria = 5,\n",
    "    seed = 1424,\n",
    "    \n",
    "    # model\n",
    "    num_channels = 256,    \n",
    "    ## path and file\n",
    "    model_base_path = \"../models/surnames/\",\n",
    "    model_filename = \"cnn_model.pth\",\n",
    "    \n",
    "    # runtime options\n",
    "    cuda = torch.cuda.is_available(),\n",
    "    device = \"cuda\" if torch.cuda.is_available() else \"cpu\",\n",
    ")"
   ]
  },
  {
   "attachments": {},
   "cell_type": "markdown",
   "metadata": {},
   "source": [
    "# Data pipes"
   ]
  },
  {
   "attachments": {},
   "cell_type": "markdown",
   "metadata": {},
   "source": [
    "## Create the datapipes"
   ]
  },
  {
   "cell_type": "code",
   "execution_count": 3,
   "metadata": {},
   "outputs": [],
   "source": [
    "def create_pipes_dict(args):\n",
    "    pipe_dict = {}\n",
    "    for fname in args.split_weights.keys():\n",
    "        pipe_dict[fname] = dp.iter.FileOpener([args.data_base_path+f\"{fname}.csv\"]).parse_csv()\n",
    "    \n",
    "    return pipe_dict"
   ]
  },
  {
   "cell_type": "code",
   "execution_count": 4,
   "metadata": {},
   "outputs": [
    {
     "data": {
      "text/plain": [
       "{'train': CSVParserIterDataPipe,\n",
       " 'test': CSVParserIterDataPipe,\n",
       " 'val': CSVParserIterDataPipe}"
      ]
     },
     "execution_count": 4,
     "metadata": {},
     "output_type": "execute_result"
    }
   ],
   "source": [
    "pipes_dict = create_pipes_dict(args)\n",
    "pipes_dict"
   ]
  },
  {
   "attachments": {},
   "cell_type": "markdown",
   "metadata": {},
   "source": [
    "## Create vocab dict"
   ]
  },
  {
   "cell_type": "code",
   "execution_count": 5,
   "metadata": {},
   "outputs": [],
   "source": [
    "def surname_token_fn(row):\n",
    "    return row[0]\n",
    "\n",
    "def nation_token_fn(row):\n",
    "    return [row[1]]"
   ]
  },
  {
   "cell_type": "code",
   "execution_count": 6,
   "metadata": {},
   "outputs": [],
   "source": [
    "def create_vocab_dict(train_pipe,args=args):\n",
    "    surname_token = train_pipe.map(surname_token_fn)\n",
    "    counter = Counter()\n",
    "    max_length = -1\n",
    "    for token in surname_token:\n",
    "        max_length = max(max_length,len(token))\n",
    "        counter.update(token)\n",
    "    sorted_by_freq_tuples = sorted(counter.items(),key= lambda kf :(-kf[1],kf[0]))\n",
    "    order_dict = OrderedDict(sorted_by_freq_tuples)\n",
    "    surname_vocab = vocab.vocab(ordered_dict=order_dict,\n",
    "                                specials=[args.ukn_tkn])\n",
    "    surname_vocab.set_default_index(surname_vocab[args.ukn_tkn])\n",
    "    surname_vocab.max_length = max_length\n",
    "    \n",
    "    nation_token = train_pipe.map(nation_token_fn)\n",
    "    nation_vocab = vocab.build_vocab_from_iterator(nation_token)\n",
    "    \n",
    "    return {\"surname\":surname_vocab,\n",
    "            \"nation\":nation_vocab}"
   ]
  },
  {
   "cell_type": "code",
   "execution_count": 7,
   "metadata": {},
   "outputs": [],
   "source": [
    "vocab_dict = create_vocab_dict(pipes_dict[\"train\"])"
   ]
  },
  {
   "attachments": {},
   "cell_type": "markdown",
   "metadata": {},
   "source": [
    "## create dataset_dict"
   ]
  },
  {
   "cell_type": "code",
   "execution_count": 8,
   "metadata": {},
   "outputs": [],
   "source": [
    "def vectorize(surname,surname_vocab):\n",
    "    vector = np.zeros(shape=(len(surname_vocab),surname_vocab.max_length),\n",
    "                      dtype=np.float32)\n",
    "    for idx,char in enumerate(surname):\n",
    "        char_idx = surname_vocab.lookup_indices([char])[-1]\n",
    "        vector[char_idx,idx] = 1\n",
    "    \n",
    "    return vector   \n",
    "\n",
    "\n",
    "def create_input_output_dict(vocab_dict,row):\n",
    "    surname_matrix = vectorize(row[0],vocab_dict[\"surname\"])\n",
    "    nation_idx = vocab_dict[\"nation\"].lookup_indices([row[1]])[-1]\n",
    "    return {\"x\":surname_matrix,\n",
    "            \"y\":nation_idx}"
   ]
  },
  {
   "cell_type": "code",
   "execution_count": 9,
   "metadata": {},
   "outputs": [],
   "source": [
    "def create_dataset_dict(pipes_dict,vocab_dict,args=args):\n",
    "    dataset_dict = {}\n",
    "    fn = partial(create_input_output_dict,vocab_dict)\n",
    "    for key,pipe in pipes_dict.items():\n",
    "        if key == \"train\":\n",
    "            pipe = pipe.shuffle()\n",
    "        pipe = pipe.map(fn)\n",
    "        pipe = pipe.batch(args.batch_size,drop_last=True) \n",
    "        dataset_dict[key] = pipe\n",
    "    \n",
    "    return dataset_dict             "
   ]
  },
  {
   "cell_type": "code",
   "execution_count": 10,
   "metadata": {},
   "outputs": [],
   "source": [
    "dataset_dict = create_dataset_dict(pipes_dict,vocab_dict)"
   ]
  },
  {
   "attachments": {},
   "cell_type": "markdown",
   "metadata": {},
   "source": [
    "## Generate batches"
   ]
  },
  {
   "cell_type": "code",
   "execution_count": 11,
   "metadata": {},
   "outputs": [],
   "source": [
    "def collate_fn(args,x):\n",
    "    return {k:v.to(args.device)\n",
    "            for x_ in default_collate(x)\n",
    "            for k,v in x_.items()}"
   ]
  },
  {
   "cell_type": "code",
   "execution_count": 12,
   "metadata": {},
   "outputs": [],
   "source": [
    "def generate_batches(dataset,args=args,shuffle=False):\n",
    "    dataloader = DataLoader(dataset=dataset,\n",
    "                            batch_size=args.batch_size,\n",
    "                            shuffle=shuffle,\n",
    "                            worker_init_fn=worker_init_fn,\n",
    "                            collate_fn=partial(collate_fn,args))\n",
    "    for batch in dataloader:\n",
    "        yield batch"
   ]
  },
  {
   "attachments": {},
   "cell_type": "markdown",
   "metadata": {},
   "source": [
    "# Model"
   ]
  },
  {
   "cell_type": "code",
   "execution_count": 19,
   "metadata": {},
   "outputs": [],
   "source": [
    "class SurnameClassifier(nn.Module):\n",
    "    def __init__(self,initial_num_channels,num_classes,num_channels) -> None:\n",
    "        super().__init__()\n",
    "        self.convnet =  nn.Sequential(\n",
    "            nn.Conv1d(in_channels=initial_num_channels,\n",
    "                      out_channels=num_channels,\n",
    "                      kernel_size=3),\n",
    "            nn.ELU(),\n",
    "            nn.Conv1d(in_channels=num_channels,\n",
    "                      out_channels=num_channels,\n",
    "                      kernel_size=3,\n",
    "                      stride=2),\n",
    "            nn.ELU(),\n",
    "            nn.Conv1d(in_channels=num_channels,\n",
    "                      out_channels=num_channels,\n",
    "                      kernel_size=3,\n",
    "                      stride=2),\n",
    "            nn.ELU(),\n",
    "            nn.Conv1d(in_channels=num_channels,\n",
    "                      out_channels=num_channels,\n",
    "                      kernel_size=3),\n",
    "            nn.ELU(),\n",
    "        )\n",
    "        self.fc = nn.Linear(num_channels,num_classes)\n",
    "     \n",
    "     \n",
    "    def forward(self,input,apply_softmax=False):\n",
    "        features = self.convnet(input).squeeze(dim=2)\n",
    "        prediction_vector = self.fc(features)\n",
    "        if apply_softmax:\n",
    "            prediction_vector = torch.softmax(prediction_vector,dim=1)\n",
    "            \n",
    "        return prediction_vector"
   ]
  },
  {
   "attachments": {},
   "cell_type": "markdown",
   "metadata": {},
   "source": [
    "# Training "
   ]
  },
  {
   "attachments": {},
   "cell_type": "markdown",
   "metadata": {},
   "source": [
    "## Helper function"
   ]
  },
  {
   "cell_type": "code",
   "execution_count": 14,
   "metadata": {},
   "outputs": [],
   "source": [
    "def make_train_state(args=args):\n",
    "    return {\"stop_early\":False,\n",
    "            \"early_stopping_step\":0,\n",
    "            \"early_stopping_val\":1e8,\n",
    "            \"learning_rate\":args.learning_rate,\n",
    "            \"epoch_index\":0,\n",
    "            \"model_filename\":args.model_base_path+args.model_filename,\n",
    "            \"train_loss\":[],\n",
    "            \"train_acc\":[],\n",
    "            \"val_loss\":[],\n",
    "            \"val_acc\":[],\n",
    "            \"test_loss\":-1,\n",
    "            \"test_acc\":-1}\n",
    "    \n",
    "def update_train_state(train_state,model,args=args):\n",
    "    if train_state[\"epoch_index\"] == 0:\n",
    "        torch.save(model.state_dict(),train_state[\"model_filename\"])\n",
    "        train_state[\"stop_early\"] = False\n",
    "        \n",
    "    elif train_state[\"epoch_index\"] >= 1:\n",
    "        loss_tm1,loss_t = train_state[\"val_loss\"][-2:]\n",
    "        if loss_t >=  train_state[\"early_stopping_val\"]:\n",
    "            train_state[\"early_stopping_step\"] += 1\n",
    "        else:\n",
    "            torch.save(model.state_dict(),train_state[\"model_filename\"])\n",
    "            train_state[\"early_stopping_step\"] = 0 \n",
    "            \n",
    "        train_state[\"stop_early\"] = train_state[\"early_stopping_step\"] >= args.early_stopping_criteria\n",
    "    return train_state"
   ]
  },
  {
   "cell_type": "code",
   "execution_count": 15,
   "metadata": {},
   "outputs": [],
   "source": [
    "def set_seed_everywhere(seed,cuda):\n",
    "    np.random.seed(seed)\n",
    "    torch.manual_seed(seed)\n",
    "    if cuda:\n",
    "        torch.cuda.manual_seed_all(seed)\n",
    "        \n",
    "set_seed_everywhere(args.seed,args.cuda)"
   ]
  },
  {
   "attachments": {},
   "cell_type": "markdown",
   "metadata": {},
   "source": [
    "## initialize"
   ]
  },
  {
   "cell_type": "code",
   "execution_count": 16,
   "metadata": {},
   "outputs": [],
   "source": [
    "nation_count = torch.load(args.data_base_path+\"count.pth\")"
   ]
  },
  {
   "cell_type": "code",
   "execution_count": 21,
   "metadata": {},
   "outputs": [],
   "source": [
    "class_weights = 1.0/torch.tensor(list(nation_count.values()),dtype=torch.float32).to(args.device)\n",
    "classifier = SurnameClassifier(initial_num_channels=len(vocab_dict[\"surname\"]),\n",
    "                               num_classes=len(vocab_dict[\"nation\"]),\n",
    "                               num_channels=args.num_channels).to(args.device)\n",
    "loss_fn = nn.CrossEntropyLoss(weight=class_weights)\n",
    "acc_fn = Accuracy(task=\"multiclass\",num_classes=len(class_weights)).to(args.device)\n",
    "optimizer = optim.Adam(params=classifier.parameters(),\n",
    "                       lr=args.learning_rate)\n",
    "scheduler = optim.lr_scheduler.ReduceLROnPlateau(optimizer=optimizer,\n",
    "                                                 mode=\"min\",factor=0.5,\n",
    "                                                 patience=1)\n",
    "train_state = make_train_state(args)"
   ]
  },
  {
   "attachments": {},
   "cell_type": "markdown",
   "metadata": {},
   "source": [
    "## Train loop"
   ]
  },
  {
   "cell_type": "code",
   "execution_count": 22,
   "metadata": {},
   "outputs": [
    {
     "name": "stderr",
     "output_type": "stream",
     "text": [
      "100%|██████████| 100/100 [01:40<00:00,  1.00s/it]\n"
     ]
    }
   ],
   "source": [
    "for epoch_index in tqdm(range(args.num_epochs)):\n",
    "    train_state[\"epoch_index\"] = epoch_index\n",
    "    \n",
    "    # init the running variable\n",
    "    running_loss = 0.0\n",
    "    running_acc = 0.0\n",
    "    \n",
    "    # get the train dataloader\n",
    "    batch_generator = generate_batches(dataset=dataset_dict[\"train\"],\n",
    "                                       args=args,shuffle=True)\n",
    "    \n",
    "    # put the model in training mode\n",
    "    classifier.train()\n",
    "    \n",
    "    for batch_idx,batch_dict in enumerate(batch_generator):\n",
    "        optimizer.zero_grad()\n",
    "        logits = classifier(batch_dict[\"x\"])\n",
    "        # compute the loss per batch\n",
    "        loss = loss_fn(logits,batch_dict[\"y\"])\n",
    "        loss_t = loss.item()\n",
    "        running_loss += (loss_t - running_loss) / (batch_idx+1)\n",
    "        \n",
    "        # compute the acc per batch\n",
    "        acc = acc_fn(logits,batch_dict[\"y\"])\n",
    "        acc_t = acc.item()\n",
    "        running_acc += (acc_t - running_acc) / (batch_idx+1)\n",
    "        \n",
    "        loss.backward()\n",
    "        \n",
    "        optimizer.step()\n",
    "        \n",
    "    train_state[\"train_loss\"].append(running_loss)\n",
    "    train_state[\"train_acc\"].append(running_acc)\n",
    "    \n",
    "    # iterate over the val dataset\n",
    "    \n",
    "    # init the running variable\n",
    "    running_loss = 0.0\n",
    "    running_acc = 0.0\n",
    "    \n",
    "    # get the val dataloader\n",
    "    batch_generator  = generate_batches(dataset=dataset_dict[\"val\"],\n",
    "                                        args=args,shuffle=False)\n",
    "    \n",
    "    # put the model in eval mode\n",
    "    classifier.eval()\n",
    "    \n",
    "    for batch_idx,batch_dict in enumerate(batch_generator):\n",
    "        with torch.inference_mode():\n",
    "            logits = classifier(batch_dict[\"x\"])\n",
    "            \n",
    "            # compute the loss\n",
    "            loss = loss_fn(logits,batch_dict[\"y\"])\n",
    "            loss_t = loss.item()\n",
    "            running_loss += (loss_t-running_loss) /(batch_idx+1)\n",
    "            \n",
    "            # compute the acc\n",
    "            acc = acc_fn(logits,batch_dict[\"y\"])\n",
    "            acc_t = acc.item()\n",
    "            running_acc += (acc_t-running_acc) /(batch_idx+1)\n",
    "            \n",
    "    train_state[\"val_loss\"].append(running_loss)\n",
    "    train_state[\"val_acc\"].append(running_acc)\n",
    "    \n",
    "    \n",
    "    train_state = update_train_state(train_state=train_state,\n",
    "                                     model=classifier,\n",
    "                                     args=args)\n",
    "    \n",
    "    scheduler.step(train_state[\"val_loss\"][-1])\n",
    "    if train_state[\"stop_early\"]:\n",
    "        break          "
   ]
  },
  {
   "cell_type": "code",
   "execution_count": 25,
   "metadata": {},
   "outputs": [
    {
     "data": {
      "image/png": "[encoded data removed]",
      "text/plain": [
       "<Figure size 640x480 with 1 Axes>"
      ]
     },
     "metadata": {},
     "output_type": "display_data"
    }
   ],
   "source": [
    "plt.plot(train_state[\"train_loss\"],label=\"train_loss\")\n",
    "plt.plot(train_state[\"train_acc\"],label=\"train_acc\")\n",
    "plt.plot(train_state[\"val_loss\"],label=\"val_loss\")\n",
    "plt.plot(train_state[\"val_acc\"],label=\"val_acc\")\n",
    "plt.legend();"
   ]
  },
  {
   "cell_type": "code",
   "execution_count": 24,
   "metadata": {},
   "outputs": [],
   "source": [
    "batch_generator = generate_batches(dataset=dataset_dict[\"test\"],\n",
    "                                   args=args,shuffle=False)\n",
    "\n",
    "running_acc = 0.0\n",
    "running_loss = 0.0\n",
    "classifier.eval()\n",
    "\n",
    "for batch_idx,batch_dict in enumerate(batch_generator):\n",
    "    with torch.inference_mode():\n",
    "        logits = classifier(batch_dict[\"x\"])\n",
    "        \n",
    "        # compute the loss\n",
    "        loss = loss_fn(logits,batch_dict[\"y\"])\n",
    "        loss_t = loss.item()\n",
    "        running_loss += (loss_t - running_loss) /(batch_idx+1)\n",
    "        \n",
    "        # compute the acc\n",
    "        acc = acc_fn(logits,batch_dict[\"y\"])\n",
    "        acc_t = acc.item()\n",
    "        running_acc += (acc_t - running_acc) / (batch_idx+1)\n",
    "        \n",
    "train_state[\"test_loss\"] = running_loss\n",
    "train_state[\"test_acc\"] = running_acc"
   ]
  },
  {
   "cell_type": "code",
   "execution_count": 26,
   "metadata": {},
   "outputs": [
    {
     "name": "stdout",
     "output_type": "stream",
     "text": [
      "Test Loss : 2.2003955841064453\n",
      "Test Acc : 24.00%\n"
     ]
    }
   ],
   "source": [
    "print(f\"Test Loss : {train_state['test_loss']}\")\n",
    "print(f\"Test Acc : {train_state['test_acc']:.2%}\")"
   ]
  },
  {
   "cell_type": "code",
   "execution_count": null,
   "metadata": {},
   "outputs": [],
   "source": []
  }
 ],
 "metadata": {
  "kernelspec": {
   "display_name": "nlp",
   "language": "python",
   "name": "python3"
  },
  "language_info": {
   "codemirror_mode": {
    "name": "ipython",
    "version": 3
   },
   "file_extension": ".py",
   "mimetype": "text/x-python",
   "name": "python",
   "nbconvert_exporter": "python",
   "pygments_lexer": "ipython3",
   "version": "3.10.9"
  },
  "orig_nbformat": 4
 },
 "nbformat": 4,
 "nbformat_minor": 2
}
