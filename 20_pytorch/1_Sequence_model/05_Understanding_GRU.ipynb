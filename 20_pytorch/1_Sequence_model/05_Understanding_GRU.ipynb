{
 "cells": [
  {
   "cell_type": "code",
   "execution_count": 1,
   "metadata": {},
   "outputs": [],
   "source": [
    "import torch\n",
    "from torch import nn"
   ]
  },
  {
   "cell_type": "code",
   "execution_count": 2,
   "metadata": {},
   "outputs": [],
   "source": [
    "batch = 1\n",
    "seq = 3\n",
    "input_size = 3\n",
    "hidden_size = 2\n",
    "D = 1\n",
    "num_layers = 1"
   ]
  },
  {
   "cell_type": "code",
   "execution_count": 3,
   "metadata": {},
   "outputs": [
    {
     "data": {
      "text/plain": [
       "GRU(3, 2, bias=False, batch_first=True)"
      ]
     },
     "execution_count": 3,
     "metadata": {},
     "output_type": "execute_result"
    }
   ],
   "source": [
    "gru = nn.GRU(input_size=input_size,hidden_size=hidden_size,bias=False,\n",
    "             num_layers=num_layers,batch_first=True)\n",
    "gru"
   ]
  },
  {
   "cell_type": "code",
   "execution_count": 4,
   "metadata": {},
   "outputs": [
    {
     "data": {
      "text/plain": [
       "[['weight_ih_l0', 'weight_hh_l0']]"
      ]
     },
     "execution_count": 4,
     "metadata": {},
     "output_type": "execute_result"
    }
   ],
   "source": [
    "gru._all_weights"
   ]
  },
  {
   "attachments": {},
   "cell_type": "markdown",
   "metadata": {},
   "source": [
    "* ih --> input to hidden\n",
    "* hh --> hidden to hidden\n",
    "* l0 --> 0th layer\n",
    "\n",
    "Since GRU have three gates , \n",
    "1. Reset Gate, Update Gate, New Gate\n",
    "1. each gate have its own weight matrix for both input and hidden.\n",
    "2. each gate matrix are in shape [hidden,hidden or input]\n",
    "3. three gate matrix for hidden so , W_hh have shape [3*hidden , hidden]\n",
    "4. three gate matrix for input , W_ih have shape [3*hidden , input]"
   ]
  },
  {
   "cell_type": "code",
   "execution_count": 5,
   "metadata": {},
   "outputs": [
    {
     "data": {
      "text/plain": [
       "torch.Size([6, 3])"
      ]
     },
     "execution_count": 5,
     "metadata": {},
     "output_type": "execute_result"
    }
   ],
   "source": [
    "gru.weight_ih_l0.shape\n",
    "#? 3*hidden , input"
   ]
  },
  {
   "cell_type": "code",
   "execution_count": 6,
   "metadata": {},
   "outputs": [
    {
     "data": {
      "text/plain": [
       "torch.Size([6, 2])"
      ]
     },
     "execution_count": 6,
     "metadata": {},
     "output_type": "execute_result"
    }
   ],
   "source": [
    "gru.weight_hh_l0.shape\n",
    "#? 3*hidden , hidden"
   ]
  },
  {
   "cell_type": "code",
   "execution_count": 7,
   "metadata": {},
   "outputs": [
    {
     "data": {
      "text/plain": [
       "tensor([[[0.2642, 0.4186, 0.8494],\n",
       "         [0.8219, 0.1427, 0.9215],\n",
       "         [0.3571, 0.4470, 0.1099]]])"
      ]
     },
     "execution_count": 7,
     "metadata": {},
     "output_type": "execute_result"
    }
   ],
   "source": [
    "sample_input = torch.rand(batch,seq,input_size)\n",
    "sample_input"
   ]
  },
  {
   "cell_type": "code",
   "execution_count": 8,
   "metadata": {},
   "outputs": [
    {
     "data": {
      "text/plain": [
       "tensor([[[0.9453, 0.4464]]])"
      ]
     },
     "execution_count": 8,
     "metadata": {},
     "output_type": "execute_result"
    }
   ],
   "source": [
    "h = torch.rand(D*num_layers,batch,hidden_size)\n",
    "h"
   ]
  },
  {
   "cell_type": "code",
   "execution_count": 9,
   "metadata": {},
   "outputs": [],
   "source": [
    "W_ih,W_hh = gru._flat_weights"
   ]
  },
  {
   "cell_type": "code",
   "execution_count": 10,
   "metadata": {},
   "outputs": [
    {
     "data": {
      "text/plain": [
       "(torch.Size([2, 3]), torch.Size([2, 3]), torch.Size([2, 3]))"
      ]
     },
     "execution_count": 10,
     "metadata": {},
     "output_type": "execute_result"
    }
   ],
   "source": [
    "W_ir,W_iz,W_in = W_ih.split(hidden_size)\n",
    "W_ir.shape,W_iz.shape,W_in.shape"
   ]
  },
  {
   "cell_type": "code",
   "execution_count": 11,
   "metadata": {},
   "outputs": [
    {
     "data": {
      "text/plain": [
       "(torch.Size([2, 2]), torch.Size([2, 2]), torch.Size([2, 2]))"
      ]
     },
     "execution_count": 11,
     "metadata": {},
     "output_type": "execute_result"
    }
   ],
   "source": [
    "W_hr,W_hz,W_hn = W_hh.split(hidden_size)\n",
    "W_hr.shape,W_hz.shape,W_hn.shape"
   ]
  },
  {
   "cell_type": "code",
   "execution_count": 12,
   "metadata": {},
   "outputs": [
    {
     "data": {
      "text/plain": [
       "(tensor([[[ 0.2511,  0.5618],\n",
       "          [-0.2102,  0.6566],\n",
       "          [-0.1283,  0.5239]]], grad_fn=<TransposeBackward1>),\n",
       " tensor([[[-0.1283,  0.5239]]], grad_fn=<StackBackward0>))"
      ]
     },
     "execution_count": 12,
     "metadata": {},
     "output_type": "execute_result"
    }
   ],
   "source": [
    "gru(sample_input,h)"
   ]
  },
  {
   "cell_type": "code",
   "execution_count": 13,
   "metadata": {},
   "outputs": [],
   "source": [
    "output = []\n",
    "sample_input = sample_input.permute(1,0,2)\n",
    "for t in range(seq):\n",
    "    xt = sample_input[t]\n",
    "    rt = torch.sigmoid(xt@W_ir.T + h@W_hr.T)\n",
    "    zt = torch.sigmoid(xt@W_iz.T + h@W_hz.T)\n",
    "    nt = torch.tanh(xt@W_in.T + rt*(h@W_hn.T))\n",
    "    h = (1-zt)*nt + zt*h\n",
    "    output.append(h)"
   ]
  },
  {
   "cell_type": "code",
   "execution_count": 14,
   "metadata": {},
   "outputs": [
    {
     "data": {
      "text/plain": [
       "tensor([[[[ 0.2511,  0.5618]]],\n",
       "\n",
       "\n",
       "        [[[-0.2102,  0.6566]]],\n",
       "\n",
       "\n",
       "        [[[-0.1283,  0.5239]]]], grad_fn=<StackBackward0>)"
      ]
     },
     "execution_count": 14,
     "metadata": {},
     "output_type": "execute_result"
    }
   ],
   "source": [
    "torch.stack(output)"
   ]
  },
  {
   "cell_type": "code",
   "execution_count": 15,
   "metadata": {},
   "outputs": [
    {
     "data": {
      "text/plain": [
       "tensor([[[-0.1283,  0.5239]]], grad_fn=<AddBackward0>)"
      ]
     },
     "execution_count": 15,
     "metadata": {},
     "output_type": "execute_result"
    }
   ],
   "source": [
    "h"
   ]
  },
  {
   "cell_type": "code",
   "execution_count": null,
   "metadata": {},
   "outputs": [],
   "source": []
  }
 ],
 "metadata": {
  "kernelspec": {
   "display_name": "nlp",
   "language": "python",
   "name": "python3"
  },
  "language_info": {
   "codemirror_mode": {
    "name": "ipython",
    "version": 3
   },
   "file_extension": ".py",
   "mimetype": "text/x-python",
   "name": "python",
   "nbconvert_exporter": "python",
   "pygments_lexer": "ipython3",
   "version": "3.10.9"
  },
  "orig_nbformat": 4
 },
 "nbformat": 4,
 "nbformat_minor": 2
}
