{
 "cells": [
  {
   "cell_type": "code",
   "execution_count": 1,
   "metadata": {},
   "outputs": [],
   "source": [
    "from argparse import Namespace\n",
    "from functools import partial\n",
    "from pathlib import Path\n",
    "from collections import (\n",
    "    OrderedDict,\n",
    "    Counter)\n",
    "\n",
    "# torch\n",
    "import torch\n",
    "from torch import nn\n",
    "from torch import optim\n",
    "from torch.nn import functional as F\n",
    "from torch.utils.data import default_collate\n",
    "## others\n",
    "from torchtext import vocab\n",
    "try:\n",
    "    from torchdata import datapipes as dp\n",
    "    from torchdata.dataloader2 import DataLoader2\n",
    "except:\n",
    "    !pip install torchdata\n",
    "    from torchdata import datapipes as dp\n",
    "    from torchdata.dataloader2 import Dataloader2\n",
    "\n",
    "# manipulation \n",
    "import numpy as np\n",
    "\n",
    "# visualization \n",
    "import matplotlib.pyplot as plt\n",
    "\n",
    "# others\n",
    "from tqdm import tqdm"
   ]
  },
  {
   "cell_type": "code",
   "execution_count": 2,
   "metadata": {},
   "outputs": [],
   "source": [
    "args  = Namespace(\n",
    "    # data\n",
    "    data_base_path = \"../../data/surnames/\",\n",
    "    dataset = [\"train\",\"test\",\"val\"],\n",
    "    \n",
    "    # vocab\n",
    "    mask_tkn = \"<MASK>\",\n",
    "    ukn_tkn = \"<UKN>\",\n",
    "    beg_tkn = \"<B>\",\n",
    "    end_tkn = \"<E>\",\n",
    "    \n",
    "    # model\n",
    "    char_embedding_size = 100,\n",
    "    rnn_hidden_dim = 64,\n",
    "    model_base_path = \"../../models/seq_model/seq_pred/\",\n",
    "    model_filename = \"conditional_model.pth\",\n",
    "    \n",
    "    # training\n",
    "    num_epochs = 100,\n",
    "    batch_size = 128,\n",
    "    learning_rate = 1e-3,\n",
    "    early_stopping_criteria = 5,\n",
    "    \n",
    "    # running\n",
    "    cuda = torch.cuda.is_available(),\n",
    "    device = \"cuda\" if torch.cuda.is_available() else \"cpu\",\n",
    "    seed = 1432,\n",
    ")\n",
    "for k,v in args._get_kwargs():\n",
    "    if \"base\" in k:\n",
    "        Path(v).mkdir(parents=True,exist_ok=True)"
   ]
  },
  {
   "attachments": {},
   "cell_type": "markdown",
   "metadata": {},
   "source": [
    "# Data pipe"
   ]
  },
  {
   "attachments": {},
   "cell_type": "markdown",
   "metadata": {},
   "source": [
    "## build pipe dict"
   ]
  },
  {
   "cell_type": "code",
   "execution_count": 3,
   "metadata": {},
   "outputs": [],
   "source": [
    "def build_pipe_dict(args=args):\n",
    "    pipe_dict = {}\n",
    "    for fname in args.dataset:\n",
    "        pipe_dict[fname] = dp.iter.FileOpener([args.data_base_path+f\"{fname}.csv\"]).parse_csv()\n",
    "    return pipe_dict"
   ]
  },
  {
   "cell_type": "code",
   "execution_count": 4,
   "metadata": {},
   "outputs": [
    {
     "data": {
      "text/plain": [
       "{'train': CSVParserIterDataPipe,\n",
       " 'test': CSVParserIterDataPipe,\n",
       " 'val': CSVParserIterDataPipe}"
      ]
     },
     "execution_count": 4,
     "metadata": {},
     "output_type": "execute_result"
    }
   ],
   "source": [
    "pipe_dict = build_pipe_dict()\n",
    "pipe_dict"
   ]
  },
  {
   "cell_type": "code",
   "execution_count": 5,
   "metadata": {},
   "outputs": [
    {
     "data": {
      "text/plain": [
       "{'train': 7684, 'test': 1648, 'val': 1648}"
      ]
     },
     "execution_count": 5,
     "metadata": {},
     "output_type": "execute_result"
    }
   ],
   "source": [
    "{k:len(list(pipe)) for k,pipe in pipe_dict.items()}"
   ]
  },
  {
   "attachments": {},
   "cell_type": "markdown",
   "metadata": {},
   "source": [
    "## build vocab dict"
   ]
  },
  {
   "cell_type": "code",
   "execution_count": 6,
   "metadata": {},
   "outputs": [],
   "source": [
    "def build_vocab_dict(train_pipe):\n",
    "    name_counter = Counter()\n",
    "    nation_counter = Counter()\n",
    "    max_seq_length = -1\n",
    "    for name,nation in train_pipe:\n",
    "        max_seq_length = max(max_seq_length,len(name))\n",
    "        name_counter.update(name)\n",
    "        nation_counter.update([nation])\n",
    "        \n",
    "    sort_fn = lambda kf : (-kf[1],kf[0])\n",
    "    \n",
    "    name_sort_tuples = sorted(name_counter.items(),key=sort_fn)\n",
    "    char_vocab = vocab.vocab(ordered_dict=OrderedDict(name_sort_tuples),\n",
    "                             specials=[args.mask_tkn,\n",
    "                                       args.ukn_tkn,\n",
    "                                       args.beg_tkn,\n",
    "                                       args.end_tkn])\n",
    "    char_vocab.set_default_index(char_vocab[args.ukn_tkn])\n",
    "    char_vocab.max_seq_length = max_seq_length + 2\n",
    "    \n",
    "    nation_sort_tuples = sorted(nation_counter.items(),key=sort_fn)\n",
    "    nation_vocab = vocab.vocab(ordered_dict=OrderedDict(nation_sort_tuples))\n",
    "    freq = [count for _,count in nation_sort_tuples]\n",
    "    nation_vocab.class_weights = 1.0 / torch.tensor(freq)\n",
    "    \n",
    "    return {\"char\":char_vocab,\n",
    "            \"nation\":nation_vocab}"
   ]
  },
  {
   "cell_type": "code",
   "execution_count": 7,
   "metadata": {},
   "outputs": [
    {
     "data": {
      "text/plain": [
       "{'char': Vocab(), 'nation': Vocab()}"
      ]
     },
     "execution_count": 7,
     "metadata": {},
     "output_type": "execute_result"
    }
   ],
   "source": [
    "vocab_dict = build_vocab_dict(pipe_dict[\"train\"])\n",
    "vocab_dict"
   ]
  },
  {
   "cell_type": "code",
   "execution_count": 8,
   "metadata": {},
   "outputs": [
    {
     "data": {
      "text/plain": [
       "{'char': 83, 'nation': 18}"
      ]
     },
     "execution_count": 8,
     "metadata": {},
     "output_type": "execute_result"
    }
   ],
   "source": [
    "{k:len(v) for k,v in vocab_dict.items()}"
   ]
  },
  {
   "cell_type": "code",
   "execution_count": 9,
   "metadata": {},
   "outputs": [
    {
     "data": {
      "text/plain": [
       "19"
      ]
     },
     "execution_count": 9,
     "metadata": {},
     "output_type": "execute_result"
    }
   ],
   "source": [
    "vocab_dict[\"char\"].max_seq_length"
   ]
  },
  {
   "cell_type": "code",
   "execution_count": 10,
   "metadata": {},
   "outputs": [
    {
     "data": {
      "text/plain": [
       "tensor([0.0005, 0.0006, 0.0009, 0.0018, 0.0024, 0.0025, 0.0034, 0.0055, 0.0060,\n",
       "        0.0063, 0.0065, 0.0078, 0.0092, 0.0119, 0.0189, 0.0192, 0.0250, 0.0263])"
      ]
     },
     "execution_count": 10,
     "metadata": {},
     "output_type": "execute_result"
    }
   ],
   "source": [
    "vocab_dict[\"nation\"].class_weights"
   ]
  },
  {
   "attachments": {},
   "cell_type": "markdown",
   "metadata": {},
   "source": [
    "## build dataset dict"
   ]
  },
  {
   "cell_type": "code",
   "execution_count": 11,
   "metadata": {},
   "outputs": [],
   "source": [
    "def vectorize(name:str,char_vocab:vocab.Vocab,args=args):\n",
    "    indices = [char_vocab[args.beg_tkn]]\n",
    "    indices.extend(char_vocab.lookup_indices(list(name)))\n",
    "    indices.append(char_vocab[args.end_tkn])\n",
    "    \n",
    "    from_vector = np.full(shape=char_vocab.max_seq_length,\n",
    "                          fill_value=char_vocab[args.mask_tkn],\n",
    "                          dtype=np.int64)\n",
    "    from_indices = indices[:-1]\n",
    "    from_vector[:len(from_indices)] = from_indices\n",
    "    \n",
    "    to_vector = np.full(shape=char_vocab.max_seq_length,\n",
    "                        fill_value=char_vocab[args.mask_tkn],\n",
    "                        dtype=np.int64)\n",
    "    to_indices = indices[1:]\n",
    "    to_vector[:len(to_indices)] = to_indices\n",
    "    \n",
    "    return from_vector,to_vector\n",
    "\n",
    "\n",
    "def create_dataset(vocab_dict,args,row):\n",
    "    from_vector , to_vector = vectorize(row[0],vocab_dict[\"char\"],args=args)\n",
    "    nation_index = vocab_dict[\"nation\"][row[1]]\n",
    "    \n",
    "    return {\"x\":from_vector,\n",
    "            \"y\":to_vector,\n",
    "            \"nation_index\":nation_index}\n",
    "    \n",
    "def collate_fn(args,x):\n",
    "    return {k:v.to(args.device)\n",
    "            for k,v in default_collate(x).items()}"
   ]
  },
  {
   "cell_type": "code",
   "execution_count": 12,
   "metadata": {},
   "outputs": [],
   "source": [
    "def build_dataset_dict(pipe_dict,vocab_dict,args=args):\n",
    "    dataset_dict = {}\n",
    "    fn = partial(create_dataset,vocab_dict,args)\n",
    "    for dataset,pipe in pipe_dict.items():\n",
    "        if dataset ==\"train\":\n",
    "            pipe = pipe.shuffle()\n",
    "        pipe = pipe.map(fn)\n",
    "        pipe = pipe.batch(args.batch_size,drop_last=True)\n",
    "        pipe = pipe.collate(partial(collate_fn,args))\n",
    "        dataset_dict[dataset] = pipe\n",
    "    return dataset_dict"
   ]
  },
  {
   "cell_type": "code",
   "execution_count": 13,
   "metadata": {},
   "outputs": [
    {
     "data": {
      "text/plain": [
       "{'train': CollatorIterDataPipe,\n",
       " 'test': CollatorIterDataPipe,\n",
       " 'val': CollatorIterDataPipe}"
      ]
     },
     "execution_count": 13,
     "metadata": {},
     "output_type": "execute_result"
    }
   ],
   "source": [
    "dataset_dict = build_dataset_dict(pipe_dict,vocab_dict,args)\n",
    "dataset_dict"
   ]
  },
  {
   "cell_type": "code",
   "execution_count": 14,
   "metadata": {},
   "outputs": [
    {
     "data": {
      "text/plain": [
       "{'train': 60, 'test': 12, 'val': 12}"
      ]
     },
     "execution_count": 14,
     "metadata": {},
     "output_type": "execute_result"
    }
   ],
   "source": [
    "{k:len(list(v)) for k,v in dataset_dict.items()}"
   ]
  },
  {
   "cell_type": "code",
   "execution_count": 15,
   "metadata": {},
   "outputs": [
    {
     "data": {
      "text/plain": [
       "torch.Size([128])"
      ]
     },
     "execution_count": 15,
     "metadata": {},
     "output_type": "execute_result"
    }
   ],
   "source": [
    "next(iter(dataset_dict[\"train\"]))[\"nation_index\"].shape"
   ]
  },
  {
   "attachments": {},
   "cell_type": "markdown",
   "metadata": {},
   "source": [
    "# Model"
   ]
  },
  {
   "cell_type": "code",
   "execution_count": 16,
   "metadata": {},
   "outputs": [],
   "source": [
    "class SurnameGenerativeModel(nn.Module):\n",
    "    def __init__(self,char_embedding_size,char_vocab_size,num_nations,\n",
    "                 rnn_hidden_size,batch_first=True,padding_idx=0,\n",
    "                 dropout_rate=0.5) -> None:\n",
    "        super().__init__()\n",
    "        self.char_embedding = nn.Embedding(embedding_dim=char_embedding_size,\n",
    "                                      num_embeddings=char_vocab_size,\n",
    "                                      padding_idx=padding_idx)\n",
    "        \n",
    "        self.nation_embedding = nn.Embedding(embedding_dim=rnn_hidden_size,\n",
    "                                             num_embeddings=num_nations)\n",
    "        \n",
    "        self.rnn = nn.GRU(input_size=char_embedding_size,\n",
    "                          hidden_size=rnn_hidden_size,\n",
    "                          batch_first=batch_first)\n",
    "        \n",
    "        self.fc = nn.Linear(in_features=rnn_hidden_size,\n",
    "                            out_features=char_vocab_size)\n",
    "        \n",
    "        self.dropout_rate = dropout_rate\n",
    "        \n",
    "    def forward(self,input,nation_index,apply_softmax=False):\n",
    "        # shape [batch,max_seq]\n",
    "        x_emb = self.char_embedding(input)\n",
    "        # shape [batch,max_seq,char_embedding_size]\n",
    "        \n",
    "        # shape [batch,]\n",
    "        nation_emb = self.nation_embedding(nation_index).unsqueeze(0)\n",
    "        # shape [batch,rnn_hidden_size]\n",
    "        \n",
    "        y_out , _ = self.rnn(x_emb,nation_emb)\n",
    "        # shape y_out [batch,max_seq,hidden_size]\n",
    "        \n",
    "        batch_size,seq_size,feat_size = y_out.size()\n",
    "        y_out = y_out.contiguous().view(batch_size*seq_size,feat_size)\n",
    "        # shape [batch_size*max_seq , hidden_size]\n",
    "        \n",
    "        y_out = self.fc(F.dropout(y_out,self.dropout_rate))\n",
    "        # shape [batch_size*max_seq , char_vocab_size]\n",
    "        \n",
    "        if apply_softmax:\n",
    "            y_out = F.softmax(y_out,dim=1)\n",
    "        \n",
    "        new_feat_size = y_out.shape[-1]\n",
    "        y_out = y_out.view(batch_size,seq_size,new_feat_size)\n",
    "        \n",
    "        return y_out      "
   ]
  },
  {
   "cell_type": "code",
   "execution_count": 17,
   "metadata": {},
   "outputs": [],
   "source": [
    "sample = next(iter(dataset_dict[\"train\"]))"
   ]
  },
  {
   "cell_type": "code",
   "execution_count": 18,
   "metadata": {},
   "outputs": [
    {
     "data": {
      "text/plain": [
       "{'x': torch.Size([128, 19]),\n",
       " 'y': torch.Size([128, 19]),\n",
       " 'nation_index': torch.Size([128])}"
      ]
     },
     "execution_count": 18,
     "metadata": {},
     "output_type": "execute_result"
    }
   ],
   "source": [
    "{k:v.shape for k,v in sample.items()}"
   ]
  },
  {
   "cell_type": "code",
   "execution_count": 19,
   "metadata": {},
   "outputs": [
    {
     "data": {
      "text/plain": [
       "torch.Size([128, 19, 83])"
      ]
     },
     "execution_count": 19,
     "metadata": {},
     "output_type": "execute_result"
    }
   ],
   "source": [
    "model = SurnameGenerativeModel(char_embedding_size=args.char_embedding_size,\n",
    "                               char_vocab_size=len(vocab_dict[\"char\"]),\n",
    "                               num_nations=len(vocab_dict[\"nation\"]),\n",
    "                               rnn_hidden_size=args.rnn_hidden_dim).to(args.device)\n",
    "\n",
    "model(sample['x'],sample[\"nation_index\"]).shape"
   ]
  },
  {
   "attachments": {},
   "cell_type": "markdown",
   "metadata": {},
   "source": [
    "# Training"
   ]
  },
  {
   "attachments": {},
   "cell_type": "markdown",
   "metadata": {},
   "source": [
    "## helper function"
   ]
  },
  {
   "cell_type": "code",
   "execution_count": 20,
   "metadata": {},
   "outputs": [],
   "source": [
    "def normalize_size(y_pred,y_true):\n",
    "    if len(y_pred.shape) == 3 :\n",
    "        y_pred = y_pred.contiguous().view(-1,y_pred.size(2))\n",
    "    if len(y_true.shape) == 2:\n",
    "        y_true = y_true.contiguous().view(-1)\n",
    "    return y_pred,y_true\n",
    "\n",
    "def sequence_loss(y_pred,y_true,mask_index):\n",
    "    y_pred ,y_true = normalize_size(y_pred,y_true)\n",
    "    return F.cross_entropy(y_pred,y_true,ignore_index=mask_index)\n",
    "\n",
    "def compute_acc(y_pred,y_true,mask_index):\n",
    "    y_pred ,y_true = normalize_size(y_pred,y_true)\n",
    "    _,y_pred_indices = y_pred.max(dim=1)\n",
    "    \n",
    "    correct_indices = torch.eq(y_pred_indices,y_true).float()\n",
    "    valid_indices = torch.ne(y_true,mask_index).float()\n",
    "    \n",
    "    n_correct = (correct_indices*valid_indices).sum().item()\n",
    "    n_valid = valid_indices.sum().item()\n",
    "    \n",
    "    return n_correct/n_valid"
   ]
  },
  {
   "cell_type": "code",
   "execution_count": 21,
   "metadata": {},
   "outputs": [],
   "source": [
    "def make_train_state(args=args):\n",
    "    return {\"stop_early\":False,\n",
    "            \"early_stopping_step\":0,\n",
    "            \"early_stopping_val\":1e5,\n",
    "            \"epoch_index\":0,\n",
    "            \"model_filepath\":args.model_base_path+args.model_filename,\n",
    "            \"train_loss\":[],\n",
    "            \"train_acc\":[],\n",
    "            \"val_loss\":[],\n",
    "            \"val_acc\":[],\n",
    "            \"test_loss\":-1,\n",
    "            \"test_acc\":-1}\n",
    "\n",
    "def update_train_state(train_state,model,args=args):\n",
    "    if train_state[\"epoch_index\"] == 0:\n",
    "        torch.save(model.state_dict(),train_state[\"model_filepath\"])\n",
    "        train_state[\"stop_early\"] = False\n",
    "    \n",
    "    elif train_state[\"epoch_index\"] >= 1:\n",
    "        loss_tm1 , loss_t = train_state[\"val_loss\"][-2:]\n",
    "        if loss_t >= train_state[\"early_stopping_val\"]:\n",
    "            train_state[\"early_stopping_step\"] +=1\n",
    "        else:\n",
    "            torch.save(model.state_dict(),train_state[\"model_filepath\"])\n",
    "            train_state[\"early_stopping_step\"] = 0\n",
    "            \n",
    "        train_state[\"stop_early\"] = train_state[\"early_stopping_step\"] >= args.early_stopping_criteria\n",
    "    \n",
    "    return train_state"
   ]
  },
  {
   "attachments": {},
   "cell_type": "markdown",
   "metadata": {},
   "source": [
    "## initialize"
   ]
  },
  {
   "cell_type": "code",
   "execution_count": 22,
   "metadata": {},
   "outputs": [],
   "source": [
    "pipe_dict = build_pipe_dict()\n",
    "vocab_dict = build_vocab_dict(pipe_dict[\"train\"])\n",
    "dataset_dict = build_dataset_dict(pipe_dict,vocab_dict,args)"
   ]
  },
  {
   "cell_type": "code",
   "execution_count": 23,
   "metadata": {},
   "outputs": [],
   "source": [
    "model = SurnameGenerativeModel(char_embedding_size=args.char_embedding_size,\n",
    "                               char_vocab_size=len(vocab_dict[\"char\"]),\n",
    "                               num_nations=len(vocab_dict[\"nation\"]),\n",
    "                               rnn_hidden_size=args.rnn_hidden_dim).to(args.device)\n",
    "optimizer = optim.Adam(params=model.parameters(),\n",
    "                       lr=args.learning_rate)\n",
    "scheduler = optim.lr_scheduler.ReduceLROnPlateau(optimizer=optimizer,\n",
    "                                                 mode=\"min\",factor=0.5,\n",
    "                                                 patience=1)\n",
    "train_state = make_train_state(args)\n",
    "mask_index = vocab_dict[\"char\"][args.mask_tkn]"
   ]
  },
  {
   "attachments": {},
   "cell_type": "markdown",
   "metadata": {},
   "source": [
    "## Loop"
   ]
  },
  {
   "cell_type": "code",
   "execution_count": 24,
   "metadata": {},
   "outputs": [
    {
     "name": "stderr",
     "output_type": "stream",
     "text": [
      "100%|██████████| 100/100 [09:12<00:00,  5.52s/it]\n"
     ]
    }
   ],
   "source": [
    "for epoch_index in tqdm(range(args.num_epochs)):\n",
    "    train_state[\"epoch_index\"] = epoch_index\n",
    "    \n",
    "    # get the data\n",
    "    batch_generator = DataLoader2(datapipe=dataset_dict[\"train\"])\n",
    "    model.train()\n",
    "    running_loss = 0.0\n",
    "    running_acc = 0.0\n",
    "    \n",
    "    for batch_idx,batch_dict in enumerate(batch_generator):\n",
    "        model.zero_grad()\n",
    "        logits = model(batch_dict[\"x\"],batch_dict[\"nation_index\"])\n",
    "        \n",
    "        # loss\n",
    "        loss = sequence_loss(logits,batch_dict[\"y\"],mask_index)\n",
    "        loss_t = loss.item()\n",
    "        running_loss += (loss_t - running_loss) /(batch_idx+1)\n",
    "        \n",
    "        # acc\n",
    "        acc_t = compute_acc(logits,batch_dict[\"y\"],mask_index)\n",
    "        running_acc += (acc_t - running_acc) / (batch_idx+1)\n",
    "        \n",
    "        loss.backward()\n",
    "        optimizer.step()\n",
    "        \n",
    "    train_state[\"train_loss\"].append(running_loss)\n",
    "    train_state[\"train_acc\"].append(running_acc)\n",
    "    \n",
    "    # iterate over the val \n",
    "    batch_generator = DataLoader2(dataset_dict[\"val\"])\n",
    "    running_loss = 0.0\n",
    "    running_acc = 0.0\n",
    "    model.eval()\n",
    "    \n",
    "    for batch_idx,batch_dict in enumerate(batch_generator):\n",
    "        with torch.inference_mode():\n",
    "            logits = model(batch_dict[\"x\"],batch_dict[\"nation_index\"])\n",
    "            \n",
    "            # loss\n",
    "            loss = sequence_loss(logits,batch_dict[\"y\"],mask_index)\n",
    "            loss_t = loss.item()\n",
    "            running_loss += (loss_t - running_loss) /(batch_idx+1)\n",
    "            \n",
    "            # acc\n",
    "            acc_t = compute_acc(logits,batch_dict[\"y\"],mask_index)\n",
    "            running_acc += (acc_t - running_acc) / (batch_idx+1)   \n",
    "            \n",
    "    train_state[\"val_loss\"].append(running_loss)         \n",
    "    train_state[\"val_acc\"].append(running_acc)\n",
    "    \n",
    "    scheduler.step(train_state[\"val_loss\"][-1])\n",
    "    \n",
    "    if train_state[\"stop_early\"]:\n",
    "        break          "
   ]
  },
  {
   "cell_type": "code",
   "execution_count": 25,
   "metadata": {},
   "outputs": [
    {
     "data": {
      "image/png": "[encoded data removed]",
      "text/plain": [
       "<Figure size 640x480 with 1 Axes>"
      ]
     },
     "metadata": {},
     "output_type": "display_data"
    }
   ],
   "source": [
    "plt.plot(train_state[\"train_loss\"],label=\"train_loss\")\n",
    "plt.plot(train_state[\"train_acc\"],label=\"train_acc\")\n",
    "plt.plot(train_state[\"val_loss\"],label=\"val_loss\")\n",
    "plt.plot(train_state[\"val_acc\"],label=\"val_acc\")\n",
    "plt.legend();"
   ]
  },
  {
   "cell_type": "code",
   "execution_count": 27,
   "metadata": {},
   "outputs": [],
   "source": [
    "batch_generator = DataLoader2(dataset_dict[\"test\"])\n",
    "running_loss = 0.0\n",
    "running_acc = 0.0\n",
    "model.eval()\n",
    "\n",
    "for batch_idx,batch_dict in enumerate(batch_generator):\n",
    "    with torch.inference_mode():\n",
    "        logits = model(batch_dict[\"x\"],batch_dict[\"nation_index\"])\n",
    "        \n",
    "        # loss\n",
    "        loss = sequence_loss(logits,batch_dict[\"y\"],mask_index)\n",
    "        loss_t = loss.item()\n",
    "        running_loss += (loss_t - running_loss) /(batch_idx+1)\n",
    "        \n",
    "        # acc\n",
    "        acc_t = compute_acc(logits,batch_dict[\"y\"],mask_index)\n",
    "        running_acc += (acc_t - running_acc) / (batch_idx+1)   \n",
    "        \n",
    "train_state[\"test_loss\"] = running_loss\n",
    "train_state[\"test_acc\"] = running_acc"
   ]
  },
  {
   "cell_type": "code",
   "execution_count": 28,
   "metadata": {},
   "outputs": [
    {
     "name": "stdout",
     "output_type": "stream",
     "text": [
      "Test loss: 2.2277773022651672;\n",
      "Test Accuracy: 0.33857939667949477\n"
     ]
    }
   ],
   "source": [
    "print(\"Test loss: {};\".format(train_state['test_loss']))\n",
    "print(\"Test Accuracy: {}\".format(train_state['test_acc']))"
   ]
  },
  {
   "attachments": {},
   "cell_type": "markdown",
   "metadata": {},
   "source": [
    "# Inference"
   ]
  },
  {
   "cell_type": "code",
   "execution_count": 32,
   "metadata": {},
   "outputs": [],
   "source": [
    "def sample_from_model(model,char_vocab,nationalities,sample_size=20,args=args):\n",
    "    num_samples = len(nationalities)\n",
    "    # creating the begin index for all samples\n",
    "    begin_seq_index = [char_vocab[args.beg_tkn]\n",
    "                       for _ in range(num_samples)]\n",
    "    # converting and add dim\n",
    "    begin_seq_index = torch.tensor(begin_seq_index,dtype=torch.int64).unsqueeze(dim=1)\n",
    "    \n",
    "    indices = [begin_seq_index]\n",
    "    nationality_indices =  torch.tensor(nationalities,dtype=torch.int64).unsqueeze(dim=0)\n",
    "    h_t = model.nation_embedding(nationality_indices)\n",
    "    \n",
    "    for time_step in range(sample_size):\n",
    "        x_t = indices[time_step]\n",
    "        # shape [num_sample,1]\n",
    "        x_emd_t = model.char_embedding(x_t)\n",
    "        # shape [num_sample,1,emb]\n",
    "        rnn_t,h_t = model.rnn(x_emd_t,h_t)\n",
    "        # shape rnn_t [num_samples,1,hidden]\n",
    "        # shape h_t [1,num_samples,hidden]\n",
    "        pred_vector = model.fc(\n",
    "            rnn_t.squeeze(dim=1)  # shape [num_sample,hidden]\n",
    "            )\n",
    "        # shape [num_sample,char_vocab_size]\n",
    "        prob_vector = F.softmax(pred_vector,dim=1)\n",
    "        # shape [num_sample,char_vocab_size]\n",
    "        select = torch.multinomial(prob_vector,num_samples=1)\n",
    "        indices.append(select)\n",
    "    indices = torch.stack(indices)\n",
    "    indices = indices.squeeze().permute(1,0)\n",
    "    return indices     "
   ]
  },
  {
   "cell_type": "code",
   "execution_count": 33,
   "metadata": {},
   "outputs": [],
   "source": [
    "def decode_samples(sampled_indices,char_vocab,args=args):\n",
    "    decoded_surnames = []\n",
    "    \n",
    "    for sample_index in range(sampled_indices.shape[0]):\n",
    "        surname = \"\"\n",
    "        for time_step in range(sampled_indices.shape[1]):\n",
    "            sample_item = sampled_indices[sample_index,time_step].item()\n",
    "            if sample_item == char_vocab[args.beg_tkn]:\n",
    "                continue\n",
    "            elif sample_item == char_vocab[args.end_tkn]:\n",
    "                break\n",
    "            else:\n",
    "                surname += char_vocab.get_itos()[sample_item]\n",
    "        decoded_surnames.append(surname)\n",
    "    return decoded_surnames"
   ]
  },
  {
   "cell_type": "code",
   "execution_count": 35,
   "metadata": {},
   "outputs": [
    {
     "name": "stdout",
     "output_type": "stream",
     "text": [
      "Sampled for English: \n",
      "-  Dontar\n",
      "-  JeffAr\n",
      "-  Hanbiley\n",
      "Sampled for Russian: \n",
      "-  Vyajah\n",
      "-  Yachltinla\n",
      "-  Pezaelsh\n",
      "Sampled for Arabic: \n",
      "-  Attis\n",
      "-  Magain\n",
      "-  Haunkie\n",
      "Sampled for Japanese: \n",
      "-  Shato\n",
      "-  Tiwato\n",
      "-  Mibosoya\n",
      "Sampled for Italian: \n",
      "-  Aretta\n",
      "-  Potollo\n",
      "-  Aldi\n",
      "Sampled for German: \n",
      "-  Gmuteninge\n",
      "-  Kliuptón\n",
      "-  Sabuthe\n",
      "Sampled for Czech: \n",
      "-  Tullas\n",
      "-  Forlan\n",
      "-  Salmuski\n",
      "Sampled for Spanish: \n",
      "-  Peyli\n",
      "-  Calle\n",
      "-  Wenepe\n",
      "Sampled for Dutch: \n",
      "-  Ribertskan\n",
      "-  Noonirenlan\n",
      "-  Letch\n",
      "Sampled for French: \n",
      "-  Paemloc\n",
      "-  Pörel\n",
      "-  Dododes\n",
      "Sampled for Chinese: \n",
      "-  Ka\n",
      "-  Augz\n",
      "-  Gutr\n",
      "Sampled for Irish: \n",
      "-  Mancher\n",
      "-  Koum\n",
      "-  Augely\n",
      "Sampled for Greek: \n",
      "-  Skirenitecko\n",
      "-  Peläk\n",
      "-  Ftsanines\n",
      "Sampled for Polish: \n",
      "-  Losher\n",
      "-  Tduoros\n",
      "-  Abamov\n",
      "Sampled for Korean: \n",
      "-  Li\n",
      "-  Jag\n",
      "-  Jun\n",
      "Sampled for Scottish: \n",
      "-  Logh\n",
      "-  Ambyons\n",
      "-  Theddele\n",
      "Sampled for Vietnamese: \n",
      "-  Gan\n",
      "-  Gor\n",
      "-  Dae\n",
      "Sampled for Portuguese: \n",
      "-  Kione\n",
      "-  Edidiise\n",
      "-  Viiok\n"
     ]
    }
   ],
   "source": [
    "model = model.cpu()\n",
    "for index in range(len(vocab_dict[\"nation\"])):\n",
    "    nationality = vocab_dict[\"nation\"].get_itos()[index]\n",
    "    print(\"Sampled for {}: \".format(nationality))\n",
    "    sampled_indices = sample_from_model(model,vocab_dict[\"char\"],[index]*3 )\n",
    "    for sampled_surname in decode_samples(sampled_indices,vocab_dict[\"char\"]):\n",
    "        print(\"-  \" + sampled_surname)"
   ]
  },
  {
   "cell_type": "code",
   "execution_count": null,
   "metadata": {},
   "outputs": [],
   "source": []
  }
 ],
 "metadata": {
  "kernelspec": {
   "display_name": "nlp",
   "language": "python",
   "name": "python3"
  },
  "language_info": {
   "codemirror_mode": {
    "name": "ipython",
    "version": 3
   },
   "file_extension": ".py",
   "mimetype": "text/x-python",
   "name": "python",
   "nbconvert_exporter": "python",
   "pygments_lexer": "ipython3",
   "version": "3.10.9"
  },
  "orig_nbformat": 4
 },
 "nbformat": 4,
 "nbformat_minor": 2
}
