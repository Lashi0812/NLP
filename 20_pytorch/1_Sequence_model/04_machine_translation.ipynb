{
  "cells": [
    {
      "cell_type": "code",
      "execution_count": 1,
      "metadata": {
        "colab": {
          "base_uri": "https://localhost:8080/"
        },
        "id": "SnvehQezGxnC",
        "outputId": "f38e352c-7f90-4f11-ab63-8de0318bd9c0"
      },
      "outputs": [],
      "source": [
        "from argparse import Namespace\n",
        "from pathlib import Path\n",
        "from functools import partial\n",
        "from collections import (\n",
        "    OrderedDict,\n",
        "    Counter,\n",
        "    defaultdict\n",
        ")\n",
        "\n",
        "# torch \n",
        "import torch \n",
        "from torch import nn\n",
        "from torch import optim\n",
        "from torch.nn import functional as F\n",
        "from torch.nn.utils.rnn import pack_padded_sequence,pad_packed_sequence\n",
        "from torch.utils.data import default_collate\n",
        "# other \n",
        "from torchtext import vocab\n",
        "try:\n",
        "    from torchdata import datapipes as dp\n",
        "    from torchdata.dataloader2 import DataLoader2\n",
        "except:\n",
        "    !pip install torchdata==0.5.1\n",
        "    from torchdata import datapipes as dp\n",
        "    from torchdata.dataloader2 import DataLoader2\n",
        "\n",
        "# manipulation \n",
        "import numpy as np\n",
        "\n",
        "# visual\n",
        "import seaborn as sns\n",
        "import matplotlib.pyplot as plt\n",
        "\n",
        "\n",
        "#other\n",
        "from tqdm import tqdm\n",
        "from nltk.translate import bleu_score"
      ]
    },
    {
      "cell_type": "code",
      "execution_count": 2,
      "metadata": {
        "id": "JAlyXJZrGxnF"
      },
      "outputs": [],
      "source": [
        "args = Namespace(\n",
        "    colab = False,\n",
        "    # data\n",
        "    root = \"../../\",\n",
        "    data_base_path = \"data/mt/\",\n",
        "    dataset = [\"train\",\"test\",\"val\"],\n",
        "    \n",
        "    # vocab\n",
        "    mask_tkn = \"<MASK>\",\n",
        "    ukn_tkn = \"<UKN>\",\n",
        "    beg_tkn = \"<BEG>\",\n",
        "    end_tkn = \"<END>\",\n",
        "    \n",
        "    # Training\n",
        "    batch_size =  64,\n",
        "    num_epochs = 100,\n",
        "    learning_rate = 1e-3,\n",
        "    \n",
        "    \n",
        "    # model\n",
        "    source_embedding = 64,\n",
        "    target_embedding = 64,\n",
        "    encoding_size = 64,\n",
        "    model_base_path = \"models/seq_model/mt/\",\n",
        "    model_filename = \"model.pth\",\n",
        "    \n",
        "    # runtime\n",
        "    cuda = torch.cuda.is_available(),\n",
        "    device = \"cuda\" if torch.cuda.is_available() else \"cpu\",\n",
        "    \n",
        ")\n",
        "for k,v in args._get_kwargs():\n",
        "    if \"base\" in k:\n",
        "        setattr(args,k,args.root+v)\n",
        "        Path(getattr(args,k)).mkdir(parents=True,exist_ok=True)"
      ]
    },
    {
      "cell_type": "code",
      "execution_count": 3,
      "metadata": {},
      "outputs": [],
      "source": [
        "if args.colab:\n",
        "    from google.colab import drive\n",
        "    drive.mount('/content/drive',force_remount=True)"
      ]
    },
    {
      "cell_type": "markdown",
      "metadata": {
        "id": "mNmcX5S8GxnG"
      },
      "source": [
        "# Datapipe"
      ]
    },
    {
      "cell_type": "markdown",
      "metadata": {
        "id": "bazo1uZwGxnI"
      },
      "source": [
        "## build pipe dict"
      ]
    },
    {
      "cell_type": "code",
      "execution_count": 4,
      "metadata": {
        "id": "jqchPfEcGxnJ"
      },
      "outputs": [],
      "source": [
        "def build_pipe_dict(args=args):\n",
        "    pipe_dict = {}\n",
        "    for fname in args.dataset:\n",
        "        pipe = dp.iter.FileOpener([args.data_base_path+f\"{fname}.csv\"])\n",
        "        pipe_dict[fname] = pipe.parse_csv(skip_lines=1)\n",
        "    return pipe_dict          "
      ]
    },
    {
      "cell_type": "code",
      "execution_count": 5,
      "metadata": {
        "colab": {
          "base_uri": "https://localhost:8080/"
        },
        "id": "pEtpzx5eGxnJ",
        "outputId": "337a3802-f862-4182-fd93-9e7f304f446b"
      },
      "outputs": [
        {
          "data": {
            "text/plain": [
              "{'train': CSVParserIterDataPipe,\n",
              " 'test': CSVParserIterDataPipe,\n",
              " 'val': CSVParserIterDataPipe}"
            ]
          },
          "execution_count": 5,
          "metadata": {},
          "output_type": "execute_result"
        }
      ],
      "source": [
        "pipe_dict = build_pipe_dict(args)\n",
        "pipe_dict"
      ]
    },
    {
      "cell_type": "code",
      "execution_count": 6,
      "metadata": {
        "colab": {
          "base_uri": "https://localhost:8080/"
        },
        "id": "E-N4hnN3GxnL",
        "outputId": "cbd4ce19-86d5-43f1-dea1-e8ca7f457af4"
      },
      "outputs": [
        {
          "data": {
            "text/plain": [
              "{'train': 9138, 'test': 1969, 'val': 1955}"
            ]
          },
          "execution_count": 6,
          "metadata": {},
          "output_type": "execute_result"
        }
      ],
      "source": [
        "{k:len(list(pipe)) for k,pipe in pipe_dict.items()}"
      ]
    },
    {
      "cell_type": "code",
      "execution_count": 7,
      "metadata": {
        "colab": {
          "base_uri": "https://localhost:8080/"
        },
        "id": "6CIIe6nRGxnM",
        "outputId": "dadecc6b-1e3f-41e6-aa0e-76cba7098710"
      },
      "outputs": [
        {
          "data": {
            "text/plain": [
              "{'train': [\"he 's the cutest boy in town .\",\n",
              "  \"c'est le garçon le plus mignon en ville .\"],\n",
              " 'test': [\"he 's a man of his word .\", \"c'est un homme de parole .\"],\n",
              " 'val': [\"he 's all right .\", 'il va bien .']}"
            ]
          },
          "execution_count": 7,
          "metadata": {},
          "output_type": "execute_result"
        }
      ],
      "source": [
        "{k:next(iter(pipe)) for k,pipe in pipe_dict.items()}"
      ]
    },
    {
      "cell_type": "markdown",
      "metadata": {
        "id": "vz8dw3LOGxnN"
      },
      "source": [
        "## build vocab dict"
      ]
    },
    {
      "cell_type": "code",
      "execution_count": 8,
      "metadata": {
        "id": "7HTIweFWGxnO"
      },
      "outputs": [],
      "source": [
        "def create_vocab(counter,max_seq_length,args):\n",
        "    sort_tuples = sorted(counter.items(),key=lambda kf :(-kf[1],kf[0]))\n",
        "    vocabulary = vocab.vocab(ordered_dict=OrderedDict(sort_tuples),\n",
        "                        specials=[args.mask_tkn,\n",
        "                                  args.ukn_tkn,\n",
        "                                  args.beg_tkn,\n",
        "                                  args.end_tkn])\n",
        "    vocabulary.max_seq_length = max_seq_length\n",
        "    vocabulary.set_default_index(vocabulary[args.ukn_tkn])\n",
        "    return vocabulary"
      ]
    },
    {
      "cell_type": "code",
      "execution_count": 9,
      "metadata": {
        "id": "H-ysdQvvGxnP"
      },
      "outputs": [],
      "source": [
        "def build_vocab_dict(train_pipe,args=args):\n",
        "    counter_dict = defaultdict(Counter)\n",
        "    max_seq_len_dict = defaultdict(int)\n",
        "    for row in train_pipe:\n",
        "        for key,sent in zip([\"source\",\"target\"],row):\n",
        "            max_seq_len_dict[key] = max(max_seq_len_dict[key],len((sent_list:=sent.split(\" \"))))\n",
        "            counter_dict[key].update(sent_list)\n",
        "    \n",
        "    return {k:create_vocab(counter_dict[k],max_seq_len_dict[k],args)\n",
        "            for k in counter_dict.keys()}    "
      ]
    },
    {
      "cell_type": "code",
      "execution_count": 10,
      "metadata": {
        "colab": {
          "base_uri": "https://localhost:8080/"
        },
        "id": "oc4CA-_SGxnP",
        "outputId": "146c3c89-b736-40ba-b437-a52e4a61aa93"
      },
      "outputs": [
        {
          "data": {
            "text/plain": [
              "{'source': Vocab(), 'target': Vocab()}"
            ]
          },
          "execution_count": 10,
          "metadata": {},
          "output_type": "execute_result"
        }
      ],
      "source": [
        "vocab_dict = build_vocab_dict(pipe_dict[\"train\"],args)\n",
        "vocab_dict"
      ]
    },
    {
      "cell_type": "code",
      "execution_count": 11,
      "metadata": {
        "colab": {
          "base_uri": "https://localhost:8080/"
        },
        "id": "ynB4V5goGxnQ",
        "outputId": "6597ab4f-b3c5-4767-f6f2-d33dfc536a55"
      },
      "outputs": [
        {
          "data": {
            "text/plain": [
              "{'source': 3025, 'target': 4902}"
            ]
          },
          "execution_count": 11,
          "metadata": {},
          "output_type": "execute_result"
        }
      ],
      "source": [
        "{k:len(v) for k,v in vocab_dict.items()}"
      ]
    },
    {
      "cell_type": "code",
      "execution_count": 12,
      "metadata": {
        "colab": {
          "base_uri": "https://localhost:8080/"
        },
        "id": "p0aCQJlpGxnR",
        "outputId": "b6e90098-8127-4048-b58a-82a073305e60"
      },
      "outputs": [
        {
          "data": {
            "text/plain": [
              "{'source': 23, 'target': 24}"
            ]
          },
          "execution_count": 12,
          "metadata": {},
          "output_type": "execute_result"
        }
      ],
      "source": [
        "{k:v.max_seq_length for k,v in vocab_dict.items()}"
      ]
    },
    {
      "cell_type": "markdown",
      "metadata": {
        "id": "iPPEZ5UYGxnS"
      },
      "source": [
        "## build dataset dict"
      ]
    },
    {
      "cell_type": "code",
      "execution_count": 13,
      "metadata": {
        "id": "lkHQQUscGxnS"
      },
      "outputs": [],
      "source": [
        "def vectorize(indices,seq_length,mask_idx):\n",
        "    vector = np.full(shape=seq_length,\n",
        "                     fill_value=mask_idx,\n",
        "                     dtype=np.int64)\n",
        "    vector[:len(indices)] = indices\n",
        "    return vector\n",
        "\n",
        "def get_source_indices(source_text,source_vocab,args=args):\n",
        "    indices = [source_vocab[args.beg_tkn]]\n",
        "    indices.extend(source_vocab.lookup_indices(source_text.split(\" \")))\n",
        "    indices.append(source_vocab[args.end_tkn])\n",
        "    \n",
        "    return indices\n",
        "\n",
        "def get_target_indices(target_text,target_vocab,args=args):\n",
        "    indices = target_vocab.lookup_indices(target_text.split(\" \"))\n",
        "    target_x = [target_vocab[args.beg_tkn]] + indices\n",
        "    target_y = indices + [target_vocab[args.end_tkn]]\n",
        "    return target_x ,target_y\n",
        "\n",
        "def create_dataset(vocab_dict,args,row):\n",
        "    source_indices = get_source_indices(source_text=row[0],\n",
        "                                        source_vocab=vocab_dict[\"source\"],\n",
        "                                        args=args)\n",
        "    source_vector = vectorize(source_indices,\n",
        "                              seq_length = vocab_dict[\"source\"].max_seq_length + 2,\n",
        "                              mask_idx= vocab_dict[\"source\"][args.mask_tkn])\n",
        "    \n",
        "    target_x_indices ,target_y_indices = get_target_indices(target_text=row[1],\n",
        "                                                            target_vocab=vocab_dict[\"target\"],\n",
        "                                                            args=args)\n",
        "    \n",
        "    target_x_vector = vectorize(target_x_indices,\n",
        "                              seq_length = vocab_dict[\"target\"].max_seq_length + 1,\n",
        "                              mask_idx= vocab_dict[\"target\"][args.mask_tkn])\n",
        "    \n",
        "    target_y_vector = vectorize(target_y_indices,\n",
        "                              seq_length = vocab_dict[\"target\"].max_seq_length + 1,\n",
        "                              mask_idx= vocab_dict[\"target\"][args.mask_tkn])\n",
        "    \n",
        "    return {\"source_vector\":source_vector,\n",
        "            \"target_x_vector\":target_x_vector,\n",
        "            \"target_y_vector\":target_y_vector,\n",
        "            \"source_length\":len(source_indices)}\n",
        "    \n",
        "    \n",
        "def collate_fn(args,batch):\n",
        "    data_dict = default_collate(batch)\n",
        "    lengths = data_dict[\"source_length\"].numpy()\n",
        "    sorted_lengths = lengths.argsort()[::-1].tolist()\n",
        "    \n",
        "    return {k:v[sorted_lengths].to(args.device)\n",
        "            for k,v in data_dict.items()}\n",
        "        \n",
        "        "
      ]
    },
    {
      "cell_type": "code",
      "execution_count": 14,
      "metadata": {
        "id": "9XZRo6X5GxnT"
      },
      "outputs": [],
      "source": [
        "def build_dataset_pipe(pipe_dict,vocab_dict,args):\n",
        "    dataset_pipe = {}\n",
        "    fn = partial(create_dataset,vocab_dict,args)\n",
        "    for dataset,pipe in pipe_dict.items():\n",
        "        if dataset == \"train\":\n",
        "            pipe = pipe.shuffle()\n",
        "        \n",
        "        pipe = pipe.map(fn)\n",
        "        pipe = pipe.batch(args.batch_size,drop_last=True)\n",
        "        pipe = pipe.collate(partial(collate_fn,args))\n",
        "        \n",
        "        dataset_pipe[dataset] = pipe\n",
        "        \n",
        "    return dataset_pipe"
      ]
    },
    {
      "cell_type": "code",
      "execution_count": 15,
      "metadata": {
        "colab": {
          "base_uri": "https://localhost:8080/"
        },
        "id": "anli3SeiGxnT",
        "outputId": "7235c081-1377-4914-d424-7d2972b3ec45"
      },
      "outputs": [
        {
          "data": {
            "text/plain": [
              "{'train': CollatorIterDataPipe,\n",
              " 'test': CollatorIterDataPipe,\n",
              " 'val': CollatorIterDataPipe}"
            ]
          },
          "execution_count": 15,
          "metadata": {},
          "output_type": "execute_result"
        }
      ],
      "source": [
        "dataset_dict = build_dataset_pipe(pipe_dict,vocab_dict,args)\n",
        "dataset_dict"
      ]
    },
    {
      "cell_type": "code",
      "execution_count": 16,
      "metadata": {
        "colab": {
          "base_uri": "https://localhost:8080/"
        },
        "id": "Se1917D0GxnU",
        "outputId": "851736e8-7c97-4a33-a8fb-4606dee27aae"
      },
      "outputs": [
        {
          "data": {
            "text/plain": [
              "{'source_vector': torch.Size([64, 25]),\n",
              " 'target_x_vector': torch.Size([64, 25]),\n",
              " 'target_y_vector': torch.Size([64, 25]),\n",
              " 'source_length': torch.Size([64])}"
            ]
          },
          "execution_count": 16,
          "metadata": {},
          "output_type": "execute_result"
        }
      ],
      "source": [
        "sample = next(iter(dataset_dict[\"train\"]))\n",
        "{k:v.size() for k,v in sample.items()}"
      ]
    },
    {
      "cell_type": "markdown",
      "metadata": {
        "id": "DNwz4fEXGxnV"
      },
      "source": [
        "# Model"
      ]
    },
    {
      "cell_type": "markdown",
      "metadata": {
        "id": "fFwBBkstGxnV"
      },
      "source": [
        "## Encoder"
      ]
    },
    {
      "cell_type": "code",
      "execution_count": 17,
      "metadata": {
        "id": "1Hx-Lsm9GxnW"
      },
      "outputs": [],
      "source": [
        "class NMTEncoder(nn.Module):\n",
        "    def __init__(self,source_embedding_size,source_vocab_size,rnn_hidden_size,\n",
        "                 padding_idx=0) -> None:\n",
        "        super().__init__()\n",
        "        self.source_embedding = nn.Embedding(embedding_dim=source_embedding_size,\n",
        "                                             num_embeddings=source_vocab_size,\n",
        "                                             padding_idx=padding_idx)\n",
        "        self.birnn = nn.GRU(input_size=source_embedding_size,\n",
        "                             hidden_size=rnn_hidden_size,\n",
        "                             bidirectional=True,\n",
        "                             batch_first=True)\n",
        "    \n",
        "    def forward(self,source_vec,source_len):\n",
        "        # shape [batch,seq]\n",
        "        x_embedded = self.source_embedding(source_vec)\n",
        "        # shape [batch,seq,emb]\n",
        "        x_packed = pack_padded_sequence(input=x_embedded,\n",
        "                                        lengths=source_len.detach().cpu().numpy(),\n",
        "                                        batch_first=True)\n",
        "        \n",
        "        x_birnn_out ,x_birnn_h = self.birnn(x_packed)\n",
        "        # shape x_birnn_out will be in packed sequence since we used packed sequence\n",
        "        # when we convert into padded seq [batch,seq,2*hidden_size]\n",
        "        # shape x_birnn_h [2,batch,rnn_hidden_size]\n",
        "        \n",
        "        # permute to [batch,2,rnn_hidden_size]\n",
        "        x_birnn_h = x_birnn_h.permute(1,0,2)\n",
        "        # flatten the x_birnn_h to [batch,2*rnn_hidden_size]\n",
        "        x_birnn_h = x_birnn_h.contiguous().view(x_birnn_h.shape[0],-1)\n",
        "        \n",
        "        x_unpacked , _ = pad_packed_sequence(x_birnn_out,batch_first=True)\n",
        "        \n",
        "        return x_unpacked , x_birnn_h\n",
        "        "
      ]
    },
    {
      "cell_type": "code",
      "execution_count": 18,
      "metadata": {
        "id": "DtO8keCdGxnW"
      },
      "outputs": [],
      "source": [
        "def attention_mechanism(encode_state_vector,query_vector):\n",
        "    batch_size , seq_size , emb_size = encode_state_vector.size()\n",
        "    vector_score = torch.sum(encode_state_vector*query_vector.view(batch_size,1,emb_size),dim=2)\n",
        "    vector_prob = F.softmax(vector_score,dim=1)\n",
        "    weight_vector = encode_state_vector * vector_prob.view(batch_size,seq_size,1)\n",
        "    context_vector = torch.sum(weight_vector,dim=1)\n",
        "    return context_vector,vector_prob,vector_score"
      ]
    },
    {
      "cell_type": "code",
      "execution_count": 19,
      "metadata": {
        "id": "7k_T_KLQGxnX"
      },
      "outputs": [],
      "source": [
        "class NMTDecoder(nn.Module):\n",
        "    def __init__(self,embedding_size,num_embeddings,rnn_hidden_size,\n",
        "                 padding_idx =0) -> None:\n",
        "        super().__init__()\n",
        "        self._rnn_hidden_size = rnn_hidden_size\n",
        "        self.target_embedding = nn.Embedding(num_embeddings=num_embeddings,\n",
        "                                             embedding_dim=embedding_size,\n",
        "                                             padding_idx=padding_idx)\n",
        "        self.decoder_cell = nn.GRUCell(input_size=embedding_size+rnn_hidden_size,\n",
        "                                       hidden_size=rnn_hidden_size)\n",
        "        self.hidden_map = nn.Linear(rnn_hidden_size,rnn_hidden_size)\n",
        "        self.classifier = nn.Linear(2*rnn_hidden_size,num_embeddings)\n",
        "    \n",
        "    def _init_context_vectors(self,batch_size):\n",
        "        return torch.zeros(size=(batch_size,self._rnn_hidden_size))\n",
        "    \n",
        "    def forward(self,encode_state,initial_hidden,target_sequence):\n",
        "        # assuming the target sequence shape [batch,TS]\n",
        "        # permute to [TS,batch]\n",
        "        batch_size,out_seq_size = target_sequence.size()\n",
        "        target_sequence = target_sequence.permute(1,0)\n",
        "        \n",
        "        context_vector  = self._init_context_vectors(batch_size).to(encode_state.device)\n",
        "        h_t = self.hidden_map(initial_hidden)\n",
        "        \n",
        "        output_vectors = []\n",
        "        \n",
        "        self._cache_p_attn =[]\n",
        "        self._cache_ht = []\n",
        "        self._decoder_state = encode_state.detach().cpu().numpy()\n",
        "        \n",
        "        \n",
        "        for xt in target_sequence:\n",
        "            xt_vector = self.target_embedding(xt)\n",
        "            rnn_input = torch.cat((xt_vector,context_vector),dim=1)\n",
        "            \n",
        "            h_t = self.decoder_cell(rnn_input,h_t)\n",
        "            self._cache_ht.append(h_t.detach().cpu().numpy())\n",
        "            \n",
        "            # attention mechanism\n",
        "            context_vector,p_attn,_ = attention_mechanism(encode_state,query_vector=h_t)\n",
        "            self._cache_p_attn.append(p_attn.detach().cpu().numpy())\n",
        "            \n",
        "            pred_vector = torch.cat((context_vector,h_t),dim=1)\n",
        "            score_yt = self.classifier(F.dropout(pred_vector,0.3))\n",
        "            \n",
        "            output_vectors.append(score_yt)\n",
        "        \n",
        "        output_vectors = torch.stack(output_vectors).permute(1,0,2)\n",
        "        \n",
        "        return output_vectors\n",
        "    "
      ]
    },
    {
      "cell_type": "code",
      "execution_count": 20,
      "metadata": {
        "id": "jUgcLohZGxnY"
      },
      "outputs": [],
      "source": [
        "class NMTModel(nn.Module):\n",
        "    def __init__(self,source_vocab_size,source_embedding,\n",
        "                 target_vocab_size,target_embedding,encoding_size,\n",
        "                 padding_idx=0) -> None:\n",
        "        super().__init__()\n",
        "        self.encoder = NMTEncoder(source_embedding_size=source_embedding,\n",
        "                                  source_vocab_size=source_vocab_size,\n",
        "                                  rnn_hidden_size=encoding_size,\n",
        "                                  padding_idx=padding_idx)\n",
        "        decoding_size = 2 * encoding_size\n",
        "        self.decoder = NMTDecoder(embedding_size=target_embedding,\n",
        "                                  num_embeddings=target_vocab_size,\n",
        "                                  rnn_hidden_size=decoding_size)\n",
        "        \n",
        "    def forward(self,x_source,x_source_length,x_target):\n",
        "        encoder_state,hidden_state = self.encoder(x_source,x_source_length)\n",
        "        decoder_state = self.decoder(encode_state=encoder_state,\n",
        "                                     initial_hidden=hidden_state,\n",
        "                                     target_sequence=x_target)\n",
        "        return decoder_state"
      ]
    },
    {
      "cell_type": "code",
      "execution_count": 21,
      "metadata": {
        "id": "wfnNnUe9GxnY"
      },
      "outputs": [],
      "source": [
        "def normalize_size(y_pred,y_true):\n",
        "    if y_pred.ndim == 3:\n",
        "        \"\"\"y_pred in the shape [batch_size,seq_size,vocab_size]\n",
        "        since we have to predict the vocab size then we have to change the \n",
        "        dimension into [batch*seq,vocab_size] which in the form of [N,C]\n",
        "        \n",
        "        N-token in the all the sample seq\n",
        "        C-class we want to predict ie vocab size\"\"\"\n",
        "        y_pred = y_pred.contiguous().view(-1,y_pred.size(2))\n",
        "    if y_true.ndim == 2:\n",
        "        \"\"\"y_true in the shape [batch,seq] then we need to convert into\n",
        "        [batch*seq] which in the form of [N,] \n",
        "        \n",
        "        N- token in all the sample seq\"\"\"        \n",
        "        y_true = y_true.contiguous().view(-1)\n",
        "        \n",
        "    return y_pred,y_true\n",
        "\n",
        "def sequence_loss(y_pred,y_true,mask_index):\n",
        "    y_pred,y_true = normalize_size(y_pred,y_true)\n",
        "    return F.cross_entropy(y_pred,y_true,ignore_index=mask_index)\n",
        "\n",
        "def compute_acc(y_pred,y_true,mask_index):\n",
        "    y_pred,y_true = normalize_size(y_pred,y_true)\n",
        "    _,y_pred_indices = y_pred.max(dim=1)\n",
        "    \n",
        "    correct_indices = torch.eq(y_pred_indices,y_true).float()\n",
        "    valid_indices = torch.ne(y_true,mask_index).float()\n",
        "    \n",
        "    n_correct = (correct_indices * valid_indices).sum().item()\n",
        "    n_valid = valid_indices.sum().item()\n",
        "    \n",
        "    return n_correct /n_valid"
      ]
    },
    {
      "cell_type": "markdown",
      "metadata": {
        "id": "kCWP9szYGxnZ"
      },
      "source": [
        "# Training"
      ]
    },
    {
      "cell_type": "markdown",
      "metadata": {
        "id": "lydQ3sWNGxnZ"
      },
      "source": [
        "## Helper function"
      ]
    },
    {
      "cell_type": "code",
      "execution_count": 22,
      "metadata": {
        "id": "UJ_W5mQRGxna"
      },
      "outputs": [],
      "source": [
        "def make_train_state(args=args):\n",
        "    return {\"stop_early\":False,\n",
        "            \"early_stopping_step\":0,\n",
        "            \"early_stopping_val\":1e5,\n",
        "            \"epoch_index\":0,\n",
        "            \"model_filepath\":args.model_base_path+args.model_filename,\n",
        "            \"train_loss\":[],\n",
        "            \"train_acc\":[],\n",
        "            \"val_loss\":[],\n",
        "            \"val_acc\":[],\n",
        "            \"test_loss\":-1,\n",
        "            \"test_acc\":-1}\n",
        "\n",
        "def update_train_state(train_state,model,args=args):\n",
        "    if train_state[\"epoch_index\"] == 0:\n",
        "        torch.save(model.state_dict(),train_state[\"model_filepath\"])\n",
        "        train_state[\"stop_early\"] = False\n",
        "    \n",
        "    elif train_state[\"epoch_index\"] >= 1:\n",
        "        loss_tm1 , loss_t = train_state[\"val_loss\"][-2:]\n",
        "        if loss_t >= train_state[\"early_stopping_val\"]:\n",
        "            train_state[\"early_stopping_step\"] +=1\n",
        "        else:\n",
        "            torch.save(model.state_dict(),train_state[\"model_filepath\"])\n",
        "            train_state[\"early_stopping_step\"] = 0\n",
        "            \n",
        "        train_state[\"stop_early\"] = train_state[\"early_stopping_step\"] >= args.early_stopping_criteria\n",
        "    \n",
        "    return train_state"
      ]
    },
    {
      "cell_type": "markdown",
      "metadata": {
        "id": "InMikZcaGxna"
      },
      "source": [
        "## initialize"
      ]
    },
    {
      "cell_type": "code",
      "execution_count": 23,
      "metadata": {
        "id": "Jvr-jpMPGxna"
      },
      "outputs": [],
      "source": [
        "pipe_dict = build_pipe_dict()\n",
        "vocab_dict = build_vocab_dict(pipe_dict[\"train\"])\n",
        "dataset_dict = build_dataset_pipe(pipe_dict,vocab_dict,args)"
      ]
    },
    {
      "cell_type": "code",
      "execution_count": 24,
      "metadata": {
        "id": "ayrA9FaZGxnb"
      },
      "outputs": [],
      "source": [
        "args.source_vocab_size = len(vocab_dict[\"source\"])\n",
        "args.target_vocab_size = len(vocab_dict[\"target\"])\n",
        "args.padding_idx = vocab_dict[\"source\"][args.mask_tkn]"
      ]
    },
    {
      "cell_type": "code",
      "execution_count": 33,
      "metadata": {
        "id": "BL3fceowGxnb"
      },
      "outputs": [],
      "source": [
        "model = NMTModel(source_vocab_size=args.source_vocab_size,\n",
        "                 source_embedding=args.source_embedding,\n",
        "                 target_vocab_size=args.target_vocab_size,\n",
        "                 target_embedding=args.target_embedding,\n",
        "                 encoding_size=args.encoding_size,\n",
        "                 padding_idx=args.padding_idx).to(args.device)\n",
        "\n",
        "optimizer = optim.Adam(params=model.parameters(),\n",
        "                       lr=args.learning_rate)\n",
        "\n",
        "scheduler = optim.lr_scheduler.ReduceLROnPlateau(optimizer=optimizer,\n",
        "                                                 mode=\"min\",\n",
        "                                                 factor=0.5,\n",
        "                                                 patience=1)\n",
        "\n",
        "train_state = make_train_state(args)"
      ]
    },
    {
      "cell_type": "markdown",
      "metadata": {
        "id": "WVcY1pfQGxnc"
      },
      "source": [
        "## loop"
      ]
    },
    {
      "cell_type": "code",
      "execution_count": 34,
      "metadata": {
        "colab": {
          "base_uri": "https://localhost:8080/"
        },
        "id": "fE25DsZSGxnc",
        "outputId": "78ef0ed4-f261-4263-e9c3-87413aac155e"
      },
      "outputs": [
        {
          "name": "stderr",
          "output_type": "stream",
          "text": [
            "100%|██████████| 100/100 [12:40<00:00,  7.61s/it]\n"
          ]
        }
      ],
      "source": [
        "for epoch_index in tqdm(range(args.num_epochs)):\n",
        "    train_state[\"epoch_index\"] = epoch_index\n",
        "    \n",
        "    # get the data\n",
        "    batch_generator = DataLoader2(datapipe=dataset_dict[\"train\"])\n",
        "    model.train()\n",
        "    running_loss = 0.0\n",
        "    running_acc = 0.0\n",
        "    \n",
        "    for batch_idx,batch_dict in enumerate(batch_generator):\n",
        "        model.zero_grad()\n",
        "        logits = model(x_source=batch_dict[\"source_vector\"],\n",
        "                       x_source_length=batch_dict[\"source_length\"],\n",
        "                       x_target=batch_dict[\"target_x_vector\"])\n",
        "        \n",
        "        # loss\n",
        "        loss = sequence_loss(logits,batch_dict[\"target_y_vector\"],args.padding_idx)\n",
        "        loss_t = loss.item()\n",
        "        running_loss += (loss_t - running_loss) /(batch_idx+1)\n",
        "        \n",
        "        # acc\n",
        "        acc_t = compute_acc(logits,batch_dict[\"target_y_vector\"],args.padding_idx)\n",
        "        running_acc += (acc_t - running_acc) / (batch_idx+1)\n",
        "        \n",
        "        loss.backward()\n",
        "        optimizer.step()\n",
        "        \n",
        "    train_state[\"train_loss\"].append(running_loss)\n",
        "    train_state[\"train_acc\"].append(running_acc)\n",
        "    \n",
        "    # iterate over the val \n",
        "    batch_generator = DataLoader2(dataset_dict[\"val\"])\n",
        "    running_loss = 0.0\n",
        "    running_acc = 0.0\n",
        "    model.eval()\n",
        "    \n",
        "    for batch_idx,batch_dict in enumerate(batch_generator):\n",
        "        with torch.inference_mode():\n",
        "            logits = model(x_source=batch_dict[\"source_vector\"],\n",
        "                       x_source_length=batch_dict[\"source_length\"],\n",
        "                       x_target=batch_dict[\"target_x_vector\"])\n",
        "            \n",
        "            # loss\n",
        "            loss = sequence_loss(logits,batch_dict[\"target_y_vector\"],args.padding_idx)\n",
        "            loss_t = loss.item()\n",
        "            running_loss += (loss_t - running_loss) /(batch_idx+1)\n",
        "            \n",
        "            # acc\n",
        "            acc_t = compute_acc(logits,batch_dict[\"target_y_vector\"],args.padding_idx)\n",
        "            running_acc += (acc_t - running_acc) / (batch_idx+1)   \n",
        "            \n",
        "    train_state[\"val_loss\"].append(running_loss)         \n",
        "    train_state[\"val_acc\"].append(running_acc)\n",
        "    \n",
        "    train_state = update_train_state(args=args, model=model, \n",
        "                                         train_state=train_state)\n",
        "\n",
        "    \n",
        "    scheduler.step(train_state[\"val_loss\"][-1])\n",
        "    \n",
        "    if train_state[\"stop_early\"]:\n",
        "        break          "
      ]
    },
    {
      "cell_type": "code",
      "execution_count": 57,
      "metadata": {
        "id": "Cg93mEWXRy9S"
      },
      "outputs": [],
      "source": [
        "def get_sentence_from_indices(indices,vocab,return_string=False,args=args):\n",
        "    idx_to_token = vocab.get_itos()\n",
        "    out = []\n",
        "    for index in indices.numpy():\n",
        "        if index == vocab[args.beg_tkn]:\n",
        "            continue\n",
        "        elif index == vocab[args.mask_tkn] or index == vocab[args.end_tkn] :\n",
        "            break\n",
        "        else:\n",
        "            out.append(idx_to_token[index])\n",
        "    if return_string:\n",
        "        return \" \".join(out)\n",
        "    else:\n",
        "        return out"
      ]
    },
    {
      "cell_type": "code",
      "execution_count": 58,
      "metadata": {},
      "outputs": [
        {
          "data": {
            "text/plain": [
              "\"je suis un locuteur non-natif de l'anglais et je prends conscience que j'ai encore beaucoup à apprendre .\""
            ]
          },
          "execution_count": 58,
          "metadata": {},
          "output_type": "execute_result"
        }
      ],
      "source": [
        "get_sentence_from_indices(sample[\"target_x_vector\"][0],vocab_dict[\"target\"],True)"
      ]
    },
    {
      "cell_type": "code",
      "execution_count": null,
      "metadata": {},
      "outputs": [],
      "source": [
        "chencherry = bleu_score.SmoothingFunction()"
      ]
    },
    {
      "cell_type": "code",
      "execution_count": null,
      "metadata": {},
      "outputs": [],
      "source": [
        "class NMTSampler:\n",
        "    def __init__(self,model,vocab_dict) -> None:\n",
        "        self.model = model\n",
        "        self.vocab_dict = vocab_dict\n",
        "        \n",
        "    def apply_to_batch(self,batch_dict):\n",
        "        self._last_batch = batch_dict\n",
        "        y_pred = model(x_source=batch_dict[\"source_vector\"],\n",
        "                       x_source_length=batch_dict[\"source_length\"],\n",
        "                       x_target=batch_dict[\"target_x_vector\"])\n",
        "        self._last_batch[\"y_pred\"] = y_pred\n",
        "        attention_batched = np.stack(self.model.decoder._cache_p_attn).transpose(1, 0, 2)\n",
        "        self._last_batch['attention'] = attention_batched\n",
        "        \n",
        "    def _get_source_sentence(self, index, return_string=True):\n",
        "        indices = self._last_batch['source_vector'][index].cpu().detach().numpy()\n",
        "        vocab = self.vocab_dict[\"source\"]\n",
        "        return get_sentence_from_indices(indices, vocab, return_string=return_string)\n",
        "\n",
        "    def _get_reference_sentence(self, index, return_string=True):\n",
        "        indices = self._last_batch['target_y_vector'][index].cpu().detach().numpy()\n",
        "        vocab = self.vocab_dict[\"target\"]\n",
        "        return get_sentence_from_indices(indices, vocab, return_string=return_string)\n",
        "    \n",
        "    def _get_sampled_sentence(self, index, return_string=True):\n",
        "        _, all_indices = torch.max(self._last_batch['y_pred'], dim=2)\n",
        "        sentence_indices = all_indices[index].cpu().detach().numpy()\n",
        "        vocab = self.vocab_dict[\"target\"]\n",
        "        return get_sentence_from_indices(sentence_indices, vocab, return_string=return_string)\n",
        "\n",
        "    def get_ith_item(self, index, return_string=True):\n",
        "        output = {\"source\": self._get_source_sentence(index, return_string=return_string), \n",
        "                  \"reference\": self._get_reference_sentence(index, return_string=return_string), \n",
        "                  \"sampled\": self._get_sampled_sentence(index, return_string=return_string),\n",
        "                  \"attention\": self._last_batch['attention'][index]}\n",
        "        \n",
        "        reference = output['reference']\n",
        "        hypothesis = output['sampled']\n",
        "        \n",
        "        if not return_string:\n",
        "            reference = \" \".join(reference)\n",
        "            hypothesis = \" \".join(hypothesis)\n",
        "        \n",
        "        output['bleu-4'] = bleu_score.sentence_bleu(references=[reference],\n",
        "                                                    hypothesis=hypothesis,\n",
        "                                                    smoothing_function=chencherry.method1)\n",
        "        \n",
        "        return output"
      ]
    },
    {
      "cell_type": "code",
      "execution_count": null,
      "metadata": {},
      "outputs": [],
      "source": [
        "model = model.eval().to(args.device)\n",
        "\n",
        "sampler = NMTSampler(model,vocab_dict)\n",
        "\n",
        "\n",
        "batch_generator = DataLoader2(dataset_dict[\"test\"])\n",
        "                  \n",
        "                  \n",
        "\n",
        "test_results = []\n",
        "for batch_dict in batch_generator:\n",
        "    sampler.apply_to_batch(batch_dict)\n",
        "    for i in range(args.batch_size):\n",
        "        test_results.append(sampler.get_ith_item(i, False))"
      ]
    },
    {
      "cell_type": "code",
      "execution_count": null,
      "metadata": {},
      "outputs": [],
      "source": [
        "plt.hist([r['bleu-4'] for r in test_results], bins=100);\n",
        "np.mean([r['bleu-4'] for r in test_results]), np.median([r['bleu-4'] for r in test_results])"
      ]
    },
    {
      "cell_type": "code",
      "execution_count": null,
      "metadata": {},
      "outputs": [],
      "source": [
        "batch_generator = DataLoader2(dataset_dict[\"val\"])\n",
        "\n",
        "batch_dict = next(batch_generator)\n",
        "\n",
        "model = model.eval().to(args.device)\n",
        "sampler = NMTSampler(model,vocab_dict)\n",
        "sampler.apply_to_batch(batch_dict)"
      ]
    },
    {
      "cell_type": "code",
      "execution_count": null,
      "metadata": {},
      "outputs": [],
      "source": [
        "all_results = []\n",
        "for i in range(args.batch_size):\n",
        "    all_results.append(sampler.get_ith_item(i, False))"
      ]
    },
    {
      "cell_type": "code",
      "execution_count": null,
      "metadata": {},
      "outputs": [],
      "source": [
        "top_results = [x for x in all_results if x['bleu-4']>0.1]\n",
        "len(top_results)"
      ]
    },
    {
      "cell_type": "code",
      "execution_count": null,
      "metadata": {},
      "outputs": [],
      "source": [
        "for sample in top_results:\n",
        "    plt.figure()\n",
        "    target_len = len(sample['sampled'])\n",
        "    source_len = len(sample['source'])\n",
        "\n",
        "    attention_matrix = sample['attention'][:target_len, :source_len+2].transpose()#[::-1]\n",
        "    ax = sns.heatmap(attention_matrix, center=0.0)\n",
        "    ylabs = [\"<BOS>\"]+sample['source']+[\"<EOS>\"]\n",
        "    #ylabs = sample['source']\n",
        "    #ylabs = ylabs[::-1]\n",
        "    ax.set_yticklabels(ylabs, rotation=0)\n",
        "    ax.set_xticklabels(sample['sampled'], rotation=90)\n",
        "    ax.set_xlabel(\"Target Sentence\")\n",
        "    ax.set_ylabel(\"Source Sentence\\n\\n\")"
      ]
    }
  ],
  "metadata": {
    "accelerator": "GPU",
    "colab": {
      "provenance": []
    },
    "gpuClass": "standard",
    "kernelspec": {
      "display_name": "nlp",
      "language": "python",
      "name": "python3"
    },
    "language_info": {
      "codemirror_mode": {
        "name": "ipython",
        "version": 3
      },
      "file_extension": ".py",
      "mimetype": "text/x-python",
      "name": "python",
      "nbconvert_exporter": "python",
      "pygments_lexer": "ipython3",
      "version": "3.10.9"
    },
    "orig_nbformat": 4
  },
  "nbformat": 4,
  "nbformat_minor": 0
}
