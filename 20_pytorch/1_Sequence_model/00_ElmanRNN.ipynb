{
 "cells": [
  {
   "cell_type": "code",
   "execution_count": 1,
   "metadata": {},
   "outputs": [],
   "source": [
    "import torch\n",
    "from torch import nn"
   ]
  },
  {
   "attachments": {},
   "cell_type": "markdown",
   "metadata": {},
   "source": [
    "# understanding"
   ]
  },
  {
   "attachments": {},
   "cell_type": "markdown",
   "metadata": {},
   "source": [
    "## RNN cell"
   ]
  },
  {
   "cell_type": "code",
   "execution_count": 2,
   "metadata": {},
   "outputs": [],
   "source": [
    "input_size = 6 \n",
    "hidden_size = 3\n",
    "time_step = 5\n",
    "n = 4"
   ]
  },
  {
   "cell_type": "code",
   "execution_count": 3,
   "metadata": {},
   "outputs": [],
   "source": [
    "rnn = nn.RNNCell(input_size=input_size,hidden_size=hidden_size,bias=False)"
   ]
  },
  {
   "cell_type": "code",
   "execution_count": 4,
   "metadata": {},
   "outputs": [
    {
     "data": {
      "text/plain": [
       "Parameter containing:\n",
       "tensor([[-0.3647,  0.0296,  0.1803],\n",
       "        [-0.3055, -0.1300, -0.4732],\n",
       "        [-0.0404,  0.2164,  0.1798]], requires_grad=True)"
      ]
     },
     "execution_count": 4,
     "metadata": {},
     "output_type": "execute_result"
    }
   ],
   "source": [
    "rnn.weight_hh\n",
    "#? shape [hidden,hidden]"
   ]
  },
  {
   "cell_type": "code",
   "execution_count": 5,
   "metadata": {},
   "outputs": [
    {
     "data": {
      "text/plain": [
       "Parameter containing:\n",
       "tensor([[ 0.1958, -0.3232,  0.4695,  0.4729, -0.2073,  0.0308],\n",
       "        [ 0.0351, -0.0463, -0.2439,  0.4978, -0.1700, -0.1514],\n",
       "        [-0.2154, -0.1728, -0.0040, -0.1036, -0.3437,  0.0540]],\n",
       "       requires_grad=True)"
      ]
     },
     "execution_count": 5,
     "metadata": {},
     "output_type": "execute_result"
    }
   ],
   "source": [
    "rnn.weight_ih\n",
    "#? shape [hidden,input]"
   ]
  },
  {
   "cell_type": "code",
   "execution_count": 6,
   "metadata": {},
   "outputs": [],
   "source": [
    "input = torch.randn(time_step,n,input_size)\n",
    "hx = torch.randn(n,hidden_size)\n",
    "initial_hx = hx\n",
    "output = []\n",
    "for i in range(time_step):\n",
    "    hx = rnn(input[i],hx)\n",
    "    output.append(hx) "
   ]
  },
  {
   "cell_type": "code",
   "execution_count": 7,
   "metadata": {},
   "outputs": [
    {
     "data": {
      "text/plain": [
       "torch.Size([4, 3])"
      ]
     },
     "execution_count": 7,
     "metadata": {},
     "output_type": "execute_result"
    }
   ],
   "source": [
    "output[0].shape"
   ]
  },
  {
   "cell_type": "code",
   "execution_count": 8,
   "metadata": {},
   "outputs": [
    {
     "data": {
      "text/plain": [
       "tensor([[True, True, True],\n",
       "        [True, True, True],\n",
       "        [True, True, True],\n",
       "        [True, True, True]])"
      ]
     },
     "execution_count": 8,
     "metadata": {},
     "output_type": "execute_result"
    }
   ],
   "source": [
    "output[0] == torch.tanh(torch.matmul(input[0],rnn.weight_ih.T) + torch.matmul(initial_hx,rnn.weight_hh.T))"
   ]
  },
  {
   "cell_type": "code",
   "execution_count": 9,
   "metadata": {},
   "outputs": [],
   "source": [
    "from argparse import Namespace\n",
    "from collections import (\n",
    "    OrderedDict,\n",
    "    Counter\n",
    ")\n",
    "from functools import partial\n",
    "from pathlib import Path\n",
    "\n",
    "# torch\n",
    "import torch\n",
    "from torch import nn\n",
    "from torch import optim\n",
    "from torch.nn import functional as F\n",
    "from torch.utils.data import (\n",
    "    DataLoader,\n",
    "    default_collate\n",
    ")\n",
    "from torch.utils.data.backward_compatibility import worker_init_fn\n",
    "## other \n",
    "from torchdata import datapipes as dp\n",
    "from torchtext import vocab\n",
    "from torchmetrics import Accuracy\n",
    "\n",
    "# manipulation\n",
    "import numpy as np\n",
    "\n",
    "# visual\n",
    "import matplotlib.pyplot as plt\n",
    "\n",
    "# other \n",
    "from tqdm import tqdm"
   ]
  },
  {
   "cell_type": "code",
   "execution_count": 10,
   "metadata": {},
   "outputs": [],
   "source": [
    "args = Namespace(\n",
    "    # data\n",
    "    data_base_path = \"../../data/surnames/\",\n",
    "    dataset = [\"train\",\"val\",\"test\"],\n",
    "    \n",
    "    # vocab\n",
    "    mask_tkn = \"<MASK>\",\n",
    "    unk_tkn = \"<UNK>\",\n",
    "    beg_tkn = \"<B>\",\n",
    "    end_tkn = \"<E>\",\n",
    "    \n",
    "    # model \n",
    "    embed_dim = 100,\n",
    "    hidden_size = 64,\n",
    "    model_base_path = \"../../models/seq_model/rnn/\",\n",
    "    model_filename = \"model.pth\",\n",
    "    \n",
    "    # Training\n",
    "    num_epochs = 100,\n",
    "    batch_size = 64,\n",
    "    learning_rate = 1e-3,\n",
    "    early_stopping_criteria = 5,\n",
    "    \n",
    "    # runtime\n",
    "    cuda = torch.cuda.is_available(),\n",
    "    device = \"cuda\" if torch.cuda.is_available() else \"cpu\",\n",
    ")\n",
    "for k,v in args._get_kwargs():\n",
    "    if \"base\" in k:\n",
    "        Path(v).mkdir(parents=True,exist_ok=True)"
   ]
  },
  {
   "attachments": {},
   "cell_type": "markdown",
   "metadata": {},
   "source": [
    "# Datapipe"
   ]
  },
  {
   "cell_type": "code",
   "execution_count": 11,
   "metadata": {},
   "outputs": [],
   "source": [
    "def build_pipe_dict(args=args):\n",
    "    pipe_dict = {}\n",
    "    for fname in args.dataset:\n",
    "        pipe = dp.iter.FileOpener([args.data_base_path+f\"{fname}.csv\"])\n",
    "        pipe = pipe.parse_csv(skip_lines=1)\n",
    "        pipe_dict[fname] = pipe\n",
    "    return pipe_dict"
   ]
  },
  {
   "cell_type": "code",
   "execution_count": 12,
   "metadata": {},
   "outputs": [
    {
     "data": {
      "text/plain": [
       "{'train': CSVParserIterDataPipe,\n",
       " 'val': CSVParserIterDataPipe,\n",
       " 'test': CSVParserIterDataPipe}"
      ]
     },
     "execution_count": 12,
     "metadata": {},
     "output_type": "execute_result"
    }
   ],
   "source": [
    "pipe_dict = build_pipe_dict()\n",
    "pipe_dict"
   ]
  },
  {
   "cell_type": "code",
   "execution_count": 13,
   "metadata": {},
   "outputs": [
    {
     "data": {
      "text/plain": [
       "(7683, 1647, 1647)"
      ]
     },
     "execution_count": 13,
     "metadata": {},
     "output_type": "execute_result"
    }
   ],
   "source": [
    "len(list(pipe_dict[\"train\"])),len(list(pipe_dict[\"val\"])),len(list(pipe_dict[\"test\"]))"
   ]
  },
  {
   "cell_type": "code",
   "execution_count": 14,
   "metadata": {},
   "outputs": [
    {
     "data": {
      "text/plain": [
       "['Essop', 'English']"
      ]
     },
     "execution_count": 14,
     "metadata": {},
     "output_type": "execute_result"
    }
   ],
   "source": [
    "next(iter(pipe_dict[\"train\"]))"
   ]
  },
  {
   "cell_type": "code",
   "execution_count": 15,
   "metadata": {},
   "outputs": [
    {
     "data": {
      "text/plain": [
       "['Ingleby', 'English']"
      ]
     },
     "execution_count": 15,
     "metadata": {},
     "output_type": "execute_result"
    }
   ],
   "source": [
    "next(iter(pipe_dict[\"val\"]))"
   ]
  },
  {
   "cell_type": "code",
   "execution_count": 16,
   "metadata": {},
   "outputs": [
    {
     "data": {
      "text/plain": [
       "['Readle', 'English']"
      ]
     },
     "execution_count": 16,
     "metadata": {},
     "output_type": "execute_result"
    }
   ],
   "source": [
    "next(iter(pipe_dict[\"test\"]))"
   ]
  },
  {
   "cell_type": "code",
   "execution_count": 17,
   "metadata": {},
   "outputs": [],
   "source": [
    "def build_vocab_dict(train_pipe,args):\n",
    "    char_counter = Counter()\n",
    "    nation_counter = Counter()\n",
    "    max_seq_length = -1\n",
    "    for name,nation in train_pipe:\n",
    "        max_seq_length = max(len(name),max_seq_length)\n",
    "        char_counter.update(name)\n",
    "        nation_counter.update([nation])\n",
    "        \n",
    "        \n",
    "    sort_fn = lambda kf : (-kf[1],kf[0])\n",
    "    char_sort_tuples = sorted(char_counter.items(),key=sort_fn)\n",
    "    nation_sort_tuples = sorted(nation_counter.items(),key=sort_fn)\n",
    "    \n",
    "    char_vocab = vocab.vocab(ordered_dict=OrderedDict(char_sort_tuples),\n",
    "                             specials=[args.mask_tkn,\n",
    "                                       args.unk_tkn,\n",
    "                                       args.beg_tkn,\n",
    "                                       args.end_tkn])\n",
    "    char_vocab.set_default_index(char_vocab[args.unk_tkn])\n",
    "    char_vocab.max_seq_length = max_seq_length + 2\n",
    "    nation_vocab = vocab.vocab(OrderedDict(nation_sort_tuples))\n",
    "    freq = [count for _,count in nation_sort_tuples]\n",
    "    nation_vocab.class_weights = 1.0 / torch.tensor(freq,dtype=torch.float32)\n",
    "    \n",
    "    return {\"char\":char_vocab,\n",
    "            \"nation\":nation_vocab}\n",
    "    "
   ]
  },
  {
   "cell_type": "code",
   "execution_count": 18,
   "metadata": {},
   "outputs": [
    {
     "data": {
      "text/plain": [
       "{'char': Vocab(), 'nation': Vocab()}"
      ]
     },
     "execution_count": 18,
     "metadata": {},
     "output_type": "execute_result"
    }
   ],
   "source": [
    "vocab_dict = build_vocab_dict(pipe_dict[\"train\"],args)\n",
    "vocab_dict"
   ]
  },
  {
   "cell_type": "code",
   "execution_count": 19,
   "metadata": {},
   "outputs": [
    {
     "data": {
      "text/plain": [
       "(83, 18)"
      ]
     },
     "execution_count": 19,
     "metadata": {},
     "output_type": "execute_result"
    }
   ],
   "source": [
    "len(vocab_dict[\"char\"]) , len(vocab_dict[\"nation\"])"
   ]
  },
  {
   "cell_type": "code",
   "execution_count": 20,
   "metadata": {},
   "outputs": [
    {
     "data": {
      "text/plain": [
       "19"
      ]
     },
     "execution_count": 20,
     "metadata": {},
     "output_type": "execute_result"
    }
   ],
   "source": [
    "vocab_dict[\"char\"].max_seq_length"
   ]
  },
  {
   "cell_type": "code",
   "execution_count": 21,
   "metadata": {},
   "outputs": [
    {
     "data": {
      "text/plain": [
       "tensor([0.0005, 0.0006, 0.0009, 0.0018, 0.0024, 0.0025, 0.0034, 0.0055, 0.0060,\n",
       "        0.0063, 0.0065, 0.0078, 0.0092, 0.0119, 0.0189, 0.0192, 0.0250, 0.0263])"
      ]
     },
     "execution_count": 21,
     "metadata": {},
     "output_type": "execute_result"
    }
   ],
   "source": [
    "vocab_dict[\"nation\"].class_weights"
   ]
  },
  {
   "cell_type": "code",
   "execution_count": 22,
   "metadata": {},
   "outputs": [],
   "source": [
    "def vectorizer(name,char_vocab,args=args):\n",
    "    indices = [char_vocab[args.beg_tkn]]\n",
    "    indices.extend(char_vocab.lookup_indices(list(name)))\n",
    "    indices.append(char_vocab[args.end_tkn])\n",
    "    \n",
    "    vector = np.zeros(char_vocab.max_seq_length,dtype=np.int64)\n",
    "    vector[:(a:=len(indices))] = indices\n",
    "    vector[a:] = char_vocab[args.mask_tkn]\n",
    "    \n",
    "    return vector,a"
   ]
  },
  {
   "cell_type": "code",
   "execution_count": 23,
   "metadata": {},
   "outputs": [
    {
     "data": {
      "text/plain": [
       "(array([ 2, 11,  4, 15,  3,  0,  0,  0,  0,  0,  0,  0,  0,  0,  0,  0,  0,\n",
       "         0,  0], dtype=int64),\n",
       " 5)"
      ]
     },
     "execution_count": 23,
     "metadata": {},
     "output_type": "execute_result"
    }
   ],
   "source": [
    "vectorizer(\"lak\",vocab_dict[\"char\"])"
   ]
  },
  {
   "cell_type": "code",
   "execution_count": 24,
   "metadata": {},
   "outputs": [],
   "source": [
    "def create_dataset(vocab_dict,args,row):\n",
    "    char_vector,vec_length = vectorizer(row[0],vocab_dict[\"char\"],args)\n",
    "    nation_idx = vocab_dict[\"nation\"][row[1]]\n",
    "    \n",
    "    return {\"x\":char_vector,\n",
    "            \"y\":nation_idx,\n",
    "            \"vec_length\":vec_length}"
   ]
  },
  {
   "cell_type": "code",
   "execution_count": 25,
   "metadata": {},
   "outputs": [],
   "source": [
    "def build_dataset_dict(pipe_dict,vocab_dict,args):\n",
    "    dataset_dict = {}\n",
    "    fn = partial(create_dataset,vocab_dict,args)\n",
    "    for dataset,pipe in pipe_dict.items():\n",
    "        if dataset == \"train\":\n",
    "            pipe = pipe.shuffle()\n",
    "        \n",
    "        dataset_dict[dataset] = pipe.map(fn)\n",
    "    \n",
    "    return dataset_dict   "
   ]
  },
  {
   "cell_type": "code",
   "execution_count": 26,
   "metadata": {},
   "outputs": [
    {
     "data": {
      "text/plain": [
       "{'train': MapperIterDataPipe,\n",
       " 'val': MapperIterDataPipe,\n",
       " 'test': MapperIterDataPipe}"
      ]
     },
     "execution_count": 26,
     "metadata": {},
     "output_type": "execute_result"
    }
   ],
   "source": [
    "dataset_dict = build_dataset_dict(pipe_dict,vocab_dict,args)\n",
    "dataset_dict"
   ]
  },
  {
   "cell_type": "code",
   "execution_count": 27,
   "metadata": {},
   "outputs": [
    {
     "data": {
      "text/plain": [
       "(7683, 1647, 1647)"
      ]
     },
     "execution_count": 27,
     "metadata": {},
     "output_type": "execute_result"
    }
   ],
   "source": [
    "len(list(dataset_dict[\"train\"])),len(list(dataset_dict[\"val\"])),len(list(dataset_dict[\"test\"]))"
   ]
  },
  {
   "cell_type": "code",
   "execution_count": 28,
   "metadata": {},
   "outputs": [],
   "source": [
    "def collate_fn(args,x):   \n",
    "    return {k:v.to(args.device)\n",
    "            for k,v in default_collate(x).items()}"
   ]
  },
  {
   "cell_type": "code",
   "execution_count": 29,
   "metadata": {},
   "outputs": [],
   "source": [
    "def generate_batches(dataset,args=args,shuffle=False):\n",
    "    dataloader = DataLoader(dataset=dataset,\n",
    "                            batch_size=args.batch_size,\n",
    "                            drop_last=True,\n",
    "                            worker_init_fn=worker_init_fn,\n",
    "                            shuffle=shuffle,\n",
    "                            collate_fn=partial(collate_fn,args))\n",
    "    for batch in dataloader:\n",
    "        yield batch"
   ]
  },
  {
   "cell_type": "code",
   "execution_count": 30,
   "metadata": {},
   "outputs": [
    {
     "data": {
      "text/plain": [
       "(120, 25, 25)"
      ]
     },
     "execution_count": 30,
     "metadata": {},
     "output_type": "execute_result"
    }
   ],
   "source": [
    "len(list(generate_batches(dataset_dict[\"train\"]))),len(list(generate_batches(dataset_dict[\"val\"]))),len(list(generate_batches(dataset_dict[\"val\"])))"
   ]
  },
  {
   "cell_type": "code",
   "execution_count": 31,
   "metadata": {},
   "outputs": [
    {
     "data": {
      "text/plain": [
       "{'x': tensor([[ 2, 44, 10,  ...,  0,  0,  0],\n",
       "         [ 2, 43,  5,  ...,  0,  0,  0],\n",
       "         [ 2, 35,  6,  ...,  0,  0,  0],\n",
       "         ...,\n",
       "         [ 2, 37,  6,  ...,  0,  0,  0],\n",
       "         [ 2, 26, 14,  ...,  0,  0,  0],\n",
       "         [ 2, 27,  9,  ...,  0,  0,  0]]),\n",
       " 'y': tensor([0, 0, 0, 0, 0, 0, 0, 0, 0, 0, 0, 0, 0, 0, 0, 0, 0, 0, 0, 0, 0, 0, 0, 0,\n",
       "         0, 0, 0, 0, 0, 0, 0, 0, 0, 0, 0, 0, 0, 0, 0, 0, 0, 0, 0, 0, 0, 0, 0, 0,\n",
       "         0, 0, 0, 0, 0, 0, 0, 0, 0, 0, 0, 0, 0, 0, 0, 0]),\n",
       " 'vec_length': tensor([ 7, 11, 12, 10, 12,  7,  8,  9,  8,  8,  9,  8,  8,  6,  8,  9,  7, 10,\n",
       "         11,  7,  6,  6,  8,  9, 10,  9,  7,  8,  8, 10,  9,  8, 10, 11, 10, 10,\n",
       "          9, 11,  9,  9, 10,  9,  8,  7,  9, 11,  9,  8,  9,  9,  8,  7, 12,  9,\n",
       "          9,  8,  6,  8,  6,  8,  9,  7,  6,  6])}"
      ]
     },
     "execution_count": 31,
     "metadata": {},
     "output_type": "execute_result"
    }
   ],
   "source": [
    "sample = next(iter(generate_batches(dataset_dict[\"train\"])))\n",
    "sample"
   ]
  },
  {
   "cell_type": "code",
   "execution_count": 32,
   "metadata": {},
   "outputs": [
    {
     "data": {
      "text/plain": [
       "{'x': tensor([[ 2, 50,  8,  ...,  0,  0,  0],\n",
       "         [ 2, 32,  7,  ...,  0,  0,  0],\n",
       "         [ 2, 40,  4,  ...,  0,  0,  0],\n",
       "         ...,\n",
       "         [ 2, 34,  6,  ...,  0,  0,  0],\n",
       "         [ 2, 36,  5,  ...,  0,  0,  0],\n",
       "         [ 2, 45,  4,  ...,  0,  0,  0]]),\n",
       " 'y': tensor([0, 0, 0, 0, 0, 0, 0, 0, 0, 0, 0, 0, 0, 0, 0, 0, 0, 0, 0, 0, 0, 0, 0, 0,\n",
       "         0, 0, 0, 0, 0, 0, 0, 0, 0, 0, 0, 0, 0, 0, 0, 0, 0, 0, 0, 0, 0, 0, 0, 0,\n",
       "         0, 0, 0, 0, 0, 0, 0, 0, 0, 0, 0, 0, 0, 0, 0, 0]),\n",
       " 'vec_length': tensor([ 9,  9,  8,  6,  6,  9,  7, 10,  8,  8,  9, 11,  8, 10,  9,  8, 10, 12,\n",
       "          9, 11, 11,  8,  8, 11,  9,  8,  9,  7,  9, 10,  9,  8,  6,  8, 11,  7,\n",
       "          7, 14, 11,  7, 11,  9,  7,  9,  6,  9,  7, 11, 11,  8,  9, 10,  9, 13,\n",
       "          8,  9,  7, 10, 11, 10,  8,  8,  8, 10])}"
      ]
     },
     "execution_count": 32,
     "metadata": {},
     "output_type": "execute_result"
    }
   ],
   "source": [
    "next(iter(generate_batches(dataset_dict[\"val\"])))"
   ]
  },
  {
   "cell_type": "code",
   "execution_count": 33,
   "metadata": {},
   "outputs": [
    {
     "data": {
      "text/plain": [
       "{'x': tensor([[ 2, 34,  5,  ...,  0,  0,  0],\n",
       "         [ 2, 26,  5,  ...,  0,  0,  0],\n",
       "         [ 2, 24, 19,  ...,  0,  0,  0],\n",
       "         ...,\n",
       "         [ 2, 34,  4,  ...,  0,  0,  0],\n",
       "         [ 2, 25, 20,  ...,  0,  0,  0],\n",
       "         [ 2, 27,  5,  ...,  0,  0,  0]]),\n",
       " 'y': tensor([0, 0, 0, 0, 0, 0, 0, 0, 0, 0, 0, 0, 0, 0, 0, 0, 0, 0, 0, 0, 0, 0, 0, 0,\n",
       "         0, 0, 0, 0, 0, 0, 0, 0, 0, 0, 0, 0, 0, 0, 0, 0, 0, 0, 0, 0, 0, 0, 0, 0,\n",
       "         0, 0, 0, 0, 0, 0, 0, 0, 0, 0, 0, 0, 0, 0, 0, 0]),\n",
       " 'vec_length': tensor([ 8,  9,  9, 10,  8, 12,  9,  8,  7,  9,  8,  7, 13,  8, 10,  7,  7,  8,\n",
       "          7,  6,  9,  8,  7,  9,  8, 10,  7, 10,  9,  7,  7,  9, 12,  6,  7,  6,\n",
       "          8,  9,  9,  8,  7,  7,  6,  8,  8,  8,  9,  7,  8,  7,  7,  9,  5,  9,\n",
       "          8,  6,  9, 10,  8,  9,  9,  8,  9, 11])}"
      ]
     },
     "execution_count": 33,
     "metadata": {},
     "output_type": "execute_result"
    }
   ],
   "source": [
    "next(iter(generate_batches(dataset_dict[\"test\"])))"
   ]
  },
  {
   "attachments": {},
   "cell_type": "markdown",
   "metadata": {},
   "source": [
    "# Model"
   ]
  },
  {
   "cell_type": "code",
   "execution_count": 34,
   "metadata": {},
   "outputs": [],
   "source": [
    "class ElmanRNN(nn.Module):\n",
    "    def __init__(self,input_size,hidden_size,batch_first=False) -> None:\n",
    "        super().__init__()\n",
    "        self.rnn_cell = nn.RNNCell(input_size=input_size,\n",
    "                                   hidden_size=hidden_size)\n",
    "        self.batch_first = batch_first\n",
    "        self.hidden_size = hidden_size\n",
    "        \n",
    "    def _initial_hidden(self,batch_size):\n",
    "        return torch.zeros((batch_size,self.hidden_size))\n",
    "        \n",
    "    def forward(self,x_in,initial_hidden=None):\n",
    "        if self.batch_first:\n",
    "            batch_size,seq_size,feat_size = x_in.size()\n",
    "            # swapping the batch and seq so that easy to perform the time step\n",
    "            x_in = x_in.permute(1,0,2)\n",
    "        else:\n",
    "            seq_size,batch_size,feat_size = x_in.size()\n",
    "            \n",
    "        hiddens = []\n",
    "        \n",
    "        if initial_hidden is None:\n",
    "            initial_hidden  = self._initial_hidden(batch_size).to(x_in.device)\n",
    "        \n",
    "        hidden_t = initial_hidden\n",
    "        \n",
    "        for t in range(seq_size):\n",
    "            hidden_t = self.rnn_cell(x_in[t],hidden_t)\n",
    "            hiddens.append(hidden_t)\n",
    "            \n",
    "        hiddens = torch.stack(hiddens)\n",
    "        \n",
    "        \n",
    "        if self.batch_first:\n",
    "            hiddens = hiddens.permute(1,0,2)\n",
    "        \n",
    "        return hiddens"
   ]
  },
  {
   "cell_type": "code",
   "execution_count": 35,
   "metadata": {},
   "outputs": [
    {
     "data": {
      "text/plain": [
       "torch.Size([2, 19, 64])"
      ]
     },
     "execution_count": 35,
     "metadata": {},
     "output_type": "execute_result"
    }
   ],
   "source": [
    "elman_rnn = ElmanRNN(input_size=10,\n",
    "                     hidden_size=args.hidden_size,batch_first=True)\n",
    "\n",
    "elman_rnn(torch.rand(size = (2,vocab_dict[\"char\"].max_seq_length,10))).shape"
   ]
  },
  {
   "cell_type": "code",
   "execution_count": 36,
   "metadata": {},
   "outputs": [],
   "source": [
    "def name_end_out(y_out,x_lengths):\n",
    "    # move before the arg.end_tkn\n",
    "    x_lengths = x_lengths.long().detach().cpu().numpy() - 1\n",
    "    \n",
    "    out = []\n",
    "    for batch_idx,seq_end in enumerate(x_lengths):\n",
    "        out.append(y_out[batch_idx,seq_end])\n",
    "    \n",
    "    return torch.stack(out)"
   ]
  },
  {
   "cell_type": "code",
   "execution_count": 37,
   "metadata": {},
   "outputs": [],
   "source": [
    "class SurnameClassifier(nn.Module):\n",
    "    def __init__(self,embedding_size,num_embedding,num_classes,\n",
    "                 rnn_hidden_size,batch_first=True,padding_idx=0) -> None:\n",
    "        super().__init__()\n",
    "        self.embed = nn.Embedding(num_embeddings=num_embedding,\n",
    "                                  embedding_dim=embedding_size,\n",
    "                                  padding_idx=padding_idx)\n",
    "        self.rnn = ElmanRNN(input_size=embedding_size,\n",
    "                            hidden_size=rnn_hidden_size,\n",
    "                            batch_first=batch_first)\n",
    "        self.fc1 = nn.Linear(in_features=rnn_hidden_size,\n",
    "                             out_features=rnn_hidden_size)\n",
    "        self.fc2 = nn.Linear(in_features=rnn_hidden_size,\n",
    "                             out_features=num_classes)\n",
    "    \n",
    "    def forward(self,x_in,x_lengths=None,apply_softmax=False):\n",
    "        # shape [batch,seq]\n",
    "        x_embed = self.embed(x_in)\n",
    "        # shape [batch,seq,emb]\n",
    "        y_out = self.rnn(x_embed)\n",
    "        # shape [batch,seq,hidden]\n",
    "        \n",
    "        if x_lengths is not None:\n",
    "            # use the output of name end step in time step\n",
    "            y_out = name_end_out(y_out,x_lengths)\n",
    "        else:\n",
    "            # use the last output step in time step\n",
    "            y_out = y_out[:,-1,:]\n",
    "        # shape [batch,hidden]\n",
    "          \n",
    "        y_out = F.relu(self.fc1(F.dropout(y_out,0.5)))\n",
    "        # [batch,hidden]\n",
    "        y_out = self.fc2(F.dropout(y_out,0.5))\n",
    "        # [batch,num_classes]\n",
    "        \n",
    "        if apply_softmax:\n",
    "            y_out = F.softmax(y_out,dim=1)\n",
    "        \n",
    "        return y_out"
   ]
  },
  {
   "cell_type": "code",
   "execution_count": 38,
   "metadata": {},
   "outputs": [
    {
     "data": {
      "text/plain": [
       "torch.Size([64, 18])"
      ]
     },
     "execution_count": 38,
     "metadata": {},
     "output_type": "execute_result"
    }
   ],
   "source": [
    "classifier  = SurnameClassifier(embedding_size=args.embed_dim,\n",
    "                                num_embedding=len(vocab_dict[\"char\"]),\n",
    "                                num_classes=len(vocab_dict[\"nation\"]),\n",
    "                                rnn_hidden_size=args.hidden_size)\n",
    "classifier(sample[\"x\"]).shape"
   ]
  },
  {
   "attachments": {},
   "cell_type": "markdown",
   "metadata": {},
   "source": [
    "# Training"
   ]
  },
  {
   "attachments": {},
   "cell_type": "markdown",
   "metadata": {},
   "source": [
    "# helper functions"
   ]
  },
  {
   "cell_type": "code",
   "execution_count": 39,
   "metadata": {},
   "outputs": [],
   "source": [
    "def make_train_state(args=args):\n",
    "    return {\"stop_early\":False,\n",
    "            \"early_stopping_step\":0,\n",
    "            \"early_stopping_val\":1e5,\n",
    "            \"epoch_index\":0,\n",
    "            \"model_filepath\":args.model_base_path+args.model_filename,\n",
    "            \"train_loss\":[],\n",
    "            \"train_acc\":[],\n",
    "            \"val_loss\":[],\n",
    "            \"val_acc\":[],\n",
    "            \"test_loss\":-1,\n",
    "            \"test_acc\":-1}\n",
    "\n",
    "def update_train_state(train_state,model,args=args):\n",
    "    if train_state[\"epoch_index\"] == 0:\n",
    "        torch.save(model.state_dict(),train_state[\"model_filepath\"])\n",
    "        train_state[\"stop_early\"] = False\n",
    "    \n",
    "    elif train_state[\"epoch_index\"] >= 1:\n",
    "        loss_tm1 , loss_t = train_state[\"val_loss\"][-2:]\n",
    "        if loss_t >= train_state[\"early_stopping_val\"]:\n",
    "            train_state[\"early_stopping_step\"] +=1\n",
    "        else:\n",
    "            torch.save(model.state_dict(),train_state[\"model_filepath\"])\n",
    "            train_state[\"early_stopping_step\"] = 0\n",
    "            \n",
    "        train_state[\"stop_early\"] = train_state[\"early_stopping_step\"] >= args.early_stopping_criteria\n",
    "    \n",
    "    return train_state"
   ]
  },
  {
   "attachments": {},
   "cell_type": "markdown",
   "metadata": {},
   "source": [
    "## initialize"
   ]
  },
  {
   "cell_type": "code",
   "execution_count": 40,
   "metadata": {},
   "outputs": [],
   "source": [
    "pipe_dict = build_pipe_dict(args)\n",
    "vocab_dict = build_vocab_dict(pipe_dict['train'],args)\n",
    "dataset_dict = build_dataset_dict(pipe_dict,vocab_dict,args)"
   ]
  },
  {
   "cell_type": "code",
   "execution_count": 41,
   "metadata": {},
   "outputs": [],
   "source": [
    "classifier = SurnameClassifier(embedding_size=args.embed_dim,\n",
    "                               num_embedding=len(vocab_dict[\"char\"]),\n",
    "                               num_classes=len(vocab_dict[\"nation\"]),\n",
    "                               rnn_hidden_size=args.hidden_size).to(args.device)\n",
    "\n",
    "loss_fn = nn.CrossEntropyLoss(vocab_dict[\"nation\"].class_weights.to(args.device))\n",
    "acc_fn = Accuracy(task=\"multiclass\",num_classes=len(vocab_dict[\"nation\"])).to(args.device)\n",
    "optimizer = optim.Adam(params=classifier.parameters(),\n",
    "                       lr=args.learning_rate)\n",
    "scheduler = optim.lr_scheduler.ReduceLROnPlateau(optimizer=optimizer,\n",
    "                                                 mode=\"min\",factor=0.5,patience=1)\n",
    "train_state = make_train_state(args)"
   ]
  },
  {
   "attachments": {},
   "cell_type": "markdown",
   "metadata": {},
   "source": [
    "## Loop"
   ]
  },
  {
   "cell_type": "code",
   "execution_count": 42,
   "metadata": {},
   "outputs": [
    {
     "name": "stderr",
     "output_type": "stream",
     "text": [
      "  0%|          | 0/100 [00:00<?, ?it/s]c:\\Users\\Lenovo\\anaconda3\\envs\\nlp\\lib\\site-packages\\torch\\utils\\data\\graph_settings.py:74: UserWarning: `shuffle=True` was set, but the datapipe does not contain a `Shuffler`. Adding one at the end. Be aware that the default buffer size might not be sufficient for your task.\n",
      "  warnings.warn(\n",
      "100%|██████████| 100/100 [02:32<00:00,  1.53s/it]\n"
     ]
    }
   ],
   "source": [
    "for epoch_index in tqdm(range(args.num_epochs)):\n",
    "    train_state[\"epoch_index\"] = epoch_index\n",
    "    \n",
    "    # get the data\n",
    "    batch_generator = generate_batches(dataset=dataset_dict[\"val\"],shuffle=True)\n",
    "    classifier.train()\n",
    "    running_loss = 0.0\n",
    "    running_acc = 0.0\n",
    "    \n",
    "    for batch_idx,batch_dict in enumerate(batch_generator):\n",
    "        classifier.zero_grad()\n",
    "        logits = classifier(batch_dict[\"x\"],batch_dict[\"vec_length\"])\n",
    "        \n",
    "        # loss\n",
    "        loss = loss_fn(logits,batch_dict[\"y\"])\n",
    "        loss_t = loss.item()\n",
    "        running_loss += (loss_t - running_loss) /(batch_idx+1)\n",
    "        \n",
    "        # acc\n",
    "        acc = acc_fn(logits,batch_dict[\"y\"])\n",
    "        acc_t = acc.item()\n",
    "        running_acc += (acc_t - running_acc) / (batch_idx+1)\n",
    "        \n",
    "        loss.backward()\n",
    "        optimizer.step()\n",
    "        \n",
    "    train_state[\"train_loss\"].append(running_loss)\n",
    "    train_state[\"train_acc\"].append(running_acc)\n",
    "    \n",
    "    # iterate over the val \n",
    "    batch_generator = generate_batches(dataset_dict[\"train\"])\n",
    "    running_loss = 0.0\n",
    "    running_acc = 0.0\n",
    "    classifier.eval()\n",
    "    \n",
    "    for batch_idx,batch_dict in enumerate(batch_generator):\n",
    "        with torch.inference_mode():\n",
    "            logits = classifier(batch_dict[\"x\"],batch_dict[\"vec_length\"])\n",
    "            \n",
    "            # loss\n",
    "            loss = loss_fn(logits,batch_dict[\"y\"])\n",
    "            loss_t = loss.item()\n",
    "            running_loss += (loss_t - running_loss) /(batch_idx+1)\n",
    "            \n",
    "            # acc\n",
    "            acc = acc_fn(logits,batch_dict[\"y\"])\n",
    "            acc_t = acc.item()\n",
    "            running_acc += (acc_t - running_acc) / (batch_idx+1)   \n",
    "            \n",
    "    train_state[\"val_loss\"].append(running_loss)         \n",
    "    train_state[\"val_acc\"].append(running_acc)\n",
    "    \n",
    "    scheduler.step(train_state[\"val_loss\"][-1])\n",
    "    \n",
    "    if train_state[\"stop_early\"]:\n",
    "        break          "
   ]
  },
  {
   "cell_type": "code",
   "execution_count": 43,
   "metadata": {},
   "outputs": [
    {
     "data": {
      "image/png": "[encoded data removed]",
      "text/plain": [
       "<Figure size 640x480 with 1 Axes>"
      ]
     },
     "metadata": {},
     "output_type": "display_data"
    }
   ],
   "source": [
    "plt.plot(train_state[\"train_loss\"],label=\"train_loss\")\n",
    "plt.plot(train_state[\"train_acc\"],label=\"train_acc\")\n",
    "plt.plot(train_state[\"val_loss\"],label=\"val_loss\")\n",
    "plt.plot(train_state[\"val_acc\"],label=\"val_acc\")\n",
    "plt.legend();"
   ]
  },
  {
   "cell_type": "code",
   "execution_count": 44,
   "metadata": {},
   "outputs": [],
   "source": [
    "batch_generator = generate_batches(dataset_dict[\"test\"])\n",
    "classifier.eval()\n",
    "running_acc = 0.0 \n",
    "running_loss = 0.0\n",
    "\n",
    "for batch_idx,batch_dict in enumerate(batch_generator):\n",
    "    with torch.inference_mode():\n",
    "        logits = classifier(batch_dict[\"x\"],batch_dict[\"vec_length\"])\n",
    "        # loss\n",
    "        loss = loss_fn(logits,batch_dict[\"y\"])\n",
    "        loss_t = loss.item()\n",
    "        running_loss += (loss_t - running_loss) /(batch_idx+1)\n",
    "        \n",
    "        # acc\n",
    "        acc = acc_fn(logits,batch_dict[\"y\"])\n",
    "        acc_t = acc.item()\n",
    "        running_acc += (acc_t - running_acc) / (batch_idx+1) \n",
    "        \n",
    "train_state[\"test_loss\"]= running_loss\n",
    "train_state[\"test_acc\"] = running_acc"
   ]
  },
  {
   "cell_type": "code",
   "execution_count": 45,
   "metadata": {},
   "outputs": [
    {
     "name": "stdout",
     "output_type": "stream",
     "text": [
      "Test loss: 1.4640465426445006;\n",
      "Test Accuracy: 0.5925\n"
     ]
    }
   ],
   "source": [
    "print(\"Test loss: {};\".format(train_state['test_loss']))\n",
    "print(\"Test Accuracy: {}\".format(train_state['test_acc']))"
   ]
  },
  {
   "attachments": {},
   "cell_type": "markdown",
   "metadata": {},
   "source": [
    "# Inference"
   ]
  },
  {
   "cell_type": "code",
   "execution_count": 46,
   "metadata": {},
   "outputs": [],
   "source": [
    "def predict_nationality(name,vocab_dict,classifier,args=args):\n",
    "    name_vector,name_length = vectorizer(name,vocab_dict[\"char\"],args)\n",
    "    name_vector = torch.tensor(name_vector).unsqueeze(dim=0)\n",
    "    name_length = torch.tensor([name_length],dtype=torch.int64)\n",
    "    \n",
    "    result = classifier(name_vector,name_length,apply_softmax=True)\n",
    "    prob_val,indices = result.max(dim=1)\n",
    "    \n",
    "    pred_nation = vocab_dict[\"nation\"].lookup_tokens([indices.item()])[-1]\n",
    "    return pred_nation,prob_val.item()"
   ]
  },
  {
   "cell_type": "code",
   "execution_count": 47,
   "metadata": {},
   "outputs": [
    {
     "name": "stdout",
     "output_type": "stream",
     "text": [
      "('Russian', 0.2506890892982483)\n",
      "('Italian', 0.2137979120016098)\n",
      "('English', 0.40499022603034973)\n",
      "('Japanese', 0.3591243326663971)\n"
     ]
    }
   ],
   "source": [
    "for surname in ['McMahan', 'Nakamoto', 'Wan', 'Cho']:\n",
    "    print(predict_nationality(surname,vocab_dict,classifier))"
   ]
  },
  {
   "cell_type": "code",
   "execution_count": null,
   "metadata": {},
   "outputs": [],
   "source": []
  }
 ],
 "metadata": {
  "kernelspec": {
   "display_name": "nlp",
   "language": "python",
   "name": "python3"
  },
  "language_info": {
   "codemirror_mode": {
    "name": "ipython",
    "version": 3
   },
   "file_extension": ".py",
   "mimetype": "text/x-python",
   "name": "python",
   "nbconvert_exporter": "python",
   "pygments_lexer": "ipython3",
   "version": "3.10.9"
  },
  "orig_nbformat": 4
 },
 "nbformat": 4,
 "nbformat_minor": 2
}
