{
  "cells": [
    {
      "cell_type": "code",
      "execution_count": 64,
      "metadata": {
        "id": "8EzdJnV8AWn9"
      },
      "outputs": [],
      "source": [
        "from argparse import Namespace\n",
        "from functools import partial\n",
        "from pathlib import Path\n",
        "from collections import (\n",
        "    OrderedDict,Counter\n",
        ")\n",
        "\n",
        "# torch\n",
        "import torch\n",
        "from torch import nn\n",
        "from torch import optim\n",
        "from torch.nn import functional as F\n",
        "from torch.utils.data import default_collate\n",
        "## other\n",
        "from torchtext import vocab\n",
        "try:\n",
        "    from torchdata import datapipes as dp\n",
        "    from torchdata.dataloader2 import DataLoader2\n",
        "except:\n",
        "    !pip install torchdata\n",
        "    from torchdata import datapipes as dp\n",
        "    from torchdata.dataloader2 import DataLoader2\n",
        "\n",
        "# manipulation\n",
        "import numpy as np\n",
        "\n",
        "# visualization\n",
        "import matplotlib.pyplot as plt\n",
        "\n",
        "# others\n",
        "from tqdm import tqdm"
      ]
    },
    {
      "cell_type": "code",
      "source": [
        "from google.colab import drive\n",
        "drive.mount('/content/drive')"
      ],
      "metadata": {
        "id": "iYEL0DPrA_gn",
        "outputId": "31cf4a7f-a3d9-4b78-e8b5-97cef2123eac",
        "colab": {
          "base_uri": "https://localhost:8080/"
        }
      },
      "execution_count": 65,
      "outputs": [
        {
          "output_type": "stream",
          "name": "stdout",
          "text": [
            "Drive already mounted at /content/drive; to attempt to forcibly remount, call drive.mount(\"/content/drive\", force_remount=True).\n"
          ]
        }
      ]
    },
    {
      "cell_type": "code",
      "execution_count": 66,
      "metadata": {
        "id": "kF6PVrEgAWn_"
      },
      "outputs": [],
      "source": [
        "args = Namespace(\n",
        "    # data\n",
        "    data_base_path = \"/content/drive/Othercomputers/My PC/drive/data/surnames/\",\n",
        "    dataset = [\"train\",\"test\",\"val\"],\n",
        "    \n",
        "    # vocab\n",
        "    mask_tkn = \"<MASK>\",\n",
        "    ukn_tkn = \"<UKN>\",\n",
        "    beg_tkn = \"<B>\",\n",
        "    end_tkn = \"<E>\",\n",
        "    \n",
        "    # model\n",
        "    embedding_size = 100,\n",
        "    rnn_hidden_state = 64,\n",
        "    model_base_path = \"/content/drive/Othercomputers/My PC/drive/models/seq_model/seq_pred\",\n",
        "    model_filename = \"model.pth\",\n",
        "    \n",
        "    # Training\n",
        "    num_epochs = 100,\n",
        "    batch_size = 2,\n",
        "    learning_rate = 1e-3,\n",
        "    seed = 1423,\n",
        "    \n",
        "    # runtime\n",
        "    cuda = torch.cuda.is_available(),\n",
        "    device = \"cuda\" if torch.cuda.is_available() else \"cpu\",\n",
        ")\n",
        "\n",
        "for k,v in args._get_kwargs():\n",
        "    if \"base\" in k:\n",
        "        Path(v).mkdir(parents=True,exist_ok=True)"
      ]
    },
    {
      "cell_type": "markdown",
      "metadata": {
        "id": "tRYFgwH1AWn_"
      },
      "source": [
        "# Datapipe"
      ]
    },
    {
      "cell_type": "markdown",
      "metadata": {
        "id": "eT_6iN59AWoB"
      },
      "source": [
        "## build pipe dict"
      ]
    },
    {
      "cell_type": "code",
      "execution_count": 67,
      "metadata": {
        "id": "6oJUhJ-FAWoB"
      },
      "outputs": [],
      "source": [
        "def build_pipe_dict(args=args):\n",
        "    pipe_dict = {}\n",
        "    for fname in args.dataset:\n",
        "        pipe_dict[fname] = dp.iter.FileOpener([args.data_base_path+f\"{fname}.csv\"]).parse_csv()\n",
        "    return pipe_dict"
      ]
    },
    {
      "cell_type": "code",
      "execution_count": 68,
      "metadata": {
        "id": "ti81-RchAWoB",
        "outputId": "c8b0f821-d1f5-4091-9810-6d4fb71df125",
        "colab": {
          "base_uri": "https://localhost:8080/"
        }
      },
      "outputs": [
        {
          "output_type": "execute_result",
          "data": {
            "text/plain": [
              "{'train': CSVParserIterDataPipe,\n",
              " 'test': CSVParserIterDataPipe,\n",
              " 'val': CSVParserIterDataPipe}"
            ]
          },
          "metadata": {},
          "execution_count": 68
        }
      ],
      "source": [
        "pipe_dict = build_pipe_dict()\n",
        "pipe_dict"
      ]
    },
    {
      "cell_type": "code",
      "execution_count": 69,
      "metadata": {
        "id": "gB-P0ZZfAWoC",
        "outputId": "e2bbeeec-95a9-46b3-b557-273acf44b7a7",
        "colab": {
          "base_uri": "https://localhost:8080/"
        }
      },
      "outputs": [
        {
          "output_type": "execute_result",
          "data": {
            "text/plain": [
              "{'train': 7684, 'test': 1648, 'val': 1648}"
            ]
          },
          "metadata": {},
          "execution_count": 69
        }
      ],
      "source": [
        "{k:len(list(pipe)) for k,pipe in pipe_dict.items()}"
      ]
    },
    {
      "cell_type": "code",
      "execution_count": 70,
      "metadata": {
        "id": "hVouY9fyAWoC",
        "outputId": "cc08029d-242b-48ae-d950-58074b72d85f",
        "colab": {
          "base_uri": "https://localhost:8080/"
        }
      },
      "outputs": [
        {
          "output_type": "execute_result",
          "data": {
            "text/plain": [
              "{'train': ['Woodford', 'English'],\n",
              " 'test': ['Kore', 'English'],\n",
              " 'val': ['Winship', 'English']}"
            ]
          },
          "metadata": {},
          "execution_count": 70
        }
      ],
      "source": [
        "{k:next(iter(pipe)) for k,pipe in pipe_dict.items()}"
      ]
    },
    {
      "cell_type": "markdown",
      "metadata": {
        "id": "DE1QY-ulAWoD"
      },
      "source": [
        "# build vocab dict"
      ]
    },
    {
      "cell_type": "code",
      "execution_count": 71,
      "metadata": {
        "id": "KdSdBGCTAWoD"
      },
      "outputs": [],
      "source": [
        "def build_vocab_dict(train_pipe,args=args):\n",
        "    name_counter = Counter()\n",
        "    nation_counter = Counter()\n",
        "    max_seq_length = -1\n",
        "    for name,nation in train_pipe:\n",
        "        max_seq_length = max(len(name),max_seq_length)\n",
        "        name_counter.update(name)\n",
        "        nation_counter.update([nation])\n",
        "        \n",
        "    sort_fn = lambda kf : (-kf[1],kf[0])\n",
        "    name_sort_tuples = sorted(name_counter.items(),key=sort_fn)\n",
        "    nation_sort_tuples = sorted(nation_counter.items(),key=sort_fn)\n",
        "    \n",
        "    name_vocab = vocab.vocab(ordered_dict=OrderedDict(name_sort_tuples),\n",
        "                             specials=[args.mask_tkn,\n",
        "                                       args.ukn_tkn,\n",
        "                                       args.beg_tkn,\n",
        "                                       args.end_tkn])\n",
        "    name_vocab.set_default_index(name_vocab[args.ukn_tkn])\n",
        "    name_vocab.max_seq_length = max_seq_length + 2\n",
        "    \n",
        "    nation_vocab = vocab.vocab(ordered_dict=OrderedDict(nation_sort_tuples))\n",
        "    freq = [count for _,count in nation_sort_tuples]\n",
        "    nation_vocab.class_weights = 1.0 / torch.tensor(freq)\n",
        "    \n",
        "    return {\"char\":name_vocab,\n",
        "            \"nation\":nation_vocab}"
      ]
    },
    {
      "cell_type": "code",
      "execution_count": 72,
      "metadata": {
        "id": "x8rfOsabAWoD",
        "outputId": "ba29be60-7e1c-4619-cea9-c009c3c2ac0c",
        "colab": {
          "base_uri": "https://localhost:8080/"
        }
      },
      "outputs": [
        {
          "output_type": "execute_result",
          "data": {
            "text/plain": [
              "{'char': Vocab(), 'nation': Vocab()}"
            ]
          },
          "metadata": {},
          "execution_count": 72
        }
      ],
      "source": [
        "vocab_dict = build_vocab_dict(pipe_dict[\"train\"])\n",
        "vocab_dict"
      ]
    },
    {
      "cell_type": "code",
      "execution_count": 73,
      "metadata": {
        "id": "iOZKsZcaAWoE",
        "outputId": "ba7b2491-4ce8-4dc2-b929-5ba4113d1d71",
        "colab": {
          "base_uri": "https://localhost:8080/"
        }
      },
      "outputs": [
        {
          "output_type": "execute_result",
          "data": {
            "text/plain": [
              "{'char': 83, 'nation': 18}"
            ]
          },
          "metadata": {},
          "execution_count": 73
        }
      ],
      "source": [
        "{k:len(vocab) for k,vocab in vocab_dict.items()}"
      ]
    },
    {
      "cell_type": "code",
      "execution_count": 74,
      "metadata": {
        "id": "DetYVeyPAWoE",
        "outputId": "2c7d7203-3b25-4e51-ddba-41b4630ded18",
        "colab": {
          "base_uri": "https://localhost:8080/"
        }
      },
      "outputs": [
        {
          "output_type": "execute_result",
          "data": {
            "text/plain": [
              "19"
            ]
          },
          "metadata": {},
          "execution_count": 74
        }
      ],
      "source": [
        "vocab_dict[\"char\"].max_seq_length"
      ]
    },
    {
      "cell_type": "code",
      "execution_count": 75,
      "metadata": {
        "id": "4_VHsf-XAWoE",
        "outputId": "5ee1f084-9518-49d4-e06d-9ce7a41f3b21",
        "colab": {
          "base_uri": "https://localhost:8080/"
        }
      },
      "outputs": [
        {
          "output_type": "execute_result",
          "data": {
            "text/plain": [
              "tensor([0.0005, 0.0006, 0.0009, 0.0018, 0.0024, 0.0025, 0.0034, 0.0055, 0.0060,\n",
              "        0.0063, 0.0065, 0.0078, 0.0092, 0.0119, 0.0189, 0.0192, 0.0250, 0.0263])"
            ]
          },
          "metadata": {},
          "execution_count": 75
        }
      ],
      "source": [
        "vocab_dict[\"nation\"].class_weights"
      ]
    },
    {
      "cell_type": "markdown",
      "metadata": {
        "id": "91BjX_8mAWoE"
      },
      "source": [
        "## build dataset dict"
      ]
    },
    {
      "cell_type": "code",
      "execution_count": 76,
      "metadata": {
        "id": "q5Byr_lcAWoF"
      },
      "outputs": [],
      "source": [
        "def vectorize(name,char_vocab,args=args):\n",
        "    indices = [char_vocab[args.beg_tkn]]\n",
        "    indices.extend(char_vocab.lookup_indices(list(name)))\n",
        "    indices.append(char_vocab[args.end_tkn])\n",
        "    \n",
        "    from_vector = np.full(shape=char_vocab.max_seq_length,\n",
        "                          fill_value=char_vocab[args.mask_tkn],\n",
        "                          dtype=np.int64)\n",
        "    from_indices = indices[:-1]\n",
        "    from_vector[:len(from_indices)] = from_indices\n",
        "    \n",
        "    to_vector = np.full(shape=char_vocab.max_seq_length,\n",
        "                        fill_value=char_vocab[args.mask_tkn],\n",
        "                        dtype=np.int64)\n",
        "    to_indices = indices[1:]\n",
        "    to_vector[:len(to_indices)] = to_indices\n",
        "    \n",
        "    return from_vector,to_vector"
      ]
    },
    {
      "cell_type": "code",
      "execution_count": 77,
      "metadata": {
        "id": "X7si0kuOAWoF",
        "outputId": "3ec9a2e3-1bc1-4ad1-e8dc-d26751044298",
        "colab": {
          "base_uri": "https://localhost:8080/"
        }
      },
      "outputs": [
        {
          "output_type": "execute_result",
          "data": {
            "text/plain": [
              "(array([ 2, 11,  4, 15,  0,  0,  0,  0,  0,  0,  0,  0,  0,  0,  0,  0,  0,\n",
              "         0,  0]),\n",
              " array([11,  4, 15,  3,  0,  0,  0,  0,  0,  0,  0,  0,  0,  0,  0,  0,  0,\n",
              "         0,  0]))"
            ]
          },
          "metadata": {},
          "execution_count": 77
        }
      ],
      "source": [
        "vectorize(\"lak\",vocab_dict[\"char\"])"
      ]
    },
    {
      "cell_type": "code",
      "execution_count": 78,
      "metadata": {
        "id": "83YCSKYsAWoF"
      },
      "outputs": [],
      "source": [
        "def create_dataset(vocab_dict,args,row):\n",
        "    from_vector , to_vector  = vectorize(row[0],char_vocab=vocab_dict[\"char\"],args=args)\n",
        "    nation_index = vocab_dict[\"nation\"][row[1]]\n",
        "    \n",
        "    return {\"x\":from_vector,\n",
        "            \"y\":to_vector,\n",
        "            \"class_index\":nation_index}\n",
        "    \n",
        "def collate_fn(args,batch):\n",
        "    return {k:v.to(args.device)\n",
        "            for k,v in default_collate(batch).items()}"
      ]
    },
    {
      "cell_type": "code",
      "execution_count": 79,
      "metadata": {
        "id": "UnPSMztyAWoF"
      },
      "outputs": [],
      "source": [
        "def build_dataset_dict(pipe_dict,vocab_dict,args=args):\n",
        "    dataset_dict = {}\n",
        "    fn = partial(create_dataset,vocab_dict,args)\n",
        "    for dataset,pipe in pipe_dict.items():\n",
        "        if dataset == \"train\":\n",
        "            pipe = pipe.shuffle()\n",
        "        \n",
        "        pipe = pipe.map(fn)\n",
        "        pipe = pipe.batch(args.batch_size,drop_last=True)\n",
        "        pipe = pipe.collate(partial(collate_fn,args))\n",
        "        dataset_dict[dataset] = pipe\n",
        "    \n",
        "    return dataset_dict"
      ]
    },
    {
      "cell_type": "code",
      "execution_count": 80,
      "metadata": {
        "id": "cKQW93b8AWoG",
        "outputId": "e2b66998-a720-491d-8ea5-39d621c29fce",
        "colab": {
          "base_uri": "https://localhost:8080/"
        }
      },
      "outputs": [
        {
          "output_type": "execute_result",
          "data": {
            "text/plain": [
              "{'train': CollatorIterDataPipe,\n",
              " 'test': CollatorIterDataPipe,\n",
              " 'val': CollatorIterDataPipe}"
            ]
          },
          "metadata": {},
          "execution_count": 80
        }
      ],
      "source": [
        "dataset_dict = build_dataset_dict(pipe_dict,vocab_dict)\n",
        "dataset_dict"
      ]
    },
    {
      "cell_type": "code",
      "execution_count": 81,
      "metadata": {
        "id": "97sv_kn0AWoG",
        "outputId": "d271c530-00fd-4d2a-e4f1-bc64a2c1f11a",
        "colab": {
          "base_uri": "https://localhost:8080/"
        }
      },
      "outputs": [
        {
          "output_type": "execute_result",
          "data": {
            "text/plain": [
              "{'train': 3842, 'test': 824, 'val': 824}"
            ]
          },
          "metadata": {},
          "execution_count": 81
        }
      ],
      "source": [
        "{k:len(list(pipe)) for k,pipe in dataset_dict.items()}"
      ]
    },
    {
      "cell_type": "markdown",
      "metadata": {
        "id": "tFCBU2mOAWoG"
      },
      "source": [
        "# Model"
      ]
    },
    {
      "cell_type": "code",
      "execution_count": 82,
      "metadata": {
        "id": "deNhKU39AWoG"
      },
      "outputs": [],
      "source": [
        "class SurnameGenerativeModel(nn.Module):\n",
        "    def __init__(self,char_embedding_size,char_vocab_size,\n",
        "                 rnn_hidden_size,batch_first=True,padding_idx = 0,\n",
        "                 dropout_rate = 0.5) -> None:\n",
        "        super().__init__()\n",
        "        self.char_emb = nn.Embedding(embedding_dim=char_embedding_size,\n",
        "                                     num_embeddings=char_vocab_size,\n",
        "                                     padding_idx=padding_idx)\n",
        "        self.rnn = nn.GRU(input_size = char_embedding_size,\n",
        "                          hidden_size = rnn_hidden_size,\n",
        "                          batch_first = batch_first)\n",
        "        self.fc = nn.Linear(in_features=rnn_hidden_size,\n",
        "                            out_features=char_vocab_size)\n",
        "        self.dropout_rate = dropout_rate\n",
        "        \n",
        "    def forward(self,input,apply_softmax=False):\n",
        "        # shape [batch,seq_length]\n",
        "        x_emb = self.char_emb(input)\n",
        "        # shape [batch,seq,emb]\n",
        "        y_out,_ = self.rnn(x_emb)\n",
        "        # shape [batch,seq,hidden]\n",
        "        batch_size,seq_size,feat_size = y_out.size()\n",
        "        \n",
        "        y_out = y_out.contiguous().view(batch_size*seq_size,feat_size)\n",
        "        \n",
        "        y_out = self.fc(F.dropout(y_out,p=self.dropout_rate))\n",
        "        \n",
        "        if apply_softmax:\n",
        "            y_out = F.softmax(y_out,dim=1)\n",
        "        \n",
        "        new_feat_size = y_out.shape[-1]\n",
        "        y_out = y_out.view(batch_size,seq_size,new_feat_size)\n",
        "        \n",
        "        return y_out"
      ]
    },
    {
      "cell_type": "code",
      "execution_count": 83,
      "metadata": {
        "id": "5tQSvfWAAWoH"
      },
      "outputs": [],
      "source": [
        "model = SurnameGenerativeModel(char_embedding_size=args.embedding_size,\n",
        "                               char_vocab_size=len(vocab_dict[\"char\"]),\n",
        "                               rnn_hidden_size=args.rnn_hidden_state,\n",
        "                               padding_idx=vocab_dict[\"char\"][args.mask_tkn]).to(args.device)"
      ]
    },
    {
      "cell_type": "code",
      "execution_count": 84,
      "metadata": {
        "id": "H6nIxfC9AWoH"
      },
      "outputs": [],
      "source": [
        "pipe_dict = build_pipe_dict()\n",
        "vocab_dict = build_vocab_dict(pipe_dict[\"train\"])\n",
        "dataset_dict = build_dataset_dict(pipe_dict,vocab_dict,args)"
      ]
    },
    {
      "cell_type": "code",
      "execution_count": 85,
      "metadata": {
        "id": "0CZZ2r7iAWoH",
        "outputId": "b9aa96f3-7404-4edd-d325-05b87db19c81",
        "colab": {
          "base_uri": "https://localhost:8080/"
        }
      },
      "outputs": [
        {
          "output_type": "execute_result",
          "data": {
            "text/plain": [
              "{'x': tensor([[ 2, 24, 17,  5,  9, 13, 20, 12,  5,  8, 15,  6,  0,  0,  0,  0,  0,  0,\n",
              "           0],\n",
              "         [ 2, 25, 14, 11, 11,  5,  8,  0,  0,  0,  0,  0,  0,  0,  0,  0,  0,  0,\n",
              "           0]], device='cuda:0'),\n",
              " 'y': tensor([[24, 17,  5,  9, 13, 20, 12,  5,  8, 15,  6,  3,  0,  0,  0,  0,  0,  0,\n",
              "           0],\n",
              "         [25, 14, 11, 11,  5,  8,  3,  0,  0,  0,  0,  0,  0,  0,  0,  0,  0,  0,\n",
              "           0]], device='cuda:0'),\n",
              " 'class_index': tensor([ 1, 11], device='cuda:0')}"
            ]
          },
          "metadata": {},
          "execution_count": 85
        }
      ],
      "source": [
        "sample = next(iter(dataset_dict[\"train\"]))\n",
        "sample"
      ]
    },
    {
      "cell_type": "code",
      "execution_count": 86,
      "metadata": {
        "id": "n6Xv8ytwAWoH",
        "outputId": "e894cd2c-4bb3-42e5-cd9e-87ff7d6d935c",
        "colab": {
          "base_uri": "https://localhost:8080/"
        }
      },
      "outputs": [
        {
          "output_type": "execute_result",
          "data": {
            "text/plain": [
              "19"
            ]
          },
          "metadata": {},
          "execution_count": 86
        }
      ],
      "source": [
        "vocab_dict[\"char\"].max_seq_length"
      ]
    },
    {
      "cell_type": "code",
      "execution_count": 87,
      "metadata": {
        "id": "AcubGBH3AWoI",
        "outputId": "6acf087d-c116-42ed-f2ea-3bdb007a1957",
        "colab": {
          "base_uri": "https://localhost:8080/"
        }
      },
      "outputs": [
        {
          "output_type": "execute_result",
          "data": {
            "text/plain": [
              "torch.Size([2, 19, 100])"
            ]
          },
          "metadata": {},
          "execution_count": 87
        }
      ],
      "source": [
        "sample_embed = model.char_emb(sample[\"x\"])\n",
        "sample_embed.shape"
      ]
    },
    {
      "cell_type": "code",
      "execution_count": 88,
      "metadata": {
        "id": "JqVBaODiAWoI",
        "outputId": "f45e97d9-5eb9-481d-855f-22368961fde8",
        "colab": {
          "base_uri": "https://localhost:8080/"
        }
      },
      "outputs": [
        {
          "output_type": "execute_result",
          "data": {
            "text/plain": [
              "torch.Size([2, 19, 64])"
            ]
          },
          "metadata": {},
          "execution_count": 88
        }
      ],
      "source": [
        "sample_rnn,_ = model.rnn(sample_embed)\n",
        "sample_rnn.shape"
      ]
    },
    {
      "cell_type": "code",
      "execution_count": 89,
      "metadata": {
        "id": "b7qMCcb5AWoI",
        "outputId": "780f0b3f-d3bf-4699-8ccb-4c1b711b5c94",
        "colab": {
          "base_uri": "https://localhost:8080/"
        }
      },
      "outputs": [
        {
          "output_type": "execute_result",
          "data": {
            "text/plain": [
              "torch.Size([38, 64])"
            ]
          },
          "metadata": {},
          "execution_count": 89
        }
      ],
      "source": [
        "batch_size,seq_size,feat_size = sample_rnn.size()\n",
        "sample_out = sample_rnn.contiguous().view(batch_size*seq_size,feat_size)\n",
        "sample_out.shape"
      ]
    },
    {
      "cell_type": "code",
      "execution_count": 90,
      "metadata": {
        "id": "kx8belvjAWoI",
        "outputId": "4c9897ed-d722-41ab-8683-f2ddb18d33ee",
        "colab": {
          "base_uri": "https://localhost:8080/"
        }
      },
      "outputs": [
        {
          "output_type": "execute_result",
          "data": {
            "text/plain": [
              "83"
            ]
          },
          "metadata": {},
          "execution_count": 90
        }
      ],
      "source": [
        "len(vocab_dict[\"char\"])"
      ]
    },
    {
      "cell_type": "code",
      "execution_count": 91,
      "metadata": {
        "id": "D5nNFNREAWoJ",
        "outputId": "ce553dd3-f468-48a3-c73d-e6c1fc108585",
        "colab": {
          "base_uri": "https://localhost:8080/"
        }
      },
      "outputs": [
        {
          "output_type": "execute_result",
          "data": {
            "text/plain": [
              "torch.Size([38, 83])"
            ]
          },
          "metadata": {},
          "execution_count": 91
        }
      ],
      "source": [
        "sample_fc = model.fc(sample_out)\n",
        "sample_fc.shape"
      ]
    },
    {
      "cell_type": "code",
      "execution_count": 92,
      "metadata": {
        "id": "weHJzbdQAWoJ",
        "outputId": "119ea229-ab3b-4c43-8fb9-da512cb78291",
        "colab": {
          "base_uri": "https://localhost:8080/"
        }
      },
      "outputs": [
        {
          "output_type": "execute_result",
          "data": {
            "text/plain": [
              "torch.Size([2, 19, 83])"
            ]
          },
          "metadata": {},
          "execution_count": 92
        }
      ],
      "source": [
        "sample_y_pred = sample_fc.view(batch_size,seq_size,-1)\n",
        "sample_y_pred.shape"
      ]
    },
    {
      "cell_type": "code",
      "execution_count": 93,
      "metadata": {
        "id": "Y4wiXK8TAWoJ",
        "outputId": "3bf86f38-cf2d-4343-a986-81ba55cc1b6a",
        "colab": {
          "base_uri": "https://localhost:8080/"
        }
      },
      "outputs": [
        {
          "output_type": "execute_result",
          "data": {
            "text/plain": [
              "tensor([[[ 0.1386,  0.1926, -0.0936,  ...,  0.1602, -0.4090, -0.0446],\n",
              "         [ 0.2368,  0.2812,  0.0094,  ...,  0.1453, -0.1953,  0.0091],\n",
              "         [-0.0059,  0.1621,  0.0458,  ...,  0.0992, -0.0612,  0.1376],\n",
              "         ...,\n",
              "         [-0.0839,  0.0419,  0.0251,  ..., -0.0167, -0.0507, -0.0319],\n",
              "         [-0.0917,  0.0408,  0.0231,  ..., -0.0203, -0.0526, -0.0391],\n",
              "         [-0.0974,  0.0392,  0.0218,  ..., -0.0233, -0.0537, -0.0437]],\n",
              "\n",
              "        [[ 0.1386,  0.1926, -0.0936,  ...,  0.1602, -0.4090, -0.0446],\n",
              "         [ 0.2672,  0.1446, -0.2413,  ...,  0.2016, -0.3593, -0.1051],\n",
              "         [ 0.1246, -0.0154, -0.0037,  ...,  0.1476,  0.0223, -0.2206],\n",
              "         ...,\n",
              "         [-0.1071,  0.0332,  0.0197,  ..., -0.0287, -0.0558, -0.0512],\n",
              "         [-0.1076,  0.0332,  0.0201,  ..., -0.0292, -0.0555, -0.0517],\n",
              "         [-0.1079,  0.0332,  0.0203,  ..., -0.0296, -0.0553, -0.0519]]],\n",
              "       device='cuda:0', grad_fn=<ViewBackward0>)"
            ]
          },
          "metadata": {},
          "execution_count": 93
        }
      ],
      "source": [
        "sample_y_pred"
      ]
    },
    {
      "cell_type": "code",
      "execution_count": 94,
      "metadata": {
        "id": "DmM0lHuKAWoJ",
        "outputId": "d54d8129-4bdb-4694-fd07-68ab8c9d4589",
        "colab": {
          "base_uri": "https://localhost:8080/"
        }
      },
      "outputs": [
        {
          "output_type": "execute_result",
          "data": {
            "text/plain": [
              "tensor([[ 0.1386,  0.1926, -0.0936,  ...,  0.1602, -0.4090, -0.0446],\n",
              "        [ 0.2368,  0.2812,  0.0094,  ...,  0.1453, -0.1953,  0.0091],\n",
              "        [-0.0059,  0.1621,  0.0458,  ...,  0.0992, -0.0612,  0.1376],\n",
              "        ...,\n",
              "        [-0.1071,  0.0332,  0.0197,  ..., -0.0287, -0.0558, -0.0512],\n",
              "        [-0.1076,  0.0332,  0.0201,  ..., -0.0292, -0.0555, -0.0517],\n",
              "        [-0.1079,  0.0332,  0.0203,  ..., -0.0296, -0.0553, -0.0519]],\n",
              "       device='cuda:0', grad_fn=<ViewBackward0>)"
            ]
          },
          "metadata": {},
          "execution_count": 94
        }
      ],
      "source": [
        "sample_y_pred.view(-1,sample_y_pred.size(2))"
      ]
    },
    {
      "cell_type": "code",
      "execution_count": 95,
      "metadata": {
        "id": "-S060ZXRAWoJ",
        "outputId": "9bfe6da2-1946-4d15-f58e-a8f8c756608a",
        "colab": {
          "base_uri": "https://localhost:8080/"
        }
      },
      "outputs": [
        {
          "output_type": "execute_result",
          "data": {
            "text/plain": [
              "tensor([[24, 17,  5,  9, 13, 20, 12,  5,  8, 15,  6,  3,  0,  0,  0,  0,  0,  0,\n",
              "          0],\n",
              "        [25, 14, 11, 11,  5,  8,  3,  0,  0,  0,  0,  0,  0,  0,  0,  0,  0,  0,\n",
              "          0]], device='cuda:0')"
            ]
          },
          "metadata": {},
          "execution_count": 95
        }
      ],
      "source": [
        "sample[\"y\"]"
      ]
    },
    {
      "cell_type": "markdown",
      "metadata": {
        "id": "2x1A3WaoAWoK"
      },
      "source": [
        "# Loss fn"
      ]
    },
    {
      "cell_type": "code",
      "execution_count": 96,
      "metadata": {
        "id": "Yc-l5S5bAWoK"
      },
      "outputs": [],
      "source": [
        "def normalize_size(y_pred,y_true):\n",
        "    if len(y_pred.size()) == 3:\n",
        "        # shape [batch,seq,hidden]\n",
        "        y_pred = y_pred.contiguous().view(-1,y_pred.size(dim=2))\n",
        "        # shape [batch*seq,hidden]\n",
        "    if len(y_true.size()) == 2:\n",
        "        # shape [batch,seq]\n",
        "        y_true = y_true.contiguous().view(-1)\n",
        "        # shape [batch*seq]\n",
        "    return y_pred,y_true\n",
        "    \n",
        "    \n",
        "\n",
        "\n",
        "def sequence_loss(y_pred,y_true,mask_index):\n",
        "    y_pred , y_true = normalize_size(y_pred,y_true)\n",
        "    return F.cross_entropy(input=y_pred, # shape [batch*seq,hidden]\n",
        "                           target=y_true, # shape [batch*seq]\n",
        "                           ignore_index=mask_index # this remove value in the target and wont compute loss \n",
        "                           )"
      ]
    },
    {
      "cell_type": "code",
      "execution_count": 97,
      "metadata": {
        "id": "ya4o7TvIAWoK"
      },
      "outputs": [],
      "source": [
        "y_pred = torch.rand(size=(2,7,9))\n",
        "y_true = torch.randint(low=0,high=7,size=(2,7))"
      ]
    },
    {
      "cell_type": "code",
      "execution_count": 98,
      "metadata": {
        "id": "Xpp9Dh5FAWoK",
        "outputId": "e561a53e-17ee-4c1f-b4f4-f5ad2281034a",
        "colab": {
          "base_uri": "https://localhost:8080/"
        }
      },
      "outputs": [
        {
          "output_type": "execute_result",
          "data": {
            "text/plain": [
              "tensor([[2, 0, 4, 6, 4, 5, 3],\n",
              "        [4, 0, 2, 5, 5, 4, 0]])"
            ]
          },
          "metadata": {},
          "execution_count": 98
        }
      ],
      "source": [
        "y_true"
      ]
    },
    {
      "cell_type": "code",
      "execution_count": 99,
      "metadata": {
        "id": "U6UgNqMGAWoK",
        "outputId": "39cee4fb-67fe-4853-dcb3-6a0dcdae606b",
        "colab": {
          "base_uri": "https://localhost:8080/"
        }
      },
      "outputs": [
        {
          "output_type": "execute_result",
          "data": {
            "text/plain": [
              "tensor(2.2264)"
            ]
          },
          "metadata": {},
          "execution_count": 99
        }
      ],
      "source": [
        "sequence_loss(y_pred,y_true,0)"
      ]
    },
    {
      "cell_type": "code",
      "execution_count": 137,
      "metadata": {
        "id": "EFPU4S3HAWoK"
      },
      "outputs": [],
      "source": [
        "def compute_acc(y_pred,y_true,mask_indices):\n",
        "    y_pred ,y_true = normalize_size(y_pred,y_true)\n",
        "    \n",
        "    _,y_pred_indices =y_pred.max(dim=1)\n",
        "    \n",
        "    correct_indices = torch.eq(y_pred_indices,y_true).float()\n",
        "    valid_indices = torch.ne(y_true,mask_indices).float()\n",
        "    \n",
        "    n_correct = (correct_indices * valid_indices).sum().item()\n",
        "    n_valid = valid_indices.sum().item()\n",
        "    \n",
        "    return n_correct / n_valid"
      ]
    },
    {
      "cell_type": "code",
      "execution_count": 138,
      "metadata": {
        "id": "rUpLfxucAWoL",
        "outputId": "8b9b4c90-00e8-4e58-b58a-a5c24f896727",
        "colab": {
          "base_uri": "https://localhost:8080/"
        }
      },
      "outputs": [
        {
          "output_type": "execute_result",
          "data": {
            "text/plain": [
              "0.0"
            ]
          },
          "metadata": {},
          "execution_count": 138
        }
      ],
      "source": [
        "compute_acc(y_pred,y_true,0)"
      ]
    },
    {
      "cell_type": "markdown",
      "metadata": {
        "id": "mId7-uJ2AWoL"
      },
      "source": [
        "# Training"
      ]
    },
    {
      "cell_type": "markdown",
      "metadata": {
        "id": "4Ob6IX3dAWoL"
      },
      "source": [
        "## helper function"
      ]
    },
    {
      "cell_type": "code",
      "execution_count": 102,
      "metadata": {
        "id": "nAE1t_nBAWoL"
      },
      "outputs": [],
      "source": [
        "def make_train_state(args=args):\n",
        "    return {\"stop_early\":False,\n",
        "            \"early_stopping_step\":0,\n",
        "            \"early_stopping_val\":1e5,\n",
        "            \"epoch_index\":0,\n",
        "            \"model_filepath\":args.model_base_path+args.model_filename,\n",
        "            \"train_loss\":[],\n",
        "            \"train_acc\":[],\n",
        "            \"val_loss\":[],\n",
        "            \"val_acc\":[],\n",
        "            \"test_loss\":-1,\n",
        "            \"test_acc\":-1}\n",
        "\n",
        "def update_train_state(train_state,model,args=args):\n",
        "    if train_state[\"epoch_index\"] == 0:\n",
        "        torch.save(model.state_dict(),train_state[\"model_filepath\"])\n",
        "        train_state[\"stop_early\"] = False\n",
        "    \n",
        "    elif train_state[\"epoch_index\"] >= 1:\n",
        "        loss_tm1 , loss_t = train_state[\"val_loss\"][-2:]\n",
        "        if loss_t >= train_state[\"early_stopping_val\"]:\n",
        "            train_state[\"early_stopping_step\"] +=1\n",
        "        else:\n",
        "            torch.save(model.state_dict(),train_state[\"model_filepath\"])\n",
        "            train_state[\"early_stopping_step\"] = 0\n",
        "            \n",
        "        train_state[\"stop_early\"] = train_state[\"early_stopping_step\"] >= args.early_stopping_criteria\n",
        "    \n",
        "    return train_state"
      ]
    },
    {
      "cell_type": "markdown",
      "metadata": {
        "id": "kJdzD_vHAWoL"
      },
      "source": [
        "## Initialize"
      ]
    },
    {
      "cell_type": "code",
      "execution_count": 103,
      "metadata": {
        "id": "MBRUgkL0AWoL"
      },
      "outputs": [],
      "source": [
        "pipe_dict = build_pipe_dict()\n",
        "vocab_dict = build_vocab_dict(pipe_dict[\"train\"])\n",
        "dataset_dict = build_dataset_dict(pipe_dict,vocab_dict,args)"
      ]
    },
    {
      "cell_type": "code",
      "execution_count": 104,
      "metadata": {
        "id": "skoRyxUXAWoL"
      },
      "outputs": [],
      "source": [
        "model = SurnameGenerativeModel(char_embedding_size=args.embedding_size,\n",
        "                               char_vocab_size=len(vocab_dict[\"char\"]),\n",
        "                               rnn_hidden_size=args.rnn_hidden_state).to(args.device)\n",
        "optimizer = optim.Adam(params=model.parameters(),\n",
        "                       lr=args.learning_rate)\n",
        "scheduler = optim.lr_scheduler.ReduceLROnPlateau(optimizer=optimizer,\n",
        "                                                 mode=\"min\",factor=0.5,\n",
        "                                                 patience=1)\n",
        "train_state = make_train_state(args)\n",
        "mask_index = vocab_dict[\"char\"][args.mask_tkn]"
      ]
    },
    {
      "cell_type": "markdown",
      "metadata": {
        "id": "B4HzpsCrAWoM"
      },
      "source": [
        "## Loop"
      ]
    },
    {
      "cell_type": "code",
      "execution_count": 105,
      "metadata": {
        "id": "vi4Vo_22AWoM",
        "outputId": "e5e5cc77-5301-49ed-a960-a51c83bc3c84",
        "colab": {
          "base_uri": "https://localhost:8080/"
        }
      },
      "outputs": [
        {
          "output_type": "stream",
          "name": "stderr",
          "text": [
            "100%|██████████| 100/100 [19:05<00:00, 11.46s/it]\n"
          ]
        }
      ],
      "source": [
        "for epoch_index in tqdm(range(args.num_epochs)):\n",
        "    train_state[\"epoch_index\"] = epoch_index\n",
        "    \n",
        "    # get the data\n",
        "    batch_generator = DataLoader2(datapipe=dataset_dict[\"train\"])\n",
        "    model.train()\n",
        "    running_loss = 0.0\n",
        "    running_acc = 0.0\n",
        "    \n",
        "    for batch_idx,batch_dict in enumerate(batch_generator):\n",
        "        model.zero_grad()\n",
        "        logits = model(batch_dict[\"x\"])\n",
        "        \n",
        "        # loss\n",
        "        loss = sequence_loss(logits,batch_dict[\"y\"],mask_index)\n",
        "        loss_t = loss.item()\n",
        "        running_loss += (loss_t - running_loss) /(batch_idx+1)\n",
        "        \n",
        "        # acc\n",
        "        acc_t = compute_acc(logits,batch_dict[\"y\"],mask_index)\n",
        "        running_acc += (acc_t - running_acc) / (batch_idx+1)\n",
        "        \n",
        "        loss.backward()\n",
        "        optimizer.step()\n",
        "        \n",
        "    train_state[\"train_loss\"].append(running_loss)\n",
        "    train_state[\"train_acc\"].append(running_acc)\n",
        "    \n",
        "    # iterate over the val \n",
        "    batch_generator = DataLoader2(dataset_dict[\"val\"])\n",
        "    running_loss = 0.0\n",
        "    running_acc = 0.0\n",
        "    model.eval()\n",
        "    \n",
        "    for batch_idx,batch_dict in enumerate(batch_generator):\n",
        "        with torch.inference_mode():\n",
        "            logits = model(batch_dict[\"x\"])\n",
        "            \n",
        "            # loss\n",
        "            loss = sequence_loss(logits,batch_dict[\"y\"],mask_index)\n",
        "            loss_t = loss.item()\n",
        "            running_loss += (loss_t - running_loss) /(batch_idx+1)\n",
        "            \n",
        "            # acc\n",
        "            acc_t = compute_acc(logits,batch_dict[\"y\"],mask_index)\n",
        "            running_acc += (acc_t - running_acc) / (batch_idx+1)   \n",
        "            \n",
        "    train_state[\"val_loss\"].append(running_loss)         \n",
        "    train_state[\"val_acc\"].append(running_acc)\n",
        "    \n",
        "    scheduler.step(train_state[\"val_loss\"][-1])\n",
        "    \n",
        "    if train_state[\"stop_early\"]:\n",
        "        break          "
      ]
    },
    {
      "cell_type": "code",
      "execution_count": 106,
      "metadata": {
        "id": "3LVGByWrAWoM",
        "outputId": "6dfe2327-c1b7-48f8-aefb-5e06660a2d5e",
        "colab": {
          "base_uri": "https://localhost:8080/",
          "height": 265
        }
      },
      "outputs": [
        {
          "output_type": "display_data",
          "data": {
            "text/plain": [
              "<Figure size 432x288 with 1 Axes>"
            ],
            "image/png": "[encoded data removed]"
          },
          "metadata": {
            "needs_background": "light"
          }
        }
      ],
      "source": [
        "plt.plot(train_state[\"train_loss\"],label=\"train_loss\")\n",
        "plt.plot(train_state[\"train_acc\"],label=\"train_acc\")\n",
        "plt.plot(train_state[\"val_loss\"],label=\"val_loss\")\n",
        "plt.plot(train_state[\"val_acc\"],label=\"val_acc\")\n",
        "plt.legend();"
      ]
    },
    {
      "cell_type": "code",
      "execution_count": 107,
      "metadata": {
        "id": "zV8vZMjSAWoM"
      },
      "outputs": [],
      "source": [
        "batch_generator = DataLoader2(dataset_dict[\"test\"])\n",
        "running_loss = 0.0\n",
        "running_acc = 0.0\n",
        "model.eval()\n",
        "\n",
        "for batch_idx,batch_dict in enumerate(batch_generator):\n",
        "    with torch.inference_mode():\n",
        "        logits = model(batch_dict[\"x\"])\n",
        "        \n",
        "        # loss\n",
        "        loss = sequence_loss(logits,batch_dict[\"y\"],mask_index)\n",
        "        loss_t = loss.item()\n",
        "        running_loss += (loss_t - running_loss) /(batch_idx+1)\n",
        "        \n",
        "        # acc\n",
        "        acc_t = compute_acc(logits,batch_dict[\"y\"],mask_index)\n",
        "        running_acc += (acc_t - running_acc) / (batch_idx+1)   \n",
        "        \n",
        "train_state[\"test_loss\"] = running_loss\n",
        "train_state[\"test_acc\"] = running_acc"
      ]
    },
    {
      "cell_type": "code",
      "execution_count": 108,
      "metadata": {
        "id": "2HYGDzDyAWoM",
        "outputId": "e9d8d83e-802d-4f04-950b-fcfc086d3584",
        "colab": {
          "base_uri": "https://localhost:8080/"
        }
      },
      "outputs": [
        {
          "output_type": "stream",
          "name": "stdout",
          "text": [
            "Test loss: 2.3607683116660563;\n",
            "Test Accuracy: 31.444514706891574\n"
          ]
        }
      ],
      "source": [
        "print(\"Test loss: {};\".format(train_state['test_loss']))\n",
        "print(\"Test Accuracy: {}\".format(train_state['test_acc']))"
      ]
    },
    {
      "cell_type": "code",
      "execution_count": 121,
      "metadata": {
        "id": "ZBuRjFzMAWoM"
      },
      "outputs": [],
      "source": [
        "def sample_from_model(model,char_vocab,num_samples,sample_size=20,args=args):\n",
        "    # creating the begin index for all samples\n",
        "    begin_seq_index = [char_vocab[args.beg_tkn]\n",
        "                       for _ in range(num_samples)]\n",
        "    # converting and add dim\n",
        "    begin_seq_index = torch.tensor(begin_seq_index,dtype=torch.int64).unsqueeze(dim=1)\n",
        "    \n",
        "    indices = [begin_seq_index]\n",
        "    h_t = None\n",
        "    \n",
        "    for time_step in range(sample_size):\n",
        "        x_t = indices[time_step]\n",
        "        # shape [num_sample,1]\n",
        "        x_emd_t = model.char_emb(x_t)\n",
        "        # shape [num_sample,1,emb]\n",
        "        rnn_t,h_t = model.rnn(x_emd_t,h_t)\n",
        "        # shape rnn_t [num_samples,1,hidden]\n",
        "        # shape h_t [1,num_samples,hidden]\n",
        "        pred_vector = model.fc(\n",
        "            rnn_t.squeeze(dim=1)  # shape [num_sample,hidden]\n",
        "            )\n",
        "        # shape [num_sample,char_vocab_size]\n",
        "        prob_vector = F.softmax(pred_vector,dim=1)\n",
        "        # shape [num_sample,char_vocab_size]\n",
        "        select = torch.multinomial(prob_vector,num_samples=1)\n",
        "        indices.append(select)\n",
        "    indices = torch.stack(indices)\n",
        "    indices = indices.squeeze().permute(1,0)\n",
        "    return indices     "
      ]
    },
    {
      "cell_type": "code",
      "execution_count": 122,
      "metadata": {
        "id": "yVRT_pK2AWoN"
      },
      "outputs": [],
      "source": [
        "def decode_samples(sampled_indices,char_vocab,args=args):\n",
        "    decoded_surnames = []\n",
        "    \n",
        "    for sample_index in range(sampled_indices.shape[0]):\n",
        "        surname = \"\"\n",
        "        for time_step in range(sampled_indices.shape[1]):\n",
        "            sample_item = sampled_indices[sample_index,time_step].item()\n",
        "            if sample_item == char_vocab[args.beg_tkn]:\n",
        "                continue\n",
        "            elif sample_item == char_vocab[args.end_tkn]:\n",
        "                break\n",
        "            else:\n",
        "                surname += char_vocab.get_itos()[sample_item]\n",
        "        decoded_surnames.append(surname)\n",
        "    return decoded_surnames"
      ]
    },
    {
      "cell_type": "code",
      "execution_count": 136,
      "metadata": {
        "id": "mYoylJobAWoN",
        "outputId": "a8cedf3b-dcab-41b3-fd58-faaf7e4f9bfd",
        "colab": {
          "base_uri": "https://localhost:8080/"
        }
      },
      "outputs": [
        {
          "output_type": "execute_result",
          "data": {
            "text/plain": [
              "['Norle',\n",
              " 'Pettary',\n",
              " 'peihurigane',\n",
              " 'Puskov',\n",
              " 'Baviston',\n",
              " 'Tolenteevan',\n",
              " 'Pabis',\n",
              " 'Iricharik',\n",
              " 'Marcon',\n",
              " 'Lund']"
            ]
          },
          "metadata": {},
          "execution_count": 136
        }
      ],
      "source": [
        "num_names = 10\n",
        "model = model.cpu()\n",
        "sampled_surnames = decode_samples(sample_from_model(model,vocab_dict[\"char\"],num_samples=num_names),\n",
        "                                  char_vocab=vocab_dict[\"char\"])\n",
        "sampled_surnames"
      ]
    },
    {
      "cell_type": "code",
      "execution_count": 129,
      "metadata": {
        "id": "iaHzZdoSAWoN"
      },
      "outputs": [],
      "source": []
    }
  ],
  "metadata": {
    "kernelspec": {
      "display_name": "nlp",
      "language": "python",
      "name": "python3"
    },
    "language_info": {
      "codemirror_mode": {
        "name": "ipython",
        "version": 3
      },
      "file_extension": ".py",
      "mimetype": "text/x-python",
      "name": "python",
      "nbconvert_exporter": "python",
      "pygments_lexer": "ipython3",
      "version": "3.10.9"
    },
    "orig_nbformat": 4,
    "colab": {
      "provenance": []
    },
    "accelerator": "GPU",
    "gpuClass": "standard"
  },
  "nbformat": 4,
  "nbformat_minor": 0
}