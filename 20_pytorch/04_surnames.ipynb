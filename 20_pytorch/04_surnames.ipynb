{
 "cells": [
  {
   "cell_type": "code",
   "execution_count": 1,
   "metadata": {},
   "outputs": [],
   "source": [
    "# in-built\n",
    "import os\n",
    "from pathlib import Path\n",
    "from argparse import Namespace\n",
    "from collections import defaultdict\n",
    "from functools import partial\n",
    "\n",
    "\n",
    "# torch\n",
    "import torch\n",
    "from torch import nn\n",
    "from torch import optim\n",
    "\n",
    "## other torch library\n",
    "from torch.utils.data import (\n",
    "    DataLoader,\n",
    "    default_collate)\n",
    "from torch.utils.data.backward_compatibility import worker_init_fn\n",
    "from torchdata import datapipes as dp\n",
    "from torchtext import vocab\n",
    "try:\n",
    "    from torchmetrics import Accuracy\n",
    "except:\n",
    "    !pip install torchmetrics\n",
    "    from torchmetrics import Accuracy\n",
    "\n",
    "# manipulation\n",
    "import numpy as np\n",
    "\n",
    "# visualization\n",
    "import matplotlib.pyplot as plt\n",
    "\n",
    "# others \n",
    "import gdown\n",
    "from tqdm import tqdm"
   ]
  },
  {
   "cell_type": "code",
   "execution_count": 2,
   "metadata": {},
   "outputs": [],
   "source": [
    "args = Namespace(\n",
    "    # data \n",
    "    ## Flags\n",
    "    download=False,\n",
    "    use_split_dataset=True,\n",
    "    url=\"https://drive.google.com/uc?export=download&id=1MBiOU5UCaGpJw2keXAqOLL8PCJg_uZaU\",\n",
    "    ## file and paths\n",
    "    data_base_path = \"../data/surnames/\",\n",
    "    file_name=\"surnames.csv\",\n",
    "    ## hyperparameter\n",
    "    split_weights = {\"train\":0.7,\"val\":0.15,\"test\":0.15},\n",
    "    \n",
    "    # model \n",
    "    ## file and paths\n",
    "    model_base_path = \"../models/surnames/\",\n",
    "    model_file_name = \"model.pth\",\n",
    "    ## hyper parameter\n",
    "    hidden_dim = 300,\n",
    "    \n",
    "    # vocab\n",
    "    unk_tkn = \"@\",\n",
    "    \n",
    "    # train\n",
    "    seed = 1432,\n",
    "    batch_size = 64,\n",
    "    learning_rate = 0.001,\n",
    "    num_epochs = 100,\n",
    "    early_stopping_criteria = 5,\n",
    "    \n",
    "    \n",
    "    # runtime option\n",
    "    cuda = torch.cuda.is_available(),\n",
    "    device = \"cuda\" if torch.cuda.is_available() else \"cpu\",\n",
    ")\n"
   ]
  },
  {
   "cell_type": "code",
   "execution_count": 3,
   "metadata": {},
   "outputs": [],
   "source": [
    "for key,value in args._get_kwargs():\n",
    "    if key.endswith(\"path\"):\n",
    "        Path(value).mkdir(parents=True,exist_ok=True)"
   ]
  },
  {
   "attachments": {},
   "cell_type": "markdown",
   "metadata": {},
   "source": [
    "# Datapipes"
   ]
  },
  {
   "attachments": {},
   "cell_type": "markdown",
   "metadata": {},
   "source": [
    "## To split the full csv into train ,val ,test"
   ]
  },
  {
   "cell_type": "code",
   "execution_count": 4,
   "metadata": {},
   "outputs": [],
   "source": [
    "def group_fn(row):\n",
    "    return row[1]\n",
    "\n",
    "def classification_fn(keys,row):\n",
    "    return keys.index(row[1])\n",
    "\n",
    "def meta_map(key,row):\n",
    "    return (key,\",\".join(row))\n",
    "\n",
    "def filename_fn(args,name):\n",
    "    return os.path.join(args.data_base_path,os.path.basename(f\"{name}.csv\"))"
   ]
  },
  {
   "cell_type": "code",
   "execution_count": 5,
   "metadata": {},
   "outputs": [],
   "source": [
    "stream = dp.iter.FileOpener([args.data_base_path+args.file_name])\n",
    "\n",
    "# convert stream into row data.\n",
    "row = stream.parse_csv(skip_lines=1)\n",
    "# group the data based on the nationality yield the data chunk\n",
    "nationality_group = row.groupby(group_key_fn=group_fn)\n",
    "\n",
    "# count total number of group and row in each group\n",
    "nation_count = defaultdict(int)\n",
    "for nation in nationality_group:\n",
    "    nation_count[nation[0][1]] += len(nation)\n",
    "    \n",
    "nation_count = dict(sorted(nation_count.items(),key=lambda kv:(kv[0],kv[1])))\n",
    "nationality_keys = list(nation_count.keys())\n",
    "torch.save(nation_count,args.data_base_path+\"count.pth\")\n",
    "\n",
    "# divide the data pipe into multiple data pipe using demux\n",
    "nation_demux = row.demux(num_instances=len(nationality_keys),\n",
    "                            classifier_fn=partial(classification_fn,nationality_keys),\n",
    "                            buffer_size=10000)"
   ]
  },
  {
   "cell_type": "code",
   "execution_count": 6,
   "metadata": {},
   "outputs": [],
   "source": [
    "def split_full_csv(args):\n",
    "    if args.download:\n",
    "        # stream = dp.iter.GDriveReader([args.url])\n",
    "        gdown.download(args.url,args.data_base_path+args.file_name,quiet=False)\n",
    "\n",
    "    stream = dp.iter.FileOpener([args.data_base_path+args.file_name])\n",
    "    \n",
    "    # convert stream into row data.\n",
    "    row = stream.parse_csv(skip_lines=1)\n",
    "    # group the data based on the nationality yield the data chunk\n",
    "    nationality_group = row.groupby(group_key_fn=group_fn)\n",
    "    \n",
    "    # count total number of group and row in each group\n",
    "    nation_count = defaultdict(int)\n",
    "    for nation in nationality_group:\n",
    "        nation_count[nation[0][1]] += len(nation)\n",
    "        \n",
    "    nation_count = dict(sorted(nation_count.items(),key=lambda kv:(-kv[1],kv[0])))\n",
    "    nationality_keys = list(nation_count.keys())\n",
    "    torch.save(nation_count,args.data_base_path+\"count.pth\")\n",
    "    \n",
    "    # divide the data pipe into multiple data pipe using demux\n",
    "    nation_demux = row.demux(num_instances=len(nationality_keys),\n",
    "                             classifier_fn=partial(classification_fn,nationality_keys),\n",
    "                             buffer_size=10000)\n",
    "    \n",
    "    dataset = {k:dp.iter.IterableWrapper([])\n",
    "               for k in args.split_weights.keys()}\n",
    "    \n",
    "    for key_name in dataset.keys():\n",
    "        for idx,nation_child_pipe in enumerate(nation_demux):\n",
    "            target = nation_child_pipe.random_split(weights=args.split_weights,\n",
    "                                                    seed=args.seed,\n",
    "                                                    total_length=nation_count[nationality_keys[idx]],\n",
    "                                                    target=key_name)            \n",
    "            dataset[key_name] = dataset[key_name].concat(target)\n",
    "        \n",
    "        meta_dp = dataset[key_name].map(partial(meta_map,key_name))\n",
    "        para_dp = meta_dp.lines_to_paragraphs(joiner=lambda ls:\"\\n\".join(ls))\n",
    "        saver_dp = para_dp.save_to_disk(filepath_fn=partial(filename_fn,args))\n",
    "        print(list(saver_dp))\n",
    "    \n",
    "    return nation_count,dataset"
   ]
  },
  {
   "cell_type": "code",
   "execution_count": 7,
   "metadata": {},
   "outputs": [],
   "source": [
    "def get_dataset(args):\n",
    "    if args.use_split_dataset:\n",
    "        print(f\"[INFO] Loading the dataset from files\")\n",
    "        dataset = {fname:dp.iter.FileOpener([args.data_base_path+fname+\".csv\"]).parse_csv()\n",
    "                   for fname in args.split_weights.keys()}\n",
    "        nation_count = torch.load(args.data_base_path+\"count.pth\")\n",
    "        return nation_count,dataset\n",
    "            \n",
    "    else:\n",
    "        print(f\"[INFO] Splitting dataset into train,val,test and storing locally\")\n",
    "        return split_full_csv(args)"
   ]
  },
  {
   "cell_type": "code",
   "execution_count": 8,
   "metadata": {},
   "outputs": [
    {
     "name": "stdout",
     "output_type": "stream",
     "text": [
      "[INFO] Loading the dataset from files\n"
     ]
    }
   ],
   "source": [
    "nation_count,dataset_pipes = get_dataset(args)"
   ]
  },
  {
   "cell_type": "code",
   "execution_count": 9,
   "metadata": {},
   "outputs": [],
   "source": [
    "def surname_token_fn(row):\n",
    "    return row[0]\n",
    "\n",
    "def nationality_token_fn(row):\n",
    "    return [row[1]]\n",
    "\n",
    "def create_dataset(surname_vocab,nation_vocab,row):\n",
    "    surname_vector = np.zeros(shape=len(surname_vocab),dtype=np.float32)\n",
    "    surname_vector[surname_vocab.lookup_indices(list(surname_token_fn(row)))] = 1\n",
    "    \n",
    "    nation_index = nation_vocab.lookup_indices([row[1]])[-1]\n",
    "    return {\"x\":surname_vector,\n",
    "            \"y\":nation_index}\n",
    "\n",
    "def collate_fn(args,x):\n",
    "    return {k:v.to(args.device)\n",
    "            for x_ in default_collate(x)\n",
    "            for k,v in x_.items()}"
   ]
  },
  {
   "cell_type": "code",
   "execution_count": 10,
   "metadata": {},
   "outputs": [],
   "source": [
    "def built_vocab_dict(dataset,args):\n",
    "    train_dataset = dataset[\"train\"]\n",
    "    surname_token = train_dataset.map(surname_token_fn)\n",
    "    surname_vocab = vocab.build_vocab_from_iterator(surname_token,\n",
    "                                                    specials=[args.unk_tkn])\n",
    "    surname_vocab.set_default_index(surname_vocab[args.unk_tkn])\n",
    "    \n",
    "    nationality_token = train_dataset.map(nationality_token_fn)\n",
    "    nationality_vocab = vocab.build_vocab_from_iterator(nationality_token)\n",
    "    \n",
    "    return {\"surname\":surname_vocab,\n",
    "            \"nationality\":nationality_vocab}"
   ]
  },
  {
   "cell_type": "code",
   "execution_count": 11,
   "metadata": {},
   "outputs": [],
   "source": [
    "def build_dataset_dict(dataset,vocab,args):\n",
    "    dataset_dict = defaultdict()\n",
    "    fn = partial(create_dataset,vocab[\"surname\"],vocab[\"nationality\"])\n",
    "    for key_name in args.split_weights.keys():\n",
    "        if key_name == \"train\":\n",
    "            datapipe = dataset[key_name].shuffle().sharding_filter()\n",
    "        else:\n",
    "            datapipe = dataset[key_name]\n",
    "        dataset_dict[key_name] = datapipe.map(fn).batch(args.batch_size,drop_last=True)\n",
    "    return dataset_dict"
   ]
  },
  {
   "cell_type": "code",
   "execution_count": 12,
   "metadata": {},
   "outputs": [],
   "source": [
    "vocab_dict = built_vocab_dict(dataset=dataset_pipes,\n",
    "                              args=args)\n",
    "dataset_dict = build_dataset_dict(dataset=dataset_pipes,\n",
    "                                  vocab=vocab_dict,\n",
    "                                  args=args)"
   ]
  },
  {
   "cell_type": "code",
   "execution_count": 13,
   "metadata": {},
   "outputs": [],
   "source": [
    "def generate_batches(dataset,args=args,shuffle=False):\n",
    "    dataloader = DataLoader(dataset=dataset,\n",
    "                            batch_size=args.batch_size,\n",
    "                            shuffle=shuffle,\n",
    "                            worker_init_fn=worker_init_fn,\n",
    "                            collate_fn=partial(collate_fn,args))\n",
    "    for batch in dataloader:\n",
    "        yield batch"
   ]
  },
  {
   "attachments": {},
   "cell_type": "markdown",
   "metadata": {},
   "source": [
    "# Model"
   ]
  },
  {
   "cell_type": "code",
   "execution_count": 35,
   "metadata": {},
   "outputs": [],
   "source": [
    "class SurnameClassifier(nn.Module):\n",
    "    def __init__(self,input_dim,hidden_dim,out_dim) -> None:\n",
    "        super().__init__()\n",
    "        self.fc1 = nn.Linear(in_features=input_dim,\n",
    "                             out_features=hidden_dim)\n",
    "        self.fc2 = nn.Linear(in_features=hidden_dim,\n",
    "                             out_features=out_dim)\n",
    "        \n",
    "    def forward(self,input,apply_softmax=False):\n",
    "        intermediate = torch.relu(self.fc1(input))\n",
    "        logits = self.fc2(intermediate)\n",
    "        \n",
    "        if apply_softmax:\n",
    "            logits = torch.softmax(logits,dim=1)\n",
    "        \n",
    "        return logits"
   ]
  },
  {
   "attachments": {},
   "cell_type": "markdown",
   "metadata": {},
   "source": [
    "# Training"
   ]
  },
  {
   "attachments": {},
   "cell_type": "markdown",
   "metadata": {},
   "source": [
    "## Helper function"
   ]
  },
  {
   "cell_type": "code",
   "execution_count": 15,
   "metadata": {},
   "outputs": [],
   "source": [
    "def make_train_state(args=args):\n",
    "    return {\"stop_early\":False,\n",
    "            \"early_stopping_step\":0,\n",
    "            \"early_stopping_val\":1e8,\n",
    "            \"epoch_index\":0,\n",
    "            \"learning_rate\":args.learning_rate,\n",
    "            \"model_filename\":args.model_base_path+args.model_file_name,\n",
    "            \"train_loss\":[],\n",
    "            \"train_acc\":[],\n",
    "            \"val_loss\":[],\n",
    "            \"val_acc\":[],\n",
    "            \"test_loss\":-1,\n",
    "            \"test_acc\":-1}\n",
    "    \n",
    "\n",
    "def update_train_state(train_state,model,args=args):\n",
    "    if train_state[\"epoch_index\"] == 0:\n",
    "        torch.save(model.state_dict(),train_state[\"model_filename\"])\n",
    "        train_state[\"stop_early\"] = False\n",
    "        \n",
    "    elif train_state[\"epoch_index\"] >= 1:\n",
    "        loss_tm1,loss_t = train_state[\"val_loss\"][-2:]\n",
    "        \n",
    "        if loss_t >= train_state[\"early_stopping_val\"]:\n",
    "            train_state[\"early_stopping_step\"] += 1\n",
    "        \n",
    "        else:\n",
    "            torch.save(model.state_dict(),train_state[\"model_filename\"])\n",
    "            train_state[\"stop_early\"] = 0\n",
    "        \n",
    "        train_state[\"stop_early\"] = train_state[\"early_stopping_step\"] >= args.early_stopping_criteria\n",
    "    \n",
    "    return train_state"
   ]
  },
  {
   "cell_type": "code",
   "execution_count": 16,
   "metadata": {},
   "outputs": [],
   "source": [
    "def set_seed_everywhere(seed,cuda):\n",
    "    np.random.seed(seed)\n",
    "    torch.manual_seed(seed)\n",
    "    if cuda:\n",
    "        torch.cuda.manual_seed_all(seed)\n",
    "        \n",
    "set_seed_everywhere(args.seed,args.cuda)"
   ]
  },
  {
   "attachments": {},
   "cell_type": "markdown",
   "metadata": {},
   "source": [
    "## initialize"
   ]
  },
  {
   "cell_type": "code",
   "execution_count": 17,
   "metadata": {},
   "outputs": [],
   "source": [
    "class_weights = 1.0/torch.tensor(list(nation_count.values()),dtype=torch.float32).to(args.device)"
   ]
  },
  {
   "cell_type": "code",
   "execution_count": 18,
   "metadata": {},
   "outputs": [],
   "source": [
    "classifier = SurnameClassifier(input_dim=len(vocab_dict[\"surname\"]),\n",
    "                               hidden_dim=args.hidden_dim,\n",
    "                               out_dim=len(vocab_dict[\"nationality\"])).to(args.device)\n",
    "loss_fn = nn.CrossEntropyLoss(weight=class_weights)\n",
    "acc_fn = Accuracy(task=\"multiclass\",num_classes=len(class_weights)).to(args.device)\n",
    "optimizer = optim.Adam(params=classifier.parameters(),\n",
    "                       lr=args.learning_rate)\n",
    "scheduler = optim.lr_scheduler.ReduceLROnPlateau(optimizer=optimizer,\n",
    "                                                 mode=\"min\",factor=0.5,\n",
    "                                                 patience=1)\n",
    "train_state = make_train_state(args)"
   ]
  },
  {
   "attachments": {},
   "cell_type": "markdown",
   "metadata": {},
   "source": [
    "## Training Loop"
   ]
  },
  {
   "cell_type": "code",
   "execution_count": 19,
   "metadata": {},
   "outputs": [
    {
     "name": "stderr",
     "output_type": "stream",
     "text": [
      "100%|██████████| 100/100 [00:43<00:00,  2.28it/s]\n"
     ]
    }
   ],
   "source": [
    "for epoch_index in tqdm(range(args.num_epochs)):\n",
    "    train_state[\"epoch_index\"] = epoch_index\n",
    "    \n",
    "    # init the running variable\n",
    "    running_loss = 0.0\n",
    "    running_acc = 0.0\n",
    "    \n",
    "    # get the train dataloader\n",
    "    batch_generator = generate_batches(dataset=dataset_dict[\"train\"],\n",
    "                                       args=args,shuffle=True)\n",
    "    \n",
    "    # put the model in training mode\n",
    "    classifier.train()\n",
    "    \n",
    "    for batch_idx,batch_dict in enumerate(batch_generator):\n",
    "        optimizer.zero_grad()\n",
    "        logits = classifier(batch_dict[\"x\"])\n",
    "        # compute the loss per batch\n",
    "        loss = loss_fn(logits,batch_dict[\"y\"])\n",
    "        loss_t = loss.item()\n",
    "        running_loss += (loss_t - running_loss) / (batch_idx+1)\n",
    "        \n",
    "        # compute the acc per batch\n",
    "        acc = acc_fn(logits,batch_dict[\"y\"])\n",
    "        acc_t = acc.item()\n",
    "        running_acc += (acc_t - running_acc) / (batch_idx+1)\n",
    "        \n",
    "        loss.backward()\n",
    "        \n",
    "        optimizer.step()\n",
    "        \n",
    "    train_state[\"train_loss\"].append(running_loss)\n",
    "    train_state[\"train_acc\"].append(running_acc)\n",
    "    \n",
    "    # iterate over the val dataset\n",
    "    \n",
    "    # init the running variable\n",
    "    running_loss = 0.0\n",
    "    running_acc = 0.0\n",
    "    \n",
    "    # get the val dataloader\n",
    "    batch_generator  = generate_batches(dataset=dataset_dict[\"val\"],\n",
    "                                        args=args,shuffle=False)\n",
    "    \n",
    "    # put the model in eval mode\n",
    "    classifier.eval()\n",
    "    \n",
    "    for batch_idx,batch_dict in enumerate(batch_generator):\n",
    "        with torch.inference_mode():\n",
    "            logits = classifier(batch_dict[\"x\"])\n",
    "            \n",
    "            # compute the loss\n",
    "            loss = loss_fn(logits,batch_dict[\"y\"])\n",
    "            loss_t = loss.item()\n",
    "            running_loss += (loss_t-running_loss) /(batch_idx+1)\n",
    "            \n",
    "            # compute the acc\n",
    "            acc = acc_fn(logits,batch_dict[\"y\"])\n",
    "            acc_t = acc.item()\n",
    "            running_acc += (acc_t-running_acc) /(batch_idx+1)\n",
    "            \n",
    "    train_state[\"val_loss\"].append(running_loss)\n",
    "    train_state[\"val_acc\"].append(running_acc)\n",
    "    \n",
    "    \n",
    "    train_state = update_train_state(train_state=train_state,\n",
    "                                     model=classifier,\n",
    "                                     args=args)\n",
    "    \n",
    "    scheduler.step(train_state[\"val_loss\"][-1])\n",
    "    if train_state[\"stop_early\"]:\n",
    "        break          "
   ]
  },
  {
   "cell_type": "code",
   "execution_count": 20,
   "metadata": {},
   "outputs": [
    {
     "data": {
      "image/png": "[encoded data removed]",
      "text/plain": [
       "<Figure size 640x480 with 1 Axes>"
      ]
     },
     "metadata": {},
     "output_type": "display_data"
    }
   ],
   "source": [
    "plt.plot(train_state[\"train_loss\"],label=\"train_loss\")\n",
    "plt.plot(train_state[\"train_acc\"],label=\"train_acc\")\n",
    "plt.plot(train_state[\"val_loss\"],label=\"val_loss\")\n",
    "plt.plot(train_state[\"val_acc\"],label=\"val_acc\")\n",
    "plt.legend();"
   ]
  },
  {
   "attachments": {},
   "cell_type": "markdown",
   "metadata": {},
   "source": [
    "## test"
   ]
  },
  {
   "cell_type": "code",
   "execution_count": 37,
   "metadata": {},
   "outputs": [],
   "source": [
    "classifier = SurnameClassifier(input_dim=len(vocab_dict[\"surname\"]),\n",
    "                               hidden_dim=args.hidden_dim,\n",
    "                               out_dim=len(vocab_dict[\"nationality\"])).to(args.device)"
   ]
  },
  {
   "cell_type": "code",
   "execution_count": 38,
   "metadata": {},
   "outputs": [
    {
     "data": {
      "text/plain": [
       "<All keys matched successfully>"
      ]
     },
     "execution_count": 38,
     "metadata": {},
     "output_type": "execute_result"
    }
   ],
   "source": [
    "classifier.load_state_dict(torch.load(train_state[\"model_filename\"],\n",
    "                                      map_location=torch.device(args.device)))"
   ]
  },
  {
   "cell_type": "code",
   "execution_count": 23,
   "metadata": {},
   "outputs": [],
   "source": [
    "batch_generator = generate_batches(dataset=dataset_dict[\"test\"],\n",
    "                                   args=args,shuffle=False)\n",
    "\n",
    "running_acc = 0.0\n",
    "running_loss = 0.0\n",
    "classifier.eval()\n",
    "\n",
    "for batch_idx,batch_dict in enumerate(batch_generator):\n",
    "    with torch.inference_mode():\n",
    "        logits = classifier(batch_dict[\"x\"])\n",
    "        \n",
    "        # compute the loss\n",
    "        loss = loss_fn(logits,batch_dict[\"y\"])\n",
    "        loss_t = loss.item()\n",
    "        running_loss += (loss_t - running_loss) /(batch_idx+1)\n",
    "        \n",
    "        # compute the acc\n",
    "        acc = acc_fn(logits,batch_dict[\"y\"])\n",
    "        acc_t = acc.item()\n",
    "        running_acc += (acc_t - running_acc) / (batch_idx+1)\n",
    "        \n",
    "train_state[\"test_loss\"] = running_loss\n",
    "train_state[\"test_acc\"] = running_acc"
   ]
  },
  {
   "cell_type": "code",
   "execution_count": 24,
   "metadata": {},
   "outputs": [
    {
     "name": "stdout",
     "output_type": "stream",
     "text": [
      "Test Loss : 1.6335911750793457\n",
      "Test Acc : 44.00%\n"
     ]
    }
   ],
   "source": [
    "print(f\"Test Loss : {train_state['test_loss']}\")\n",
    "print(f\"Test Acc : {train_state['test_acc']:.2%}\")"
   ]
  },
  {
   "attachments": {},
   "cell_type": "markdown",
   "metadata": {},
   "source": [
    "# Inference"
   ]
  },
  {
   "cell_type": "code",
   "execution_count": 29,
   "metadata": {},
   "outputs": [],
   "source": [
    "def vectorize(surname,surname_vocab):\n",
    "    surname_vector = np.zeros(shape=len(surname_vocab),dtype=np.float32)\n",
    "    surname_vector[surname_vocab.lookup_indices(list(surname))] = 1\n",
    "    return surname_vector"
   ]
  },
  {
   "cell_type": "code",
   "execution_count": 26,
   "metadata": {},
   "outputs": [],
   "source": [
    "def predict_nationality(surname,classifier,vocab_dict):\n",
    "    surname_vector = torch.tensor(vectorize(surname,vocab_dict[\"surname\"]),\n",
    "                                  dtype=torch.float32).view(1,-1)\n",
    "    result = classifier(surname_vector,apply_softmax=True)\n",
    "    prob,indices = result.max(dim=1)\n",
    "    \n",
    "    \n",
    "    pred_nationality = vocab_dict[\"nationality\"].lookup_token(indices)\n",
    "    \n",
    "    "
   ]
  },
  {
   "cell_type": "code",
   "execution_count": 55,
   "metadata": {},
   "outputs": [],
   "source": [
    "surname = \"Hinton\""
   ]
  },
  {
   "cell_type": "code",
   "execution_count": 56,
   "metadata": {},
   "outputs": [],
   "source": [
    "surname_vector = torch.tensor(vectorize(surname,vocab_dict[\"surname\"])).view(1,-1)"
   ]
  },
  {
   "cell_type": "code",
   "execution_count": 57,
   "metadata": {},
   "outputs": [],
   "source": [
    "result = classifier(surname_vector,apply_softmax=True)"
   ]
  },
  {
   "cell_type": "code",
   "execution_count": 58,
   "metadata": {},
   "outputs": [],
   "source": [
    "prob,indices = result.max(dim=1)"
   ]
  },
  {
   "cell_type": "code",
   "execution_count": 59,
   "metadata": {},
   "outputs": [
    {
     "data": {
      "text/plain": [
       "'Russian'"
      ]
     },
     "execution_count": 59,
     "metadata": {},
     "output_type": "execute_result"
    }
   ],
   "source": [
    "vocab_dict[\"nationality\"].lookup_token(indices)"
   ]
  }
 ],
 "metadata": {
  "kernelspec": {
   "display_name": "nlp",
   "language": "python",
   "name": "python3"
  },
  "language_info": {
   "codemirror_mode": {
    "name": "ipython",
    "version": 3
   },
   "file_extension": ".py",
   "mimetype": "text/x-python",
   "name": "python",
   "nbconvert_exporter": "python",
   "pygments_lexer": "ipython3",
   "version": "3.10.9"
  },
  "orig_nbformat": 4
 },
 "nbformat": 4,
 "nbformat_minor": 2
}
