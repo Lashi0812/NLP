{
 "cells": [
  {
   "cell_type": "code",
   "execution_count": 2,
   "metadata": {},
   "outputs": [],
   "source": [
    "import numpy as np\n",
    "from annoy import AnnoyIndex"
   ]
  },
  {
   "cell_type": "code",
   "execution_count": 6,
   "metadata": {},
   "outputs": [],
   "source": [
    "class PreTrainedEmbedding:\n",
    "    \n",
    "    def __init__(self,word_to_index,word_vector) -> None:\n",
    "        self.word_to_index = word_to_index\n",
    "        self.word_vectors = word_vector\n",
    "        self.index_to_word = {v:k for k,v in word_to_index.items()}\n",
    "        self.index = AnnoyIndex(f=len(word_vector[0]),\n",
    "                                metric=\"euclidean\")\n",
    "        for idx in self.word_to_index.values():\n",
    "            self.index.add_item(idx,self.word_vectors[idx])\n",
    "        \n",
    "        self.index.build(n_trees=50)\n",
    "    \n",
    "    @classmethod\n",
    "    def from_embedding_file(cls,embedding_file):\n",
    "        word_to_index = {}\n",
    "        word_vector = []\n",
    "        with open(embedding_file,\"r\") as f:\n",
    "            for line in f.readlines():\n",
    "                line = line.split(\" \")\n",
    "                word = line[0]\n",
    "                vector = np.array([float(num) for num in line[1:]])\n",
    "                word_to_index[word] = len(word_to_index)\n",
    "                word_vector.append(vector)\n",
    "        return cls(word_to_index,word_vector)\n",
    "    \n",
    "    def get_embedding(self,word):\n",
    "        return self.word_vectors[self.word_to_index[word]]\n",
    "    \n",
    "    def get_closest_to_vector(self,vector,n=1):\n",
    "        nn_indices = self.index.get_nns_by_vector(vector,n)\n",
    "        return [self.index_to_word[neighbor]\n",
    "                for neighbor in nn_indices]\n",
    "    \n",
    "    def compute_and_print_analogy(self,word1,word2,word3):\n",
    "        vec1 = self.get_embedding(word1)\n",
    "        vec2 = self.get_embedding(word2)\n",
    "        vec3 = self.get_embedding(word3)\n",
    "        \n",
    "        spatial_relationship = vec2 - vec1\n",
    "        vec4 = vec3 + spatial_relationship\n",
    "        \n",
    "        closest_words = self.get_closest_to_vector(vec4,n=4)\n",
    "        closest_words = [word for word in closest_words\n",
    "                         if word not in [word1,word2,word3]]\n",
    "        \n",
    "        for word4 in closest_words:\n",
    "            print(f\"{word1} : {word2} :: {word3} : {word4}\")"
   ]
  },
  {
   "cell_type": "code",
   "execution_count": 7,
   "metadata": {},
   "outputs": [],
   "source": [
    "embeddings = PreTrainedEmbedding.from_embedding_file(\"../data/glove/glove.6B.50d.txt\")"
   ]
  },
  {
   "cell_type": "code",
   "execution_count": 8,
   "metadata": {},
   "outputs": [
    {
     "name": "stdout",
     "output_type": "stream",
     "text": [
      "man : he :: woman : she\n",
      "man : he :: woman : having\n",
      "man : he :: woman : his\n"
     ]
    }
   ],
   "source": [
    "embeddings.compute_and_print_analogy('man', 'he', 'woman')"
   ]
  },
  {
   "cell_type": "code",
   "execution_count": 10,
   "metadata": {},
   "outputs": [
    {
     "name": "stdout",
     "output_type": "stream",
     "text": [
      "cat : kitten :: dog : puppy\n",
      "cat : kitten :: dog : proverbial\n",
      "cat : kitten :: dog : crazed\n"
     ]
    }
   ],
   "source": [
    "embeddings.compute_and_print_analogy('cat', 'kitten', 'dog')"
   ]
  },
  {
   "cell_type": "code",
   "execution_count": 13,
   "metadata": {},
   "outputs": [
    {
     "name": "stdout",
     "output_type": "stream",
     "text": [
      "talk : communicate :: read : interpret\n",
      "talk : communicate :: read : instructions\n",
      "talk : communicate :: read : typing\n"
     ]
    }
   ],
   "source": [
    "embeddings.compute_and_print_analogy('talk', 'communicate', 'read')"
   ]
  },
  {
   "cell_type": "code",
   "execution_count": 16,
   "metadata": {},
   "outputs": [
    {
     "name": "stdout",
     "output_type": "stream",
     "text": [
      "white : peace :: black : reconciliation\n",
      "white : peace :: black : unity\n",
      "white : peace :: black : independence\n"
     ]
    }
   ],
   "source": [
    "embeddings.compute_and_print_analogy('white', 'peace', 'black')"
   ]
  },
  {
   "cell_type": "code",
   "execution_count": 17,
   "metadata": {},
   "outputs": [
    {
     "name": "stdout",
     "output_type": "stream",
     "text": [
      "man : doctor :: woman : nurse\n",
      "man : doctor :: woman : pregnant\n",
      "man : doctor :: woman : child\n"
     ]
    }
   ],
   "source": [
    "embeddings.compute_and_print_analogy('man', 'doctor', 'woman')"
   ]
  },
  {
   "cell_type": "code",
   "execution_count": 18,
   "metadata": {},
   "outputs": [
    {
     "name": "stdout",
     "output_type": "stream",
     "text": [
      "man : king :: woman : queen\n",
      "man : king :: woman : prince\n",
      "man : king :: woman : elizabeth\n"
     ]
    }
   ],
   "source": [
    "embeddings.compute_and_print_analogy('man', 'king', 'woman')"
   ]
  },
  {
   "cell_type": "code",
   "execution_count": 19,
   "metadata": {},
   "outputs": [
    {
     "name": "stdout",
     "output_type": "stream",
     "text": [
      "fast : fastest :: small : smallest\n",
      "fast : fastest :: small : smaller\n",
      "fast : fastest :: small : larger\n",
      "fast : fastest :: small : oldest\n"
     ]
    }
   ],
   "source": [
    "embeddings.compute_and_print_analogy('fast', 'fastest', 'small')"
   ]
  },
  {
   "cell_type": "code",
   "execution_count": null,
   "metadata": {},
   "outputs": [],
   "source": []
  }
 ],
 "metadata": {
  "kernelspec": {
   "display_name": "nlp",
   "language": "python",
   "name": "python3"
  },
  "language_info": {
   "codemirror_mode": {
    "name": "ipython",
    "version": 3
   },
   "file_extension": ".py",
   "mimetype": "text/x-python",
   "name": "python",
   "nbconvert_exporter": "python",
   "pygments_lexer": "ipython3",
   "version": "3.10.9"
  },
  "orig_nbformat": 4
 },
 "nbformat": 4,
 "nbformat_minor": 2
}
