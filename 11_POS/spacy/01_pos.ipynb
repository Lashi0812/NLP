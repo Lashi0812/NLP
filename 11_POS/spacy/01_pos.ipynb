{
 "cells": [
  {
   "attachments": {},
   "cell_type": "markdown",
   "metadata": {},
   "source": [
    "# POS tagging\n",
    "\n",
    "1. universal tags can be accessed via \"pos_\" \n",
    "2. fine grained tagged can be accessed via \"tag_\""
   ]
  },
  {
   "cell_type": "code",
   "execution_count": 1,
   "metadata": {},
   "outputs": [],
   "source": [
    "import spacy \n",
    "nlp = spacy.load(\"en_core_web_md\")"
   ]
  },
  {
   "cell_type": "code",
   "execution_count": 2,
   "metadata": {},
   "outputs": [
    {
     "data": {
      "text/plain": [
       "['tok2vec', 'tagger', 'parser', 'attribute_ruler', 'lemmatizer', 'ner']"
      ]
     },
     "execution_count": 2,
     "metadata": {},
     "output_type": "execute_result"
    }
   ],
   "source": [
    "nlp.pipe_names"
   ]
  },
  {
   "cell_type": "code",
   "execution_count": 4,
   "metadata": {},
   "outputs": [
    {
     "data": {
      "text/plain": [
       "50"
      ]
     },
     "execution_count": 4,
     "metadata": {},
     "output_type": "execute_result"
    }
   ],
   "source": [
    "tag_list = nlp.pipe_labels[\"tagger\"]\n",
    "len(tag_list)"
   ]
  },
  {
   "cell_type": "code",
   "execution_count": 6,
   "metadata": {},
   "outputs": [
    {
     "name": "stdout",
     "output_type": "stream",
     "text": [
      "$              symbol, currency\n",
      "''             closing quotation mark\n",
      ",              punctuation mark, comma\n",
      "-LRB-          left round bracket\n",
      "-RRB-          right round bracket\n",
      ".              punctuation mark, sentence closer\n",
      ":              punctuation mark, colon or ellipsis\n",
      "ADD            email\n",
      "AFX            affix\n",
      "CC             conjunction, coordinating\n",
      "CD             cardinal number\n",
      "DT             determiner\n",
      "EX             existential there\n",
      "FW             foreign word\n",
      "HYPH           punctuation mark, hyphen\n",
      "IN             conjunction, subordinating or preposition\n",
      "JJ             adjective (English), other noun-modifier (Chinese)\n",
      "JJR            adjective, comparative\n",
      "JJS            adjective, superlative\n",
      "LS             list item marker\n",
      "MD             verb, modal auxiliary\n",
      "NFP            superfluous punctuation\n",
      "NN             noun, singular or mass\n",
      "NNP            noun, proper singular\n",
      "NNPS           noun, proper plural\n",
      "NNS            noun, plural\n",
      "PDT            predeterminer\n",
      "POS            possessive ending\n",
      "PRP            pronoun, personal\n",
      "PRP$           pronoun, possessive\n",
      "RB             adverb\n",
      "RBR            adverb, comparative\n",
      "RBS            adverb, superlative\n",
      "RP             adverb, particle\n",
      "SYM            symbol\n",
      "TO             infinitival \"to\"\n",
      "UH             interjection\n",
      "VB             verb, base form\n",
      "VBD            verb, past tense\n",
      "VBG            verb, gerund or present participle\n",
      "VBN            verb, past participle\n",
      "VBP            verb, non-3rd person singular present\n",
      "VBZ            verb, 3rd person singular present\n",
      "WDT            wh-determiner\n",
      "WP             wh-pronoun, personal\n",
      "WP$            wh-pronoun, possessive\n",
      "WRB            wh-adverb\n",
      "XX             unknown\n",
      "_SP            whitespace\n",
      "``             opening quotation mark\n"
     ]
    }
   ],
   "source": [
    "for tag in tag_list:\n",
    "    print(f\"{tag:<15s}{spacy.explain(tag)}\")"
   ]
  },
  {
   "cell_type": "code",
   "execution_count": 7,
   "metadata": {},
   "outputs": [
    {
     "name": "stdout",
     "output_type": "stream",
     "text": [
      "I              PRP  pronoun, personal\n",
      "will           MD   verb, modal auxiliary\n",
      "ship           VB   verb, base form\n",
      "the            DT   determiner\n",
      "package        NN   noun, singular or mass\n",
      "tomorrow       NN   noun, singular or mass\n",
      ".              .    punctuation mark, sentence closer\n"
     ]
    }
   ],
   "source": [
    "doc = nlp(\"I will ship the package tomorrow.\")\n",
    "for token in doc:\n",
    "    print(f\"{token.text:<15s}{token.tag_:<5s}{spacy.explain(token.tag_)}\")"
   ]
  },
  {
   "attachments": {},
   "cell_type": "markdown",
   "metadata": {},
   "source": [
    "here ship is marked as the verb."
   ]
  },
  {
   "cell_type": "code",
   "execution_count": 8,
   "metadata": {},
   "outputs": [
    {
     "name": "stdout",
     "output_type": "stream",
     "text": [
      "I              PRP  pronoun, personal\n",
      "saw            VBD  verb, past tense\n",
      "a              DT   determiner\n",
      "red            JJ   adjective (English), other noun-modifier (Chinese)\n",
      "ship           NN   noun, singular or mass\n",
      ".              .    punctuation mark, sentence closer\n"
     ]
    }
   ],
   "source": [
    "doc = nlp(\"I saw a red ship.\")\n",
    "for token in doc:\n",
    "    print(f\"{token.text:<15s}{token.tag_:<5s}{spacy.explain(token.tag_)}\")"
   ]
  },
  {
   "cell_type": "code",
   "execution_count": 9,
   "metadata": {},
   "outputs": [
    {
     "name": "stdout",
     "output_type": "stream",
     "text": [
      "My             PRP$ pronoun, possessive\n",
      "cat            NN   noun, singular or mass\n",
      "will           MD   verb, modal auxiliary\n",
      "fish           VB   verb, base form\n",
      "for            IN   conjunction, subordinating or preposition\n",
      "a              DT   determiner\n",
      "fish           NN   noun, singular or mass\n",
      "tomorrow       NN   noun, singular or mass\n",
      "in             IN   conjunction, subordinating or preposition\n",
      "a              DT   determiner\n",
      "fishy          JJ   adjective (English), other noun-modifier (Chinese)\n",
      "way            NN   noun, singular or mass\n",
      ".              .    punctuation mark, sentence closer\n"
     ]
    }
   ],
   "source": [
    "doc = nlp(\"My cat will fish for a fish tomorrow in a fishy way.\")\n",
    "for token in doc:\n",
    "    print(f\"{token.text:<15s}{token.tag_:<5s}{spacy.explain(token.tag_)}\")"
   ]
  },
  {
   "attachments": {},
   "cell_type": "markdown",
   "metadata": {},
   "source": [
    "# why we need to POS\n",
    "\n",
    "1. to solve the Word Sense Disambiguation(WSD). \n",
    "2. Even though it cant complete solve the prob.but it can use make some sense in word usage.\n",
    "\n",
    "Example :\n",
    "Consider some sentence have the action to fly, but only some sentence intent to make a ticket booking."
   ]
  },
  {
   "cell_type": "code",
   "execution_count": 11,
   "metadata": {},
   "outputs": [],
   "source": [
    "doc1 = nlp(\"I flew to Rome.\")\n",
    "doc2 = nlp(\"I have flown to Rome.\")\n",
    "doc3 = nlp(\"I'm flying to Rome\")\n",
    "doc4 = nlp(\"I need to fly to Rome\")\n",
    "doc5 = nlp(\"I will fly to Rome\")"
   ]
  },
  {
   "attachments": {},
   "cell_type": "markdown",
   "metadata": {},
   "source": [
    "in these sentence we remove sentence with past tense and present participle.those are not intent to book flight."
   ]
  },
  {
   "cell_type": "code",
   "execution_count": 14,
   "metadata": {},
   "outputs": [
    {
     "name": "stdout",
     "output_type": "stream",
     "text": [
      "[]\n",
      "[]\n",
      "[]\n",
      "[(fly, 'VB', 'fly')]\n",
      "[(fly, 'VB', 'fly')]\n"
     ]
    }
   ],
   "source": [
    "for doc in [doc1,doc2,doc3,doc4,doc5]:\n",
    "    print([(token,token.tag_,token.lemma_) for token in doc if  token.tag_ ==\"VB\" and token.lemma_ ==\"fly\"])"
   ]
  },
  {
   "cell_type": "code",
   "execution_count": null,
   "metadata": {},
   "outputs": [],
   "source": []
  }
 ],
 "metadata": {
  "kernelspec": {
   "display_name": "nlp",
   "language": "python",
   "name": "python3"
  },
  "language_info": {
   "codemirror_mode": {
    "name": "ipython",
    "version": 3
   },
   "file_extension": ".py",
   "mimetype": "text/x-python",
   "name": "python",
   "nbconvert_exporter": "python",
   "pygments_lexer": "ipython3",
   "version": "3.10.9"
  },
  "orig_nbformat": 4,
  "vscode": {
   "interpreter": {
    "hash": "dea56c0b954ae67294c7ca9bf9c057fc748d59d22faedcf3e8a57e0a70ba84c3"
   }
  }
 },
 "nbformat": 4,
 "nbformat_minor": 2
}
