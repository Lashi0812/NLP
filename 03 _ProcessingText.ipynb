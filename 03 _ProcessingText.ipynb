{
 "cells": [
  {
   "attachments": {},
   "cell_type": "markdown",
   "metadata": {},
   "source": [
    "# Accessing text from the web"
   ]
  },
  {
   "cell_type": "code",
   "execution_count": 41,
   "metadata": {},
   "outputs": [],
   "source": [
    "import requests\n",
    "import nltk\n",
    "from bs4 import BeautifulSoup"
   ]
  },
  {
   "cell_type": "code",
   "execution_count": 2,
   "metadata": {},
   "outputs": [],
   "source": [
    "res = requests.get(\"https://www.gutenberg.org/files/2554/2554-0.txt\")\n",
    "res.encoding = 'utf-8-sig'"
   ]
  },
  {
   "cell_type": "code",
   "execution_count": 3,
   "metadata": {},
   "outputs": [
    {
     "data": {
      "text/plain": [
       "1176811"
      ]
     },
     "execution_count": 3,
     "metadata": {},
     "output_type": "execute_result"
    }
   ],
   "source": [
    "len(res.text) "
   ]
  },
  {
   "cell_type": "code",
   "execution_count": 4,
   "metadata": {},
   "outputs": [
    {
     "name": "stdout",
     "output_type": "stream",
     "text": [
      "The Project Gutenberg eBook of Crime and Punishment, by Fyodor Dostoevsky\n",
      "\n",
      "This eBook is for the u\n"
     ]
    }
   ],
   "source": [
    "print(res.text[:100])"
   ]
  },
  {
   "cell_type": "code",
   "execution_count": 14,
   "metadata": {},
   "outputs": [],
   "source": [
    "res_text = res.text"
   ]
  },
  {
   "cell_type": "code",
   "execution_count": 15,
   "metadata": {},
   "outputs": [],
   "source": [
    "# tokenize\n",
    "tokens = nltk.word_tokenize(res_text)"
   ]
  },
  {
   "cell_type": "code",
   "execution_count": 16,
   "metadata": {},
   "outputs": [
    {
     "data": {
      "text/plain": [
       "(list, 257058)"
      ]
     },
     "execution_count": 16,
     "metadata": {},
     "output_type": "execute_result"
    }
   ],
   "source": [
    "type(tokens) , len(tokens)"
   ]
  },
  {
   "cell_type": "code",
   "execution_count": 17,
   "metadata": {},
   "outputs": [],
   "source": [
    "text = nltk.Text(tokens)"
   ]
  },
  {
   "cell_type": "code",
   "execution_count": 18,
   "metadata": {},
   "outputs": [
    {
     "name": "stdout",
     "output_type": "stream",
     "text": [
      "Katerina Ivanovna; Pyotr Petrovitch; Pulcheria Alexandrovna; Avdotya\n",
      "Romanovna; Rodion Romanovitch; Marfa Petrovna; Sofya Semyonovna; old\n",
      "woman; Project Gutenberg-tm; Porfiry Petrovitch; Amalia Ivanovna;\n",
      "great deal; young man; Nikodim Fomitch; Project Gutenberg; Ilya\n",
      "Petrovitch; Andrey Semyonovitch; Hay Market; Dmitri Prokofitch; Good\n",
      "heavens\n"
     ]
    }
   ],
   "source": [
    "text.collocations()"
   ]
  },
  {
   "cell_type": "code",
   "execution_count": 19,
   "metadata": {},
   "outputs": [
    {
     "data": {
      "text/plain": [
       "nltk.text.Text"
      ]
     },
     "execution_count": 19,
     "metadata": {},
     "output_type": "execute_result"
    }
   ],
   "source": [
    "type(text)"
   ]
  },
  {
   "cell_type": "code",
   "execution_count": 20,
   "metadata": {},
   "outputs": [
    {
     "data": {
      "text/plain": [
       "['_CONTEXT_RE',\n",
       " '_COPY_TOKENS',\n",
       " '__class__',\n",
       " '__delattr__',\n",
       " '__dict__',\n",
       " '__dir__',\n",
       " '__doc__',\n",
       " '__eq__',\n",
       " '__format__',\n",
       " '__ge__',\n",
       " '__getattribute__',\n",
       " '__getitem__',\n",
       " '__gt__',\n",
       " '__hash__',\n",
       " '__init__',\n",
       " '__init_subclass__',\n",
       " '__le__',\n",
       " '__len__',\n",
       " '__lt__',\n",
       " '__module__',\n",
       " '__ne__',\n",
       " '__new__',\n",
       " '__reduce__',\n",
       " '__reduce_ex__',\n",
       " '__repr__',\n",
       " '__setattr__',\n",
       " '__sizeof__',\n",
       " '__str__',\n",
       " '__subclasshook__',\n",
       " '__weakref__',\n",
       " '_context',\n",
       " '_train_default_ngram_lm',\n",
       " 'collocation_list',\n",
       " 'collocations',\n",
       " 'common_contexts',\n",
       " 'concordance',\n",
       " 'concordance_list',\n",
       " 'count',\n",
       " 'dispersion_plot',\n",
       " 'findall',\n",
       " 'generate',\n",
       " 'index',\n",
       " 'plot',\n",
       " 'readability',\n",
       " 'similar',\n",
       " 'vocab']"
      ]
     },
     "execution_count": 20,
     "metadata": {},
     "output_type": "execute_result"
    }
   ],
   "source": [
    "dir(nltk.text.Text)"
   ]
  },
  {
   "cell_type": "code",
   "execution_count": 21,
   "metadata": {},
   "outputs": [
    {
     "name": "stdout",
     "output_type": "stream",
     "text": [
      "Displaying 10 of 474 matches:\n",
      " Nicholas I . ( that “ stern and just man , ” as Maurice Baring calls him ) thi\n",
      "ibes the awful agony of the condemned man and insists on the cruelty of inflict\n",
      " of mourners , who “ gave the hapless man the funeral of a king. ” He is still \n",
      "evsky : “ He was one of ourselves , a man of our blood and our bone , but one w\n",
      "lly hot evening early in July a young man came out of the garret in which he lo\n",
      ". And each time he passed , the young man had a sick , frightened feeling , whi\n",
      "dd smile . “ Hm ... yes , all is in a man ’ s hands and he lets it all slip fro\n",
      "- all worked painfully upon the young man ’ s already overwrought nerves . The \n",
      "ust gleamed for a moment in the young man ’ s refined face . He was , by the wa\n",
      ". He was so badly dressed that even a man accustomed to shabbiness would have b\n"
     ]
    }
   ],
   "source": [
    "text.concordance(\"man\",lines=10)"
   ]
  },
  {
   "cell_type": "code",
   "execution_count": 33,
   "metadata": {},
   "outputs": [],
   "source": [
    "start_sent = \"EBOOK CRIME AND PUNISHMENT ***\"\n",
    "start = res_text.find(start_sent)\n",
    "end = res.text.rfind(\"END OF THE PROJECT\")"
   ]
  },
  {
   "cell_type": "code",
   "execution_count": 34,
   "metadata": {},
   "outputs": [],
   "source": [
    "res_text = res_text[start + len(start_sent):end]"
   ]
  },
  {
   "attachments": {},
   "cell_type": "markdown",
   "metadata": {},
   "source": [
    "## HTML"
   ]
  },
  {
   "cell_type": "code",
   "execution_count": 35,
   "metadata": {},
   "outputs": [],
   "source": [
    "res = requests.get(\"https://currentaffairs.adda247.com/21st-february-current-affairs-top-news-of-the-day/\")"
   ]
  },
  {
   "cell_type": "code",
   "execution_count": 43,
   "metadata": {},
   "outputs": [],
   "source": [
    "res_text = res.text\n",
    "soup =BeautifulSoup(res_text)"
   ]
  },
  {
   "cell_type": "code",
   "execution_count": 45,
   "metadata": {},
   "outputs": [],
   "source": [
    "raw_text = soup.get_text()"
   ]
  },
  {
   "cell_type": "code",
   "execution_count": 48,
   "metadata": {},
   "outputs": [
    {
     "data": {
      "text/plain": [
       "'21st February Current Affairs - Top News of the Day Skip to content National International GK Questions 2023 Banking PDF PDF Current Affairs Oneliner PDF 2023 Monthly Current Affairs 2022'"
      ]
     },
     "execution_count": 48,
     "metadata": {},
     "output_type": "execute_result"
    }
   ],
   "source": [
    "tokens = nltk.word_tokenize(raw_text)\n",
    "\" \".join(tokens[:30])"
   ]
  },
  {
   "cell_type": "code",
   "execution_count": 49,
   "metadata": {},
   "outputs": [
    {
     "name": "stdout",
     "output_type": "stream",
     "text": [
      "Current Affairs; Read Full; Full News; Top News; February Current;\n",
      "News ...; 21st February; NITI Aayog; Arunachal Pradesh; Dadasaheb\n",
      "Phalke; Mother Language; current affairs; Prime Minister;\n",
      "International Mother; Language Day; Daily Current; APJ Abdul; Abdul\n",
      "Kalam; Khajuraho Dance; Western Front\n"
     ]
    }
   ],
   "source": [
    "text = nltk.Text(tokens)\n",
    "text.collocations()"
   ]
  },
  {
   "cell_type": "code",
   "execution_count": 50,
   "metadata": {},
   "outputs": [
    {
     "name": "stdout",
     "output_type": "stream",
     "text": [
      "Displaying 4 of 4 matches:\n",
      "nd conditions . Read Full News 8 . Ministry of Rural Development Signed MoU wi\n",
      "Development Signed MoU with Meesho Ministry of Rural Development signed an MoU\n",
      "elopment signed an MoU between the ministry and Meesho an e-commerce platform \n",
      "SIC extended for 2 years by Labour Ministry The 190th Meeting of the Employees\n"
     ]
    }
   ],
   "source": [
    "text.concordance(\"ministry\")"
   ]
  },
  {
   "attachments": {},
   "cell_type": "markdown",
   "metadata": {},
   "source": [
    "## Processing the RSS feed"
   ]
  },
  {
   "cell_type": "code",
   "execution_count": 51,
   "metadata": {},
   "outputs": [],
   "source": [
    "import feedparser"
   ]
  },
  {
   "cell_type": "code",
   "execution_count": 52,
   "metadata": {},
   "outputs": [],
   "source": [
    "tds = feedparser.parse(\"https://medium.com/feed/@towardsdatascience\")"
   ]
  },
  {
   "cell_type": "code",
   "execution_count": 55,
   "metadata": {},
   "outputs": [
    {
     "data": {
      "text/plain": [
       "'Stories by TDS Editors on Medium'"
      ]
     },
     "execution_count": 55,
     "metadata": {},
     "output_type": "execute_result"
    }
   ],
   "source": [
    "tds[\"feed\"][\"title\"]"
   ]
  },
  {
   "cell_type": "code",
   "execution_count": 57,
   "metadata": {},
   "outputs": [
    {
     "data": {
      "text/plain": [
       "10"
      ]
     },
     "execution_count": 57,
     "metadata": {},
     "output_type": "execute_result"
    }
   ],
   "source": [
    "len(tds.entries)"
   ]
  },
  {
   "cell_type": "code",
   "execution_count": 58,
   "metadata": {},
   "outputs": [
    {
     "data": {
      "text/plain": [
       "'February Edition: Let’s Talk About the Chatbot'"
      ]
     },
     "execution_count": 58,
     "metadata": {},
     "output_type": "execute_result"
    }
   ],
   "source": [
    "post = tds.entries[3]\n",
    "post.title"
   ]
  },
  {
   "cell_type": "code",
   "execution_count": 62,
   "metadata": {},
   "outputs": [
    {
     "data": {
      "text/plain": [
       "'Monthly Edition(Yes, you know the\\xa0one)Photo by Fleur on\\xa0UnsplashTwo months after OpenAI released ChatGPT into the world, here’s one thing we can probably all agree on: it’s been a\\xa0lot.How have we at TDS fared since the chatbot’s arrival? Why, thanks for asking! Imagine a roller coaster ride, set within a hall of mirrors, and lit by strobe lights: that’ll give you a rough idea of the experience from an editor’s perspective.We’ve never seen a single topic grab the collective attention of our community with as much intensity, and it’s been exciting to see readers and authors energized by the tool’s potential. It’s been less exciting to wade through dozens of hype-fueled takes (which we didn’t publish), and downright frustrating to see our review queues clogged by AI-generated articles (to the best of our knowledge we didn’t publish those,\\xa0either).Just like our friends at Medium, who recently reflected on their policies around ChatGPT and similar tools, we’d also taken the time to discuss the chatbot’s effect on TDS as a publication. As a result, we updated our guidelines, and made it explicit that we only accept posts written entirely by\\xa0humans.Throughout this period, fortunately, our authors continued to draw on their expertise to share smart, measured, and timely posts about this emerging technology. To celebrate their excellent writing and to help readers approach ChatGPT with a more well-rounded and better-informed outlook, we selected some of the strongest contributions on the topic. (If you stumbled on other articles you enjoyed, feel free to share a link in the comments.)Thank you, as always, for spending time with the work we publish. If you’d like to support it in more direct ways (and gain access to our entire archive along the way), please consider becoming Medium\\xa0members.TDS EditorsTDS Editors HighlightsHow ChatGPT Works: The Model Behind The Bot (January 2023, 8 minutes)If you need a clear and accessible introduction to the methodology and technical infrastructure that power ChatGPT, Molly Ruby’s explainer is an essential read.The Carbon Footprint of ChatGPT (December 2022, 7 minutes)Within days of ChatGPT’s release, Kasper Groes Albin Ludvigsen attempted to answer a crucial question about the model’s environmental impact.Not All Rainbows and Sunshine: The Darker Side of ChatGPT (January 2023, 9 minutes)Alongside the fun, creative aspects of large language models, Mary Reagan PhD argues that we should pay at least as much attention to potential risks and ethical\\xa0issues.Microsoft vs Google: Will Language Models Overtake Search Engines? (January 2023, 12 minutes)How will ChatGPT change our online habits and workflows? Looking into the (likely near) future, Alberto Romero reflects on the brewing competition between LLMs and traditional web\\xa0search.Can ChatGPT Write Better SQL than a Data Analyst? (January 2023, 6 minutes)Marie Truong’s article (our most-read in January!) tackles a question that’s clearly on many data professionals’ minds: will the machines finally render us obsolete?Popular PostsIn case you missed them, here are some of last month’s most-read posts on\\xa0TDS.5 Python Tricks That Distinguish Senior Developers From Juniors by Tomer\\xa0GabayMaking the Jump from Data Analyst to Data Scientist in 2023 by Mary Newhauser7 of the Most Used Feature Engineering Techniques by Dominik\\xa0PolzerThe Future of the Modern Data Stack in 2023 by Prukalpa and Christine GarciaPandas vs. Polars: A Syntax and Speed Comparison by Leonie Monigatti4 Common Python Mistakes You Should Avoid as a Beginner by Murtaza\\xa0AliWe enjoyed a very strong start to the year thanks to an impressive cohort of new TDS authors\\u200a—\\u200aplease join us in welcoming Jonah Breslow, Taylor Wagner, Ertuğrul Demir, Akshay Dagar, Will Badr, Frauke Albrecht, Chad Isenberg, Stefany Goradia, Aleksandra Ma, Boris Ruf, Galen Okazaki, Alle Sravani, Herman Michaels, Jazmia Henry, Trevor Coppins, Martin Leitner, Jacky Kaub, Shenyang(Andy) Huang, Christoph Möhl, Katherine Munro, Sebastian Charmot, Miriam Santos, Tin Nguyen, Amogh Vaishampayan, Murat Unal, Ebrahim Pichka, John Morrow, Oded Mousai, Christopher McDonald, Bárbara Barbosa, Jonathan Bogerd, Jonas Dieckmann, Alejandro Correa Bahnsen, Pushpak Pujari, Matthew Harris, Tomáš Neubauer, Maggie Hays, Vino Duraisamy, István Módos, Lukáš Zahradník, Mary Reagan PhD, Christian Koch, and Bale Chen, among others. If you have an interesting project or idea to share with us, we’d love to hear from\\xa0you!See you next\\xa0month.February Edition: Let’s Talk About the Chatbot was originally published in Towards Data Science on Medium, where people are continuing the conversation by highlighting and responding to this story.'"
      ]
     },
     "execution_count": 62,
     "metadata": {},
     "output_type": "execute_result"
    }
   ],
   "source": [
    "soup = BeautifulSoup(post.content[0].value)\n",
    "soup.get_text()"
   ]
  },
  {
   "cell_type": "code",
   "execution_count": 63,
   "metadata": {},
   "outputs": [],
   "source": [
    "cricket = feedparser.parse(\"https://www.thehindu.com/sport/cricket/feeder/default.rss\")"
   ]
  },
  {
   "cell_type": "code",
   "execution_count": 65,
   "metadata": {},
   "outputs": [
    {
     "data": {
      "text/plain": [
       "'| The Hindu'"
      ]
     },
     "execution_count": 65,
     "metadata": {},
     "output_type": "execute_result"
    }
   ],
   "source": [
    "cricket[\"feed\"][\"title\"]"
   ]
  },
  {
   "cell_type": "code",
   "execution_count": 66,
   "metadata": {},
   "outputs": [
    {
     "data": {
      "text/plain": [
       "100"
      ]
     },
     "execution_count": 66,
     "metadata": {},
     "output_type": "execute_result"
    }
   ],
   "source": [
    "len(cricket.entries)"
   ]
  },
  {
   "cell_type": "code",
   "execution_count": 74,
   "metadata": {},
   "outputs": [
    {
     "data": {
      "text/plain": [
       "{'title': \"New Zealand vs England Tests | We are missing couple of small moments but know that's the nature of Test cricket: Daryl Mitchell\",\n",
       " 'title_detail': {'type': 'text/plain',\n",
       "  'language': None,\n",
       "  'base': 'https://www.thehindu.com/sport/cricket/feeder/default.rss',\n",
       "  'value': \"New Zealand vs England Tests | We are missing couple of small moments but know that's the nature of Test cricket: Daryl Mitchell\"},\n",
       " 'summary': 'England will look to clinch the series against New Zealand when the second Test commences in Wellington on February 25',\n",
       " 'summary_detail': {'type': 'text/html',\n",
       "  'language': None,\n",
       "  'base': 'https://www.thehindu.com/sport/cricket/feeder/default.rss',\n",
       "  'value': 'England will look to clinch the series against New Zealand when the second Test commences in Wellington on February 25'},\n",
       " 'links': [{'rel': 'alternate',\n",
       "   'type': 'text/html',\n",
       "   'href': 'https://www.thehindu.com/sport/cricket/new-zealand-vs-england-tests-we-are-missing-couple-of-small-moments-but-know-thats-the-nature-of-test-cricket-daryl-mitchell/article66536163.ece'}],\n",
       " 'link': 'https://www.thehindu.com/sport/cricket/new-zealand-vs-england-tests-we-are-missing-couple-of-small-moments-but-know-thats-the-nature-of-test-cricket-daryl-mitchell/article66536163.ece',\n",
       " 'id': 'article-66536163',\n",
       " 'guidislink': False,\n",
       " 'tags': [{'term': 'cricket', 'scheme': None, 'label': None}],\n",
       " 'published': 'Tue, 21 Feb 2023 17:29:38 +0530',\n",
       " 'published_parsed': time.struct_time(tm_year=2023, tm_mon=2, tm_mday=21, tm_hour=11, tm_min=59, tm_sec=38, tm_wday=1, tm_yday=52, tm_isdst=0),\n",
       " 'media_content': [{'height': '675',\n",
       "   'medium': 'image',\n",
       "   'url': 'https://th-i.thgim.com/public/incoming/8f0jwk/article66536234.ece/alternates/LANDSCAPE_1200/New_Zealand_England_Cricket_45206.jpg',\n",
       "   'width': '1200'}]}"
      ]
     },
     "execution_count": 74,
     "metadata": {},
     "output_type": "execute_result"
    }
   ],
   "source": [
    "post = cricket.entries[5]\n",
    "post"
   ]
  },
  {
   "cell_type": "code",
   "execution_count": 75,
   "metadata": {},
   "outputs": [
    {
     "data": {
      "text/plain": [
       "\"New Zealand vs England Tests | We are missing couple of small moments but know that's the nature of Test cricket: Daryl Mitchell\""
      ]
     },
     "execution_count": 75,
     "metadata": {},
     "output_type": "execute_result"
    }
   ],
   "source": [
    "post.title"
   ]
  },
  {
   "cell_type": "code",
   "execution_count": 77,
   "metadata": {},
   "outputs": [],
   "source": [
    "content = requests.get(post.link).content\n",
    "soup = BeautifulSoup(content)"
   ]
  },
  {
   "cell_type": "code",
   "execution_count": 87,
   "metadata": {},
   "outputs": [
    {
     "name": "stdout",
     "output_type": "stream",
     "text": [
      "New Zealand all-rounder Daryl Mitchell laments the \"small moments\" that were lost during the first Test in Mount Maunganui but maintains that there is no difference between his squad and England.England will look to clinch the series against New Zealand when the second Test commences in Wellington on February 25.England continue their red-hot run of form under skipper Ben Stokes and coach Brendon McCullum's leadership, as top knock by Harry Brook, Ben Duckett and clinical bowling by veteran pace duo James Anderson and Stuart Broad helped the side clinch their first Test win on New Zealand soil for the first time in almost 15 years, defeating Kiwis by 267 runs at Mount Maunganui on Sunday to take a 1-0 lead in two-match series. \"If you looked into that third innings, I think we had them six down for 230-240 - I'm not sure of the exact numbers - but if we had taken a couple of quick wickets, the game could have been a lot different,\" ESPNcricinfo quoted Mitchell as saying after arriving in Wellington for the second Test.\"So, for us, it's actually not too far away. It's sticking true to who we are as Kiwis and Blackcaps, and what's worked for us for a number of years now. Yeah, we are missing a couple of small moments now, which is disappointing, but we also know that's the nature of Test cricket, and it's not always going to go your way, and it can be a bloody hard game at times. But we also know we are not too far away,\" he added. One of those small moments was when New Zealand let England escape with 374 runs in their second innings after they had fallen to 237 for 6. When the reverse sweep caught Joe Root for the second time in the Test at the start of day three's tea, England's innings could go out of hand. However, Ben Foakes' calm half-century and quick cameos from skipper Ben Stokes and No. 9 Ollie Robinson propelled England to that point.Under the Mount Maunganui floodlights, Stuart Broad then destroyed New Zealand's top order, thereby putting the hosts' pursuit of 394 runs in the fourth inning out of reach.New Zealand head coach Gary Stead, bemoaned his team's inability to deliver the sucker punch during that phase of play, which altered the tone and pace of the match.\"I thought there were times through this Test we did that really, really well. I think in that second innings when they were 230 [237] for 6, if we could've bowled them out in the next hour, then we bat [for] a good period of time in the daylight as well with the softer ball. They are the little variables that affected us in this Test match, but looking forward to the challenge that's ahead because we know that's a big challenge,\" Stead said. Kiwis suffered a big blow ahead of the Wellington Test, with Kyle Jamieson ruled out for at least \"three to four months\" after undergoing back surgery this week. Jamieson was originally supposed to make his return to the national side in the first pink-ball Test against England. \"They [England] are obviously playing very, very good cricket. I think they've won 10-11 of their last 12 Tests, and they're on a bit of a roll and playing with some real confidence. I don't think it's unfair to say we're probably lacking a little bit of that confidence at the moment because you don't get the results,\" Stead said.\"But I can assure you that the faith is still with the group of these guys. We believe that these are our best cricketers, and we're going to put everything behind them to make sure we can go out there in Wellington and really some throw punches back at England as well,\" the New Zealand head coach said.\n",
      "COMMents\n",
      " SHARE\n",
      "\n",
      "Copy link\n",
      "\n",
      "Email\n",
      "\n",
      "Facebook\n",
      "\n",
      "Twitter\n",
      "\n",
      "Telegram\n",
      "\n",
      "LinkedIn\n",
      "\n",
      "WhatsApp\n",
      "\n",
      "Reddit\n",
      "\n",
      "Related Topics\n",
      "\n",
      "cricket\n",
      "\n",
      "/\n",
      "\n",
      "Test cricket\n",
      "\n"
     ]
    }
   ],
   "source": [
    "print(soup.find(\"div\",class_=\"articlebodycontent\").get_text())"
   ]
  },
  {
   "cell_type": "code",
   "execution_count": null,
   "metadata": {},
   "outputs": [],
   "source": []
  }
 ],
 "metadata": {
  "kernelspec": {
   "display_name": "nlp",
   "language": "python",
   "name": "python3"
  },
  "language_info": {
   "codemirror_mode": {
    "name": "ipython",
    "version": 3
   },
   "file_extension": ".py",
   "mimetype": "text/x-python",
   "name": "python",
   "nbconvert_exporter": "python",
   "pygments_lexer": "ipython3",
   "version": "3.10.9"
  },
  "orig_nbformat": 4,
  "vscode": {
   "interpreter": {
    "hash": "dea56c0b954ae67294c7ca9bf9c057fc748d59d22faedcf3e8a57e0a70ba84c3"
   }
  }
 },
 "nbformat": 4,
 "nbformat_minor": 2
}
